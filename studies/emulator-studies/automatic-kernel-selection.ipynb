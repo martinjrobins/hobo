{
 "cells": [
  {
   "cell_type": "code",
   "execution_count": 1,
   "metadata": {},
   "outputs": [],
   "source": [
    "import pints\n",
    "import pints.toy as toy\n",
    "import numpy as np\n",
    "import matplotlib.pyplot as plt\n",
    "import GPy\n",
    "\n",
    "import pints.emulator as emulator\n",
    "import pints.emulator.utils as emutils\n",
    "import pints.emulator.plot as emuplt\n",
    "\n",
    "import copy\n",
    "import operator\n",
    "\n",
    "%matplotlib inline"
   ]
  },
  {
   "cell_type": "code",
   "execution_count": 2,
   "metadata": {},
   "outputs": [],
   "source": [
    "# Create a model\n",
    "model = pints.toy.FitzhughNagumoModel()\n",
    "\n",
    "# Run a simulation\n",
    "real_parameters = [0.1, 0.5, 3]\n",
    "\n",
    "times = np.linspace(0, 20, 200)\n",
    "org_values = model.simulate(real_parameters, times)\n",
    "\n",
    "# take 5-10% of range as your std for noise\n",
    "Vs, Rs = org_values.reshape(2, 200)\n",
    "V_std = (Vs.max() - Vs.min()) * .1\n",
    "R_std = (Rs.max() - Rs.min()) * .1\n",
    "\n",
    "# Add noise\n",
    "noise = [V_std, R_std]\n",
    "values = org_values + np.random.normal(0, noise, org_values.shape)\n",
    "\n",
    "# Create an object with links to the model and time series\n",
    "problem = pints.MultiOutputProblem(model, times, values)\n",
    "\n",
    "# Create a log-likelihood function (adds an extra parameter!)\n",
    "real_log_likelihood = pints.KnownNoiseLogLikelihood(problem, noise)"
   ]
  },
  {
   "cell_type": "code",
   "execution_count": 3,
   "metadata": {},
   "outputs": [],
   "source": [
    "bounds = pints.Boundaries(lower = [0, 0, 2], upper = [1, 1, 4])\n",
    "log_prior = pints.UniformLogPrior(bounds)"
   ]
  },
  {
   "cell_type": "code",
   "execution_count": 4,
   "metadata": {},
   "outputs": [
    {
     "data": {
      "text/plain": [
       "array([-1073.31893811, -3633.51460843, -2842.15132316, -2369.01441131,\n",
       "       -2421.94542317])"
      ]
     },
     "execution_count": 4,
     "metadata": {},
     "output_type": "execute_result"
    }
   ],
   "source": [
    "input_parameters = log_prior.sample(500)\n",
    "likelihoods = np.apply_along_axis(real_log_likelihood, 1, input_parameters)\n",
    "likelihoods[:5]"
   ]
  },
  {
   "cell_type": "code",
   "execution_count": 5,
   "metadata": {},
   "outputs": [],
   "source": [
    "emu = emulator.GPEmulator(real_log_likelihood, input_parameters, \n",
    "                          likelihoods, \n",
    "                          normalize_input = True,\n",
    "                         )"
   ]
  },
  {
   "cell_type": "markdown",
   "metadata": {},
   "source": [
    "## Gradually trying bigger and bigger kernels"
   ]
  },
  {
   "cell_type": "code",
   "execution_count": 6,
   "metadata": {},
   "outputs": [],
   "source": [
    "def is_prod_kernel(kernel):\n",
    "    return type(kernel) == GPy.kern.src.prod.Prod\n",
    "\n",
    "def is_add_kernel(kernel):\n",
    "    return type(kernel) == GPy.kern.src.add.Add\n",
    "\n",
    "def kernel_to_string(kernel, ident = 0):\n",
    "    if kernel is None:\n",
    "        return \"\"\n",
    "    s = \"\"\n",
    "    tab = ident * \" \"\n",
    "    if is_prod_kernel(kernel) or is_add_kernel(kernel):\n",
    "        op = \"*\" if is_prod_kernel(kernel) else \"+\"\n",
    "        sub_kernels = []\n",
    "        for sub_kernel in kernel.parameters:\n",
    "            sub_kernels.append(kernel_to_string(sub_kernel, ident = ident + 1))\n",
    "        s = \"(\" + op + \"\\n\" + \"\\n\".join(sub_kernels) + \"\\n\" + tab + \")\"\n",
    "    else:\n",
    "        # get name of kernel without \"'>\" characters\n",
    "        name = str(type(kernel)).split(\".\")[-1]\n",
    "        name = name[:-2]\n",
    "\n",
    "        values = \",\".join([\"{:5f}\".format(x) for x in kernel])\n",
    "        s = name + \"(\" + values + \")\"\n",
    "    return \" \" * ident + s\n",
    "\n",
    "def get_total_variance(kernel):\n",
    "    ans = 0\n",
    "    if is_prod_kernel(kernel) or is_add_kernel(kernel):\n",
    "        for sub_kernel in kernel.parameters:\n",
    "            ans += get_total_variance(sub_kernel)\n",
    "    else:\n",
    "        try:\n",
    "            if hasattr(kernel, \"variance\"):\n",
    "                ans += kernel.variance\n",
    "            elif hasattr(kernel, \"variances\"):\n",
    "                ans += kernel.variances\n",
    "        except:\n",
    "            # some kernels don't have variance as parameter\n",
    "            ans += 0\n",
    "            \n",
    "    return ans\n",
    "        \n",
    "# function to get a measure of performance of kernel\n",
    "# marginal_log_likelihood - alpha * var\n",
    "def get_score(emu, alpha = 5):\n",
    "    marg_log_likelihood = emu.get_log_marginal_likelihood()\n",
    "    kern = emu.get_trained_kern()\n",
    "    var = get_total_variance(kern)\n",
    "    return marg_log_likelihood - alpha * var"
   ]
  },
  {
   "cell_type": "code",
   "execution_count": 7,
   "metadata": {},
   "outputs": [],
   "source": [
    "n_parameters = emu.n_parameters()\n",
    "\n",
    "base_kerns = [GPy.kern.RBF(n_parameters), \n",
    "              GPy.kern.RatQuad(n_parameters),\n",
    "              GPy.kern.Linear(n_parameters),\n",
    "              GPy.kern.PeriodicExponential(1),\n",
    "              GPy.kern.PeriodicMatern52(1),\n",
    "             ]\n",
    "\n",
    "max_depth = 10\n",
    "prev_kern = None\n",
    "#time_limit?\n",
    "#objective \n",
    "optimizer = 'lfgs'"
   ]
  },
  {
   "cell_type": "code",
   "execution_count": 8,
   "metadata": {
    "scrolled": false
   },
   "outputs": [
    {
     "name": "stdout",
     "output_type": "stream",
     "text": [
      "here\n",
      "  \u001b[1mrbf.       \u001b[0;0m  |               value  |  constraints  |  priors\n",
      "  \u001b[1mvariance   \u001b[0;0m  |  0.4995068677375631  |      +ve      |        \n",
      "  \u001b[1mlengthscale\u001b[0;0m  |  0.6797206343919966  |      +ve      |        \n",
      "Marginal log likelihood - alpha * var:  [-125.56366524]\n",
      "here\n",
      "  \u001b[1mRatQuad.   \u001b[0;0m  |               value  |  constraints  |  priors\n",
      "  \u001b[1mvariance   \u001b[0;0m  |    1.66431724152907  |      +ve      |        \n",
      "  \u001b[1mlengthscale\u001b[0;0m  |  0.4743807643693985  |      +ve      |        \n",
      "  \u001b[1mpower      \u001b[0;0m  |   0.144694383226453  |      +ve      |        \n",
      "Marginal log likelihood - alpha * var:  [-106.28290583]\n",
      "  \u001b[1mlinear.  \u001b[0;0m  |               value  |  constraints  |  priors\n",
      "  \u001b[1mvariances\u001b[0;0m  |  0.1943399333289162  |      +ve      |        \n",
      "Marginal log likelihood - alpha * var:  [-491.18789303]\n"
     ]
    },
    {
     "name": "stderr",
     "output_type": "stream",
     "text": [
      " /anaconda3/lib/python3.6/site-packages/GPy/core/gp.py:87: UserWarning:Your kernel has a different input dimension 1 then the given X dimension 3. Be very sure this is what you want and you have not forgotten to set the right input dimenion in your kernel\n"
     ]
    },
    {
     "name": "stdout",
     "output_type": "stream",
     "text": [
      "  \u001b[1mperiodic_exponential.\u001b[0;0m  |               value  |  constraints  |  priors\n",
      "  \u001b[1mvariance             \u001b[0;0m  |  7.0743645411186895  |      +ve      |        \n",
      "  \u001b[1mlengthscale          \u001b[0;0m  |  17.147405685748947  |      +ve      |        \n",
      "  \u001b[1mperiod               \u001b[0;0m  |   6.352038962705615  |      +ve      |        \n",
      "Marginal log likelihood - alpha * var:  [-563.40473541]\n",
      "  \u001b[1mperiodic_Matern52.\u001b[0;0m  |               value  |  constraints  |  priors\n",
      "  \u001b[1mvariance          \u001b[0;0m  |   18.71416523246459  |      +ve      |        \n",
      "  \u001b[1mlengthscale       \u001b[0;0m  |  3.2364500402034344  |      +ve      |        \n",
      "  \u001b[1mperiod            \u001b[0;0m  |   5.781161713255169  |      +ve      |        \n",
      "Marginal log likelihood - alpha * var:  [-618.8898742]\n",
      "Running L-BFGS-B (Scipy implementation) Code:\n",
      "  runtime   i      f              |g|        \n",
      "    00s04  0002   4.029069e+02   2.170879e+04 \n",
      "    00s17  0008   1.049281e+02   6.800572e+02 \n",
      "    00s19  0009   9.812666e+01   5.175732e+01 \n",
      "    00s35  0018   9.796132e+01   4.931623e-07 \n",
      "Runtime:     00s35\n",
      "Optimization status: Converged\n",
      "\n"
     ]
    },
    {
     "data": {
      "text/html": [
       "<style type=\"text/css\">\n",
       ".pd{\n",
       "    font-family: \"Courier New\", Courier, monospace !important;\n",
       "    width: 100%;\n",
       "    padding: 3px;\n",
       "}\n",
       "</style>\n",
       "\n",
       "<p class=pd>\n",
       "<b>Model</b>: GP regression<br>\n",
       "<b>Objective</b>: 97.96132116510657<br>\n",
       "<b>Number of Parameters</b>: 4<br>\n",
       "<b>Number of Optimization Parameters</b>: 4<br>\n",
       "<b>Updates</b>: True<br>\n",
       "</p>\n",
       "<style type=\"text/css\">\n",
       ".tg  {font-family:\"Courier New\", Courier, monospace !important;padding:2px 3px;word-break:normal;border-collapse:collapse;border-spacing:0;border-color:#DCDCDC;margin:0px auto;width:100%;}\n",
       ".tg td{font-family:\"Courier New\", Courier, monospace !important;font-weight:bold;color:#444;background-color:#F7FDFA;border-style:solid;border-width:1px;overflow:hidden;word-break:normal;border-color:#DCDCDC;}\n",
       ".tg th{font-family:\"Courier New\", Courier, monospace !important;font-weight:normal;color:#fff;background-color:#26ADE4;border-style:solid;border-width:1px;overflow:hidden;word-break:normal;border-color:#DCDCDC;}\n",
       ".tg .tg-left{font-family:\"Courier New\", Courier, monospace !important;font-weight:normal;text-align:left;}\n",
       ".tg .tg-center{font-family:\"Courier New\", Courier, monospace !important;font-weight:normal;text-align:center;}\n",
       ".tg .tg-right{font-family:\"Courier New\", Courier, monospace !important;font-weight:normal;text-align:right;}\n",
       "</style>\n",
       "<table class=\"tg\"><tr><th><b>  GP_regression.         </b></th><th><b>               value</b></th><th><b>constraints</b></th><th><b>priors</b></th></tr>\n",
       "<tr><td class=tg-left>  RatQuad.variance       </td><td class=tg-right>  1.6612898865203793</td><td class=tg-center>    +ve    </td><td class=tg-center>      </td></tr>\n",
       "<tr><td class=tg-left>  RatQuad.lengthscale    </td><td class=tg-right>  0.4744773822643596</td><td class=tg-center>    +ve    </td><td class=tg-center>      </td></tr>\n",
       "<tr><td class=tg-left>  RatQuad.power          </td><td class=tg-right> 0.14500841790406938</td><td class=tg-center>    +ve    </td><td class=tg-center>      </td></tr>\n",
       "<tr><td class=tg-left>  Gaussian_noise.variance</td><td class=tg-right>0.028244283224871738</td><td class=tg-center>    +ve    </td><td class=tg-center>      </td></tr>\n",
       "</table>"
      ],
      "text/plain": [
       "<GPy.models.gp_regression.GPRegression at 0x1133e1748>"
      ]
     },
     "execution_count": 8,
     "metadata": {},
     "output_type": "execute_result"
    }
   ],
   "source": [
    "#perform initial kernel selection\n",
    "max_score = -1000\n",
    "max_kern = None\n",
    "\n",
    "for kern in base_kerns:\n",
    "    emu.set_parameters(kernel = kern)\n",
    "    emu.fit(normalizer = True, messages = False)\n",
    "    score = get_score(emu)\n",
    "    \n",
    "    if score > max_score:\n",
    "        print('here')\n",
    "        max_score = score\n",
    "        max_kern = emu.get_trained_kern()\n",
    "        \n",
    "    print(emu.get_trained_kern())\n",
    "    print('Marginal log likelihood - alpha * var: ', score)\n",
    "\n",
    "emu.set_parameters(kernel = max_kern)\n",
    "emu.fit(normalizer = True)\n",
    "emu.get_gp()"
   ]
  },
  {
   "cell_type": "code",
   "execution_count": 9,
   "metadata": {
    "scrolled": false
   },
   "outputs": [
    {
     "name": "stdout",
     "output_type": "stream",
     "text": [
      "----------Depth 1----------\n",
      "  \u001b[1msum.               \u001b[0;0m  |                value  |  constraints  |  priors\n",
      "  \u001b[1mRatQuad.variance   \u001b[0;0m  |  0.19040567860439478  |      +ve      |        \n",
      "  \u001b[1mRatQuad.lengthscale\u001b[0;0m  |  0.42022418346424667  |      +ve      |        \n",
      "  \u001b[1mRatQuad.power      \u001b[0;0m  |   0.7775446542031264  |      +ve      |        \n",
      "  \u001b[1mrbf.variance       \u001b[0;0m  |   0.5697405353152224  |      +ve      |        \n",
      "  \u001b[1mrbf.lengthscale    \u001b[0;0m  |   1.1537920751913022  |      +ve      |        \n",
      "[-97.74605625]\n",
      "----------Depth 2----------\n",
      "  \u001b[1msum.               \u001b[0;0m  |                value  |  constraints  |  priors\n",
      "  \u001b[1mRatQuad.variance   \u001b[0;0m  |  0.11113629169310475  |      +ve      |        \n",
      "  \u001b[1mRatQuad.lengthscale\u001b[0;0m  |   0.4559298600528887  |      +ve      |        \n",
      "  \u001b[1mRatQuad.power      \u001b[0;0m  |   1.4306636754768813  |      +ve      |        \n",
      "  \u001b[1mrbf.variance       \u001b[0;0m  |  0.42689651676123425  |      +ve      |        \n",
      "  \u001b[1mrbf.lengthscale    \u001b[0;0m  |    0.963723059734677  |      +ve      |        \n",
      "  \u001b[1mlinear.variances   \u001b[0;0m  |  0.04251892175485914  |      +ve      |        \n",
      "[-96.41986711]\n",
      "----------Depth 3----------\n",
      "  \u001b[1msum.               \u001b[0;0m  |                 value  |  constraints  |  priors\n",
      "  \u001b[1mRatQuad.variance   \u001b[0;0m  |   0.11113274872407075  |      +ve      |        \n",
      "  \u001b[1mRatQuad.lengthscale\u001b[0;0m  |   0.45592014576445594  |      +ve      |        \n",
      "  \u001b[1mRatQuad.power      \u001b[0;0m  |     1.430653407445403  |      +ve      |        \n",
      "  \u001b[1mrbf.variance       \u001b[0;0m  |    0.4268925658089412  |      +ve      |        \n",
      "  \u001b[1mrbf.lengthscale    \u001b[0;0m  |    0.9637030545904272  |      +ve      |        \n",
      "  \u001b[1mlinear.variances   \u001b[0;0m  |   0.02233249598127281  |      +ve      |        \n",
      "  \u001b[1mlinear_1.variances \u001b[0;0m  |  0.020188004175843485  |      +ve      |        \n",
      "[-96.41983755]\n",
      "----------Depth 4----------\n"
     ]
    },
    {
     "name": "stderr",
     "output_type": "stream",
     "text": [
      " /anaconda3/lib/python3.6/site-packages/GPy/kern/src/periodic.py:40: RuntimeWarning:overflow encountered in cos\n",
      " /anaconda3/lib/python3.6/site-packages/GPy/kern/src/periodic.py:40: RuntimeWarning:invalid value encountered in cos\n"
     ]
    },
    {
     "name": "stdout",
     "output_type": "stream",
     "text": [
      "  \u001b[1msum.               \u001b[0;0m  |                 value  |  constraints  |  priors\n",
      "  \u001b[1mRatQuad.variance   \u001b[0;0m  |   0.11110849978895496  |      +ve      |        \n",
      "  \u001b[1mRatQuad.lengthscale\u001b[0;0m  |      0.45598227385762  |      +ve      |        \n",
      "  \u001b[1mRatQuad.power      \u001b[0;0m  |    1.4312747611342196  |      +ve      |        \n",
      "  \u001b[1mrbf.variance       \u001b[0;0m  |    0.4269287341591746  |      +ve      |        \n",
      "  \u001b[1mrbf.lengthscale    \u001b[0;0m  |    0.9637102936602474  |      +ve      |        \n",
      "  \u001b[1mlinear.variances   \u001b[0;0m  |   0.01470716804444929  |      +ve      |        \n",
      "  \u001b[1mlinear_1.variances \u001b[0;0m  |  0.013804258164515906  |      +ve      |        \n",
      "  \u001b[1mlinear_2.variances \u001b[0;0m  |  0.013996979179333414  |      +ve      |        \n",
      "[-96.41983675]\n",
      "----------Depth 5----------\n",
      "  \u001b[1msum.                            \u001b[0;0m  |                 value  |  constraints  |  priors\n",
      "  \u001b[1mRatQuad.variance                \u001b[0;0m  |   0.11111684176684784  |      +ve      |        \n",
      "  \u001b[1mRatQuad.lengthscale             \u001b[0;0m  |   0.45597911459686236  |      +ve      |        \n",
      "  \u001b[1mRatQuad.power                   \u001b[0;0m  |    1.4311059277969447  |      +ve      |        \n",
      "  \u001b[1mrbf.variance                    \u001b[0;0m  |   0.42686633243407307  |      +ve      |        \n",
      "  \u001b[1mrbf.lengthscale                 \u001b[0;0m  |    0.9636912561990832  |      +ve      |        \n",
      "  \u001b[1mlinear.variances                \u001b[0;0m  |  0.008666107944760556  |      +ve      |        \n",
      "  \u001b[1mlinear_1.variances              \u001b[0;0m  |  0.018331676525038407  |      +ve      |        \n",
      "  \u001b[1mlinear_2.variances              \u001b[0;0m  |  0.015535420270900945  |      +ve      |        \n",
      "  \u001b[1mperiodic_exponential.variance   \u001b[0;0m  |  5.79092160730949e-08  |      +ve      |        \n",
      "  \u001b[1mperiodic_exponential.lengthscale\u001b[0;0m  |    25.963624451087547  |      +ve      |        \n",
      "  \u001b[1mperiodic_exponential.period     \u001b[0;0m  |    6.6475968233290486  |      +ve      |        \n",
      "[-96.41969088]\n",
      "----------Depth 6----------\n",
      "  \u001b[1msum.                            \u001b[0;0m  |                  value  |  constraints  |  priors\n",
      "  \u001b[1mRatQuad.variance                \u001b[0;0m  |    0.11077937059819089  |      +ve      |        \n",
      "  \u001b[1mRatQuad.lengthscale             \u001b[0;0m  |     0.4568978313178597  |      +ve      |        \n",
      "  \u001b[1mRatQuad.power                   \u001b[0;0m  |     1.4401855059798463  |      +ve      |        \n",
      "  \u001b[1mrbf.variance                    \u001b[0;0m  |    0.21043994181506814  |      +ve      |        \n",
      "  \u001b[1mrbf.lengthscale                 \u001b[0;0m  |     0.9636088436651841  |      +ve      |        \n",
      "  \u001b[1mlinear.variances                \u001b[0;0m  |   0.008683763752196316  |      +ve      |        \n",
      "  \u001b[1mlinear_1.variances              \u001b[0;0m  |    0.01833104029235064  |      +ve      |        \n",
      "  \u001b[1mlinear_2.variances              \u001b[0;0m  |   0.015550573101089201  |      +ve      |        \n",
      "  \u001b[1mperiodic_exponential.variance   \u001b[0;0m  |  5.790912472950874e-08  |      +ve      |        \n",
      "  \u001b[1mperiodic_exponential.lengthscale\u001b[0;0m  |     25.963624511678276  |      +ve      |        \n",
      "  \u001b[1mperiodic_exponential.period     \u001b[0;0m  |      6.647595328951945  |      +ve      |        \n",
      "  \u001b[1mrbf_1.variance                  \u001b[0;0m  |    0.21657815143972065  |      +ve      |        \n",
      "  \u001b[1mrbf_1.lengthscale               \u001b[0;0m  |     0.9632977678290715  |      +ve      |        \n",
      "[-96.41892918]\n",
      "----------Depth 7----------\n"
     ]
    },
    {
     "name": "stderr",
     "output_type": "stream",
     "text": [
      " /anaconda3/lib/python3.6/site-packages/GPy/kern/src/periodic.py:100: RuntimeWarning:overflow encountered in true_divide\n"
     ]
    },
    {
     "name": "stdout",
     "output_type": "stream",
     "text": [
      "  \u001b[1msum.                            \u001b[0;0m  |                   value  |  constraints  |  priors\n",
      "  \u001b[1mRatQuad.variance                \u001b[0;0m  |    0.020045725208130163  |      +ve      |        \n",
      "  \u001b[1mRatQuad.lengthscale             \u001b[0;0m  |      26.126351078876823  |      +ve      |        \n",
      "  \u001b[1mRatQuad.power                   \u001b[0;0m  |      13913.944521420417  |      +ve      |        \n",
      "  \u001b[1mrbf.variance                    \u001b[0;0m  |     0.06598963369759965  |      +ve      |        \n",
      "  \u001b[1mrbf.lengthscale                 \u001b[0;0m  |     0.42276493651771135  |      +ve      |        \n",
      "  \u001b[1mlinear.variances                \u001b[0;0m  |   0.0042509223981147025  |      +ve      |        \n",
      "  \u001b[1mlinear_1.variances              \u001b[0;0m  |   6.680081506945678e-05  |      +ve      |        \n",
      "  \u001b[1mlinear_2.variances              \u001b[0;0m  |    0.037176105685885474  |      +ve      |        \n",
      "  \u001b[1mperiodic_exponential.variance   \u001b[0;0m  |  4.8576158538090956e-08  |      +ve      |        \n",
      "  \u001b[1mperiodic_exponential.lengthscale\u001b[0;0m  |      25.970374993027335  |      +ve      |        \n",
      "  \u001b[1mperiodic_exponential.period     \u001b[0;0m  |       6.479604139480671  |      +ve      |        \n",
      "  \u001b[1mrbf_1.variance                  \u001b[0;0m  |   1.579874273172156e-33  |      +ve      |        \n",
      "  \u001b[1mrbf_1.lengthscale               \u001b[0;0m  |  0.00035505664949646407  |      +ve      |        \n",
      "  \u001b[1mrbf_2.variance                  \u001b[0;0m  |       0.455962980630091  |      +ve      |        \n",
      "  \u001b[1mrbf_2.lengthscale               \u001b[0;0m  |      0.9673329114423074  |      +ve      |        \n",
      "[-96.26854124]\n",
      "----------Depth 8----------\n"
     ]
    },
    {
     "name": "stderr",
     "output_type": "stream",
     "text": [
      " /anaconda3/lib/python3.6/site-packages/paramz/transformations.py:111: RuntimeWarning:overflow encountered in expm1\n"
     ]
    },
    {
     "name": "stdout",
     "output_type": "stream",
     "text": [
      "  \u001b[1msum.                            \u001b[0;0m  |                   value  |  constraints  |  priors\n",
      "  \u001b[1mRatQuad.variance                \u001b[0;0m  |    0.020030328610323105  |      +ve      |        \n",
      "  \u001b[1mRatQuad.lengthscale             \u001b[0;0m  |        26.1254134800574  |      +ve      |        \n",
      "  \u001b[1mRatQuad.power                   \u001b[0;0m  |      13913.944536789184  |      +ve      |        \n",
      "  \u001b[1mrbf.variance                    \u001b[0;0m  |     0.06597718190860712  |      +ve      |        \n",
      "  \u001b[1mrbf.lengthscale                 \u001b[0;0m  |     0.42266000054337405  |      +ve      |        \n",
      "  \u001b[1mlinear.variances                \u001b[0;0m  |    0.039913133807537846  |      +ve      |        \n",
      "  \u001b[1mlinear_1.variances              \u001b[0;0m  |   7.019436785813107e-05  |      +ve      |        \n",
      "  \u001b[1mlinear_2.variances              \u001b[0;0m  |   0.0015366045036164372  |      +ve      |        \n",
      "  \u001b[1mperiodic_exponential.variance   \u001b[0;0m  |    4.85742556558384e-08  |      +ve      |        \n",
      "  \u001b[1mperiodic_exponential.lengthscale\u001b[0;0m  |      25.970376497660887  |      +ve      |        \n",
      "  \u001b[1mperiodic_exponential.period     \u001b[0;0m  |       6.479622807893424  |      +ve      |        \n",
      "  \u001b[1mrbf_1.variance                  \u001b[0;0m  |   1.579874273172156e-33  |      +ve      |        \n",
      "  \u001b[1mrbf_1.lengthscale               \u001b[0;0m  |  0.00035505664949646407  |      +ve      |        \n",
      "  \u001b[1mrbf_2.variance                  \u001b[0;0m  |      0.4558097811456946  |      +ve      |        \n",
      "  \u001b[1mrbf_2.lengthscale               \u001b[0;0m  |      0.9672912754883967  |      +ve      |        \n",
      "  \u001b[1mRatQuad_1.variance              \u001b[0;0m  |   3.854402611286094e-05  |      +ve      |        \n",
      "  \u001b[1mRatQuad_1.lengthscale           \u001b[0;0m  |       1.908680676713926  |      +ve      |        \n",
      "  \u001b[1mRatQuad_1.power                 \u001b[0;0m  |       4.764965920939125  |      +ve      |        \n",
      "[-96.26796584]\n",
      "----------Depth 9----------\n",
      "  \u001b[1msum.                            \u001b[0;0m  |                   value  |  constraints  |  priors\n",
      "  \u001b[1mRatQuad.variance                \u001b[0;0m  |     0.01999866393327406  |      +ve      |        \n",
      "  \u001b[1mRatQuad.lengthscale             \u001b[0;0m  |      26.110236587750705  |      +ve      |        \n",
      "  \u001b[1mRatQuad.power                   \u001b[0;0m  |      13913.944551143559  |      +ve      |        \n",
      "  \u001b[1mrbf.variance                    \u001b[0;0m  |     0.06600628775290972  |      +ve      |        \n",
      "  \u001b[1mrbf.lengthscale                 \u001b[0;0m  |     0.42256818722884465  |      +ve      |        \n",
      "  \u001b[1mlinear.variances                \u001b[0;0m  |    0.020176414507774243  |      +ve      |        \n",
      "  \u001b[1mlinear_1.variances              \u001b[0;0m  |    7.00932972011353e-05  |      +ve      |        \n",
      "  \u001b[1mlinear_2.variances              \u001b[0;0m  |   0.0014892775035031023  |      +ve      |        \n",
      "  \u001b[1mperiodic_exponential.variance   \u001b[0;0m  |  4.8574229632053205e-08  |      +ve      |        \n",
      "  \u001b[1mperiodic_exponential.lengthscale\u001b[0;0m  |       25.97037651823001  |      +ve      |        \n",
      "  \u001b[1mperiodic_exponential.period     \u001b[0;0m  |       6.479623111866698  |      +ve      |        \n",
      "  \u001b[1mrbf_1.variance                  \u001b[0;0m  |   1.579874273172156e-33  |      +ve      |        \n",
      "  \u001b[1mrbf_1.lengthscale               \u001b[0;0m  |  0.00035505664949646407  |      +ve      |        \n",
      "  \u001b[1mrbf_2.variance                  \u001b[0;0m  |      0.4558882842324955  |      +ve      |        \n",
      "  \u001b[1mrbf_2.lengthscale               \u001b[0;0m  |      0.9673508400017249  |      +ve      |        \n",
      "  \u001b[1mRatQuad_1.variance              \u001b[0;0m  |   3.854130888756975e-05  |      +ve      |        \n",
      "  \u001b[1mRatQuad_1.lengthscale           \u001b[0;0m  |      1.9085854172304098  |      +ve      |        \n",
      "  \u001b[1mRatQuad_1.power                 \u001b[0;0m  |       4.765013303071742  |      +ve      |        \n",
      "  \u001b[1mlinear_3.variances              \u001b[0;0m  |    0.019744913817140528  |      +ve      |        \n",
      "[-96.26815046]\n"
     ]
    }
   ],
   "source": [
    "depth = 1\n",
    "prev_max_kern = max_kern\n",
    "while depth < max_depth:\n",
    "    print(\"-\" * 10 + \"Depth \" + str(depth) + '-'*10)\n",
    "    \n",
    "    max_score = -1000\n",
    "    for op in [operator.add, operator.mul]:\n",
    "        for kern in base_kerns:\n",
    "            current_kern = op(prev_max_kern, kern)\n",
    "            emu.set_parameters(kernel = current_kern)\n",
    "            emu.fit(normalizer = True, messages = False)\n",
    "            score = get_score(emu)\n",
    "    \n",
    "            if score > max_score:\n",
    "                max_kern = emu.get_trained_kern()\n",
    "                max_score = score\n",
    "            \n",
    "    prev_max_kern = max_kern\n",
    "    print(max_kern)\n",
    "    print(max_score)\n",
    "    \n",
    "    depth += 1"
   ]
  },
  {
   "cell_type": "code",
   "execution_count": 10,
   "metadata": {},
   "outputs": [
    {
     "data": {
      "text/plain": [
       "array([0.58341252])"
      ]
     },
     "execution_count": 10,
     "metadata": {},
     "output_type": "execute_result"
    }
   ],
   "source": [
    "get_total_variance(prev_max_kern)"
   ]
  }
 ],
 "metadata": {
  "kernelspec": {
   "display_name": "Python 3",
   "language": "python",
   "name": "python3"
  },
  "language_info": {
   "codemirror_mode": {
    "name": "ipython",
    "version": 3
   },
   "file_extension": ".py",
   "mimetype": "text/x-python",
   "name": "python",
   "nbconvert_exporter": "python",
   "pygments_lexer": "ipython3",
   "version": "3.6.5"
  }
 },
 "nbformat": 4,
 "nbformat_minor": 2
}
