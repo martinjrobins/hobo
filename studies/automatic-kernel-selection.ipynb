{
 "cells": [
  {
   "cell_type": "code",
   "execution_count": 1,
   "metadata": {},
   "outputs": [],
   "source": [
    "import pints\n",
    "import pints.toy as toy\n",
    "import numpy as np\n",
    "import matplotlib.pyplot as plt\n",
    "import GPy\n",
    "\n",
    "import pints.emulator as emulator\n",
    "import pints.emulator.utils as emutils\n",
    "import pints.emulator.plot as emuplt\n",
    "\n",
    "import copy\n",
    "import operator\n",
    "\n",
    "%matplotlib inline"
   ]
  },
  {
   "cell_type": "code",
   "execution_count": 2,
   "metadata": {},
   "outputs": [],
   "source": [
    "# Create a model\n",
    "model = pints.toy.FitzhughNagumoModel()\n",
    "\n",
    "# Run a simulation\n",
    "real_parameters = [0.1, 0.5, 3]\n",
    "\n",
    "# Why time matters? How Euler/Runge-Kutta, stiff ode method\n",
    "\n",
    "times = np.linspace(0, 20, 200)\n",
    "org_values = model.simulate(real_parameters, times)\n",
    "\n",
    "# take 5-10% of range as your std for noise\n",
    "Vs, Rs = org_values.reshape(2, 200)\n",
    "V_std = (Vs.max() - Vs.min()) * .1\n",
    "R_std = (Rs.max() - Rs.min()) * .1\n",
    "\n",
    "# Add noise\n",
    "noise = [V_std, R_std]\n",
    "values = org_values + np.random.normal(0, noise, org_values.shape)\n",
    "\n",
    "# Create an object with links to the model and time series\n",
    "problem = pints.MultiOutputProblem(model, times, values)\n",
    "\n",
    "# Create a log-likelihood function (adds an extra parameter!)\n",
    "real_log_likelihood = pints.KnownNoiseLogLikelihood(problem, noise)"
   ]
  },
  {
   "cell_type": "code",
   "execution_count": 3,
   "metadata": {},
   "outputs": [],
   "source": [
    "bounds = pints.Boundaries(lower = [0, 0, 2], upper = [1, 1, 4])\n",
    "log_prior = pints.UniformLogPrior(bounds)"
   ]
  },
  {
   "cell_type": "code",
   "execution_count": 4,
   "metadata": {},
   "outputs": [
    {
     "data": {
      "text/plain": [
       "array([-1161.48272724, -4277.31589934, -2624.456531  , -2610.00693673,\n",
       "       -1296.64179098])"
      ]
     },
     "execution_count": 4,
     "metadata": {},
     "output_type": "execute_result"
    }
   ],
   "source": [
    "input_parameters = log_prior.sample(500)\n",
    "likelihoods = np.apply_along_axis(real_log_likelihood, 1, input_parameters)\n",
    "likelihoods[:5]"
   ]
  },
  {
   "cell_type": "code",
   "execution_count": 5,
   "metadata": {},
   "outputs": [],
   "source": [
    "emu = emulator.GPEmulator(real_log_likelihood, input_parameters, \n",
    "                          likelihoods, \n",
    "                          normalize_input = True,\n",
    "                         )"
   ]
  },
  {
   "cell_type": "markdown",
   "metadata": {},
   "source": [
    "## Gradually trying bigger and bigger kernels"
   ]
  },
  {
   "cell_type": "code",
   "execution_count": 95,
   "metadata": {},
   "outputs": [],
   "source": [
    "def is_prod_kernel(kernel):\n",
    "    return type(kernel) == GPy.kern.src.prod.Prod\n",
    "\n",
    "def is_add_kernel(kernel):\n",
    "    return type(kernel) == GPy.kern.src.add.Add\n",
    "\n",
    "def kernel_to_string(kernel, ident = 0):\n",
    "    if kernel is None:\n",
    "        return \"\"\n",
    "    s = \"\"\n",
    "    if is_prod_kernel(kernel) or is_add_kernel(kernel):\n",
    "        op = \"*\" if is_prod_kernel(kernel) else \"+\"\n",
    "        sub_kernels = []\n",
    "        for kern in kernel.parameters:\n",
    "            sub_kernels.append(kernel_to_string(kern, ident = ident + 1))\n",
    "        s = op + \"\\n(\" + \"\\n\".join(sub_kernels) + \"\\n)\"\n",
    "    else:\n",
    "        # get name of kernel without \"'>\" characters\n",
    "        name = str(type(kernel)).split(\".\")[-1]\n",
    "        name = name[:-2]\n",
    "\n",
    "        values = \",\".join([\"{:5f}\".format(x) for x in kernel])\n",
    "        s = name + \"(\" + values + \")\"\n",
    "    return \" \" * ident + s\n",
    "\n"
   ]
  },
  {
   "cell_type": "code",
   "execution_count": 6,
   "metadata": {},
   "outputs": [],
   "source": [
    "n_parameters = emu.n_parameters()\n",
    "\n",
    "base_kerns = [GPy.kern.RBF(n_parameters), \n",
    "              GPy.kern.RatQuad(n_parameters),\n",
    "              GPy.kern.Linear(n_parameters),\n",
    "              GPy.kern.PeriodicExponential(1),\n",
    "              GPy.kern.PeriodicMatern52(1),\n",
    "             ]\n",
    "\n",
    "max_depth = 10\n",
    "prev_kern = None\n",
    "#time_limit?\n",
    "#objective \n",
    "optimizer = 'lfgs'"
   ]
  },
  {
   "cell_type": "code",
   "execution_count": null,
   "metadata": {},
   "outputs": [],
   "source": [
    "def score(emu):\n",
    "    marg_log_likelihood = emu.get_log_marginal_likelihood()\n",
    "    marg_log_likelihood"
   ]
  },
  {
   "cell_type": "code",
   "execution_count": 7,
   "metadata": {
    "scrolled": false
   },
   "outputs": [
    {
     "name": "stdout",
     "output_type": "stream",
     "text": [
      "here\n",
      "  \u001b[1mrbf.       \u001b[0;0m  |               value  |  constraints  |  priors\n",
      "  \u001b[1mvariance   \u001b[0;0m  |  0.5543924450635684  |      +ve      |        \n",
      "  \u001b[1mlengthscale\u001b[0;0m  |  0.7609661405415382  |      +ve      |        \n",
      "Marginal log likelihood:  -131.23912806365405\n",
      "here\n",
      "  \u001b[1mRatQuad.   \u001b[0;0m  |                value  |  constraints  |  priors\n",
      "  \u001b[1mvariance   \u001b[0;0m  |   2.4457669097111077  |      +ve      |        \n",
      "  \u001b[1mlengthscale\u001b[0;0m  |   0.4907706901634047  |      +ve      |        \n",
      "  \u001b[1mpower      \u001b[0;0m  |  0.10568774374540395  |      +ve      |        \n",
      "Marginal log likelihood:  -110.93806084039551\n",
      "  \u001b[1mlinear.  \u001b[0;0m  |                value  |  constraints  |  priors\n",
      "  \u001b[1mvariances\u001b[0;0m  |  0.18129012527803479  |      +ve      |        \n",
      "Marginal log likelihood:  -527.0927529870244\n"
     ]
    },
    {
     "name": "stderr",
     "output_type": "stream",
     "text": [
      " /anaconda3/lib/python3.6/site-packages/GPy/core/gp.py:87: UserWarning:Your kernel has a different input dimension 1 then the given X dimension 3. Be very sure this is what you want and you have not forgotten to set the right input dimenion in your kernel\n"
     ]
    },
    {
     "name": "stdout",
     "output_type": "stream",
     "text": [
      "  \u001b[1mperiodic_exponential.\u001b[0;0m  |              value  |  constraints  |  priors\n",
      "  \u001b[1mvariance             \u001b[0;0m  |  6.033662452092788  |      +ve      |        \n",
      "  \u001b[1mlengthscale          \u001b[0;0m  |  19.50633749440024  |      +ve      |        \n",
      "  \u001b[1mperiod               \u001b[0;0m  |  6.168488846212168  |      +ve      |        \n",
      "Marginal log likelihood:  -575.2004516172092\n",
      "  \u001b[1mperiodic_Matern52.\u001b[0;0m  |               value  |  constraints  |  priors\n",
      "  \u001b[1mvariance          \u001b[0;0m  |  22387.888375562114  |      +ve      |        \n",
      "  \u001b[1mlengthscale       \u001b[0;0m  |   16.38033657734034  |      +ve      |        \n",
      "  \u001b[1mperiod            \u001b[0;0m  |   5.032300243844247  |      +ve      |        \n",
      "Marginal log likelihood:  -570.7384833621109\n",
      "Running L-BFGS-B (Scipy implementation) Code:\n",
      "  runtime   i      f              |g|        \n",
      "    00s15  0003   5.085148e+02   6.274940e+05 \n",
      "    00s18  0004   1.530997e+02   6.916331e+03 \n",
      "    00s72  0021   1.109381e+02   6.809699e-07 \n",
      "Runtime:     00s72\n",
      "Optimization status: Converged\n",
      "\n"
     ]
    },
    {
     "data": {
      "text/html": [
       "<style type=\"text/css\">\n",
       ".pd{\n",
       "    font-family: \"Courier New\", Courier, monospace !important;\n",
       "    width: 100%;\n",
       "    padding: 3px;\n",
       "}\n",
       "</style>\n",
       "\n",
       "<p class=pd>\n",
       "<b>Model</b>: GP regression<br>\n",
       "<b>Objective</b>: 110.93806368671952<br>\n",
       "<b>Number of Parameters</b>: 4<br>\n",
       "<b>Number of Optimization Parameters</b>: 4<br>\n",
       "<b>Updates</b>: True<br>\n",
       "</p>\n",
       "<style type=\"text/css\">\n",
       ".tg  {font-family:\"Courier New\", Courier, monospace !important;padding:2px 3px;word-break:normal;border-collapse:collapse;border-spacing:0;border-color:#DCDCDC;margin:0px auto;width:100%;}\n",
       ".tg td{font-family:\"Courier New\", Courier, monospace !important;font-weight:bold;color:#444;background-color:#F7FDFA;border-style:solid;border-width:1px;overflow:hidden;word-break:normal;border-color:#DCDCDC;}\n",
       ".tg th{font-family:\"Courier New\", Courier, monospace !important;font-weight:normal;color:#fff;background-color:#26ADE4;border-style:solid;border-width:1px;overflow:hidden;word-break:normal;border-color:#DCDCDC;}\n",
       ".tg .tg-left{font-family:\"Courier New\", Courier, monospace !important;font-weight:normal;text-align:left;}\n",
       ".tg .tg-center{font-family:\"Courier New\", Courier, monospace !important;font-weight:normal;text-align:center;}\n",
       ".tg .tg-right{font-family:\"Courier New\", Courier, monospace !important;font-weight:normal;text-align:right;}\n",
       "</style>\n",
       "<table class=\"tg\"><tr><th><b>  GP_regression.         </b></th><th><b>              value</b></th><th><b>constraints</b></th><th><b>priors</b></th></tr>\n",
       "<tr><td class=tg-left>  RatQuad.variance       </td><td class=tg-right> 2.4390610555134895</td><td class=tg-center>    +ve    </td><td class=tg-center>      </td></tr>\n",
       "<tr><td class=tg-left>  RatQuad.lengthscale    </td><td class=tg-right> 0.4908754951285556</td><td class=tg-center>    +ve    </td><td class=tg-center>      </td></tr>\n",
       "<tr><td class=tg-left>  RatQuad.power          </td><td class=tg-right>0.10601734409391593</td><td class=tg-center>    +ve    </td><td class=tg-center>      </td></tr>\n",
       "<tr><td class=tg-left>  Gaussian_noise.variance</td><td class=tg-right>0.03190094766754916</td><td class=tg-center>    +ve    </td><td class=tg-center>      </td></tr>\n",
       "</table>"
      ],
      "text/plain": [
       "<GPy.models.gp_regression.GPRegression at 0x1a07f0d4a8>"
      ]
     },
     "execution_count": 7,
     "metadata": {},
     "output_type": "execute_result"
    }
   ],
   "source": [
    "#perform initial kernel selection\n",
    "max_marg_log_likelihood = -1000\n",
    "max_kern = None\n",
    "\n",
    "for kern in base_kerns:\n",
    "    emu.set_parameters(kernel = kern)\n",
    "    emu.fit(normalizer = True, messages = False)\n",
    "    marg_log_likelihood = emu.get_log_marginal_likelihood()\n",
    "    \n",
    "    if marg_log_likelihood > max_marg_log_likelihood:\n",
    "        print('here')\n",
    "        max_marg_log_likelihood = marg_log_likelihood\n",
    "        max_kern = emu.get_trained_kern()\n",
    "    print(emu.get_trained_kern())\n",
    "    print('Marginal log likelihood: ', marg_log_likelihood)\n",
    "\n",
    "emu.set_parameters(kernel = max_kern)\n",
    "emu.fit(normalizer = True)\n",
    "emu.get_gp()"
   ]
  },
  {
   "cell_type": "code",
   "execution_count": 8,
   "metadata": {},
   "outputs": [
    {
     "name": "stdout",
     "output_type": "stream",
     "text": [
      "----------Depth 1----------\n"
     ]
    },
    {
     "name": "stderr",
     "output_type": "stream",
     "text": [
      " /anaconda3/lib/python3.6/site-packages/paramz/transformations.py:111: RuntimeWarning:overflow encountered in expm1\n"
     ]
    },
    {
     "name": "stdout",
     "output_type": "stream",
     "text": [
      "  \u001b[1mmul.                         \u001b[0;0m  |               value  |  constraints  |  priors\n",
      "  \u001b[1mRatQuad.variance             \u001b[0;0m  |   4.778426045178949  |      +ve      |        \n",
      "  \u001b[1mRatQuad.lengthscale          \u001b[0;0m  |  0.7934536794328351  |      +ve      |        \n",
      "  \u001b[1mRatQuad.power                \u001b[0;0m  |  0.3429140407963769  |      +ve      |        \n",
      "  \u001b[1mperiodic_Matern52.variance   \u001b[0;0m  |  22387.888731753745  |      +ve      |        \n",
      "  \u001b[1mperiodic_Matern52.lengthscale\u001b[0;0m  |  13.892681347289628  |      +ve      |        \n",
      "  \u001b[1mperiodic_Matern52.period     \u001b[0;0m  |   4.318229068337911  |      +ve      |        \n",
      "-89.68383872973828\n",
      "----------Depth 2----------\n",
      "  \u001b[1msum.                             \u001b[0;0m  |               value  |  constraints  |  priors\n",
      "  \u001b[1mmul.RatQuad.variance             \u001b[0;0m  |  17784.958846951333  |      +ve      |        \n",
      "  \u001b[1mmul.RatQuad.lengthscale          \u001b[0;0m  |   0.914156217342148  |      +ve      |        \n",
      "  \u001b[1mmul.RatQuad.power                \u001b[0;0m  |  1.5976068298105799  |      +ve      |        \n",
      "  \u001b[1mmul.periodic_Matern52.variance   \u001b[0;0m  |  22390.710351585032  |      +ve      |        \n",
      "  \u001b[1mmul.periodic_Matern52.lengthscale\u001b[0;0m  |   47.75763475283959  |      +ve      |        \n",
      "  \u001b[1mmul.periodic_Matern52.period     \u001b[0;0m  |   2.183867899194526  |      +ve      |        \n",
      "  \u001b[1mRatQuad.variance                 \u001b[0;0m  |  0.9913391624010313  |      +ve      |        \n",
      "  \u001b[1mRatQuad.lengthscale              \u001b[0;0m  |  1108.9340448104297  |      +ve      |        \n",
      "  \u001b[1mRatQuad.power                    \u001b[0;0m  |   492964.5100874186  |      +ve      |        \n",
      "-71.25169000631797\n",
      "----------Depth 3----------\n",
      "  \u001b[1mmul.                                 \u001b[0;0m  |               value  |  constraints  |  priors\n",
      "  \u001b[1msum.mul.RatQuad.variance             \u001b[0;0m  |  17784.989422281003  |      +ve      |        \n",
      "  \u001b[1msum.mul.RatQuad.lengthscale          \u001b[0;0m  |   11.88633137548916  |      +ve      |        \n",
      "  \u001b[1msum.mul.RatQuad.power                \u001b[0;0m  |    412.204350728345  |      +ve      |        \n",
      "  \u001b[1msum.mul.periodic_Matern52.variance   \u001b[0;0m  |   22390.73463674147  |      +ve      |        \n",
      "  \u001b[1msum.mul.periodic_Matern52.lengthscale\u001b[0;0m  |   10.42230751907396  |      +ve      |        \n",
      "  \u001b[1msum.mul.periodic_Matern52.period     \u001b[0;0m  |   1.882428535420061  |      +ve      |        \n",
      "  \u001b[1msum.RatQuad.variance                 \u001b[0;0m  |  1267.1344252691024  |      +ve      |        \n",
      "  \u001b[1msum.RatQuad.lengthscale              \u001b[0;0m  |  1144.0930604839934  |      +ve      |        \n",
      "  \u001b[1msum.RatQuad.power                    \u001b[0;0m  |   492964.4705146946  |      +ve      |        \n",
      "  \u001b[1mperiodic_Matern52.variance           \u001b[0;0m  |   22388.09446199598  |      +ve      |        \n",
      "  \u001b[1mperiodic_Matern52.lengthscale        \u001b[0;0m  |   63.17091778852543  |      +ve      |        \n",
      "  \u001b[1mperiodic_Matern52.period             \u001b[0;0m  |   5.760308630495764  |      +ve      |        \n",
      "-65.28652156894896\n",
      "----------Depth 4----------\n",
      "  \u001b[1mmul.                                 \u001b[0;0m  |               value  |  constraints  |  priors\n",
      "  \u001b[1msum.mul.RatQuad.variance             \u001b[0;0m  |  17784.985784072545  |      +ve      |        \n",
      "  \u001b[1msum.mul.RatQuad.lengthscale          \u001b[0;0m  |   9.319883436536756  |      +ve      |        \n",
      "  \u001b[1msum.mul.RatQuad.power                \u001b[0;0m  |  412.26311825758927  |      +ve      |        \n",
      "  \u001b[1msum.mul.periodic_Matern52.variance   \u001b[0;0m  |  22390.731747378344  |      +ve      |        \n",
      "  \u001b[1msum.mul.periodic_Matern52.lengthscale\u001b[0;0m  |   9.515337507050873  |      +ve      |        \n",
      "  \u001b[1msum.mul.periodic_Matern52.period     \u001b[0;0m  |  1.6663891266198878  |      +ve      |        \n",
      "  \u001b[1msum.RatQuad.variance                 \u001b[0;0m  |  1268.6843827193134  |      +ve      |        \n",
      "  \u001b[1msum.RatQuad.lengthscale              \u001b[0;0m  |  1075.4071696978172  |      +ve      |        \n",
      "  \u001b[1msum.RatQuad.power                    \u001b[0;0m  |   492964.5493612379  |      +ve      |        \n",
      "  \u001b[1mperiodic_Matern52.variance           \u001b[0;0m  |  22388.179316030186  |      +ve      |        \n",
      "  \u001b[1mperiodic_Matern52.lengthscale        \u001b[0;0m  |   34.08014711534004  |      +ve      |        \n",
      "  \u001b[1mperiodic_Matern52.period             \u001b[0;0m  |   7.137134108834455  |      +ve      |        \n",
      "  \u001b[1mperiodic_Matern52_1.variance         \u001b[0;0m  |   22387.97323043449  |      +ve      |        \n",
      "  \u001b[1mperiodic_Matern52_1.lengthscale      \u001b[0;0m  |  34.974721464890756  |      +ve      |        \n",
      "  \u001b[1mperiodic_Matern52_1.period           \u001b[0;0m  |   5.753493634307076  |      +ve      |        \n",
      "-64.1641534072221\n",
      "----------Depth 5----------\n",
      "  \u001b[1mmul.                                 \u001b[0;0m  |               value  |  constraints  |  priors\n",
      "  \u001b[1msum.mul.RatQuad.variance             \u001b[0;0m  |  17782.099774441427  |      +ve      |        \n",
      "  \u001b[1msum.mul.RatQuad.lengthscale          \u001b[0;0m  |   9.967621070809825  |      +ve      |        \n",
      "  \u001b[1msum.mul.RatQuad.power                \u001b[0;0m  |   474.2745612158749  |      +ve      |        \n",
      "  \u001b[1msum.mul.periodic_Matern52.variance   \u001b[0;0m  |  22388.439296604545  |      +ve      |        \n",
      "  \u001b[1msum.mul.periodic_Matern52.lengthscale\u001b[0;0m  |    8.40876982467625  |      +ve      |        \n",
      "  \u001b[1msum.mul.periodic_Matern52.period     \u001b[0;0m  |  1.6660249730916898  |      +ve      |        \n",
      "  \u001b[1msum.RatQuad.variance                 \u001b[0;0m  |  2351.8376554073934  |      +ve      |        \n",
      "  \u001b[1msum.RatQuad.lengthscale              \u001b[0;0m  |  1080.0573200822198  |      +ve      |        \n",
      "  \u001b[1msum.RatQuad.power                    \u001b[0;0m  |   492965.1388662239  |      +ve      |        \n",
      "  \u001b[1mperiodic_Matern52.variance           \u001b[0;0m  |    22447.2806104026  |      +ve      |        \n",
      "  \u001b[1mperiodic_Matern52.lengthscale        \u001b[0;0m  |   164.1217059712298  |      +ve      |        \n",
      "  \u001b[1mperiodic_Matern52.period             \u001b[0;0m  |   7.248694140196814  |      +ve      |        \n",
      "  \u001b[1mperiodic_Matern52_1.variance         \u001b[0;0m  |  22447.075007246305  |      +ve      |        \n",
      "  \u001b[1mperiodic_Matern52_1.lengthscale      \u001b[0;0m  |  108.73960457647243  |      +ve      |        \n",
      "  \u001b[1mperiodic_Matern52_1.period           \u001b[0;0m  |   5.845822727918598  |      +ve      |        \n",
      "  \u001b[1mrbf.variance                         \u001b[0;0m  |   313932.6909332329  |      +ve      |        \n",
      "  \u001b[1mrbf.lengthscale                      \u001b[0;0m  |  3562634.1580106355  |      +ve      |        \n",
      "-63.34016530222681\n",
      "----------Depth 6----------\n",
      "  \u001b[1msum.                                     \u001b[0;0m  |               value  |  constraints  |  priors\n",
      "  \u001b[1mmul.sum.mul.RatQuad.variance             \u001b[0;0m  |   17782.09649490909  |      +ve      |        \n",
      "  \u001b[1mmul.sum.mul.RatQuad.lengthscale          \u001b[0;0m  |   9.935764921409016  |      +ve      |        \n",
      "  \u001b[1mmul.sum.mul.RatQuad.power                \u001b[0;0m  |   474.2624181474049  |      +ve      |        \n",
      "  \u001b[1mmul.sum.mul.periodic_Matern52.variance   \u001b[0;0m  |   22388.43669168555  |      +ve      |        \n",
      "  \u001b[1mmul.sum.mul.periodic_Matern52.lengthscale\u001b[0;0m  |   8.181278926126422  |      +ve      |        \n",
      "  \u001b[1mmul.sum.mul.periodic_Matern52.period     \u001b[0;0m  |   1.665435176036407  |      +ve      |        \n",
      "  \u001b[1mmul.sum.RatQuad.variance                 \u001b[0;0m  |  2352.0084353832603  |      +ve      |        \n",
      "  \u001b[1mmul.sum.RatQuad.lengthscale              \u001b[0;0m  |   1042.695107117008  |      +ve      |        \n",
      "  \u001b[1mmul.sum.RatQuad.power                    \u001b[0;0m  |  492965.17977588583  |      +ve      |        \n",
      "  \u001b[1mmul.periodic_Matern52.variance           \u001b[0;0m  |  22447.295904894007  |      +ve      |        \n",
      "  \u001b[1mmul.periodic_Matern52.lengthscale        \u001b[0;0m  |  162.68600076867082  |      +ve      |        \n",
      "  \u001b[1mmul.periodic_Matern52.period             \u001b[0;0m  |   7.258627806084499  |      +ve      |        \n",
      "  \u001b[1mmul.periodic_Matern52_1.variance         \u001b[0;0m  |  22447.090301884724  |      +ve      |        \n",
      "  \u001b[1mmul.periodic_Matern52_1.lengthscale      \u001b[0;0m  |  113.13242745763682  |      +ve      |        \n",
      "  \u001b[1mmul.periodic_Matern52_1.period           \u001b[0;0m  |   5.851398151117604  |      +ve      |        \n",
      "  \u001b[1mmul.rbf.variance                         \u001b[0;0m  |  313932.69202394166  |      +ve      |        \n",
      "  \u001b[1mmul.rbf.lengthscale                      \u001b[0;0m  |  3562634.1580106355  |      +ve      |        \n",
      "  \u001b[1mperiodic_Matern52.variance               \u001b[0;0m  |    22387.8878709847  |      +ve      |        \n",
      "  \u001b[1mperiodic_Matern52.lengthscale            \u001b[0;0m  |    37.2340535579368  |      +ve      |        \n",
      "  \u001b[1mperiodic_Matern52.period                 \u001b[0;0m  |   9.695646026176256  |      +ve      |        \n",
      "-62.68635826309287\n",
      "----------Depth 7----------\n"
     ]
    },
    {
     "name": "stderr",
     "output_type": "stream",
     "text": [
      " /anaconda3/lib/python3.6/site-packages/GPy/kern/src/periodic.py:327: RuntimeWarning:overflow encountered in multiply\n",
      " /anaconda3/lib/python3.6/site-packages/GPy/kern/src/periodic.py:328: RuntimeWarning:invalid value encountered in add\n",
      " /anaconda3/lib/python3.6/site-packages/GPy/kern/src/periodic.py:40: RuntimeWarning:overflow encountered in cos\n",
      " /anaconda3/lib/python3.6/site-packages/GPy/kern/src/periodic.py:40: RuntimeWarning:invalid value encountered in cos\n",
      " /anaconda3/lib/python3.6/site-packages/paramz/transformations.py:108: RuntimeWarning:invalid value encountered in greater\n",
      " /anaconda3/lib/python3.6/site-packages/GPy/kern/src/stationary.py:637: RuntimeWarning:invalid value encountered in log1p\n",
      " /anaconda3/lib/python3.6/site-packages/paramz/transformations.py:113: RuntimeWarning:invalid value encountered in greater\n"
     ]
    },
    {
     "ename": "LinAlgError",
     "evalue": "not positive definite, even with jitter.",
     "output_type": "error",
     "traceback": [
      "\u001b[0;31m------------------------------------------------\u001b[0m",
      "\u001b[0;31mLinAlgError\u001b[0m    Traceback (most recent call last)",
      "\u001b[0;32m<ipython-input-8-fbc7f71961de>\u001b[0m in \u001b[0;36m<module>\u001b[0;34m()\u001b[0m\n\u001b[1;32m      9\u001b[0m             \u001b[0mcurrent_kern\u001b[0m \u001b[0;34m=\u001b[0m \u001b[0mop\u001b[0m\u001b[0;34m(\u001b[0m\u001b[0mprev_max_kern\u001b[0m\u001b[0;34m,\u001b[0m \u001b[0mkern\u001b[0m\u001b[0;34m)\u001b[0m\u001b[0;34m\u001b[0m\u001b[0m\n\u001b[1;32m     10\u001b[0m             \u001b[0memu\u001b[0m\u001b[0;34m.\u001b[0m\u001b[0mset_parameters\u001b[0m\u001b[0;34m(\u001b[0m\u001b[0mkernel\u001b[0m \u001b[0;34m=\u001b[0m \u001b[0mcurrent_kern\u001b[0m\u001b[0;34m)\u001b[0m\u001b[0;34m\u001b[0m\u001b[0m\n\u001b[0;32m---> 11\u001b[0;31m             \u001b[0memu\u001b[0m\u001b[0;34m.\u001b[0m\u001b[0mfit\u001b[0m\u001b[0;34m(\u001b[0m\u001b[0mnormalizer\u001b[0m \u001b[0;34m=\u001b[0m \u001b[0;32mTrue\u001b[0m\u001b[0;34m,\u001b[0m \u001b[0mmessages\u001b[0m \u001b[0;34m=\u001b[0m \u001b[0;32mFalse\u001b[0m\u001b[0;34m)\u001b[0m\u001b[0;34m\u001b[0m\u001b[0m\n\u001b[0m\u001b[1;32m     12\u001b[0m             \u001b[0mmarg_log_likelihood\u001b[0m \u001b[0;34m=\u001b[0m \u001b[0memu\u001b[0m\u001b[0;34m.\u001b[0m\u001b[0mget_log_marginal_likelihood\u001b[0m\u001b[0;34m(\u001b[0m\u001b[0;34m)\u001b[0m\u001b[0;34m\u001b[0m\u001b[0m\n\u001b[1;32m     13\u001b[0m \u001b[0;34m\u001b[0m\u001b[0m\n",
      "\u001b[0;32m~/Prog/pints/pints/emulator/_gp_emulator.py\u001b[0m in \u001b[0;36mfit\u001b[0;34m(self, optimize, messages, **kwargs)\u001b[0m\n\u001b[1;32m    101\u001b[0m \u001b[0;34m\u001b[0m\u001b[0m\n\u001b[1;32m    102\u001b[0m         \u001b[0;32mif\u001b[0m \u001b[0moptimize\u001b[0m\u001b[0;34m:\u001b[0m\u001b[0;34m\u001b[0m\u001b[0m\n\u001b[0;32m--> 103\u001b[0;31m             \u001b[0mself\u001b[0m\u001b[0;34m.\u001b[0m\u001b[0moptimize\u001b[0m\u001b[0;34m(\u001b[0m\u001b[0mmessages\u001b[0m\u001b[0;34m=\u001b[0m\u001b[0mmessages\u001b[0m\u001b[0;34m)\u001b[0m\u001b[0;34m\u001b[0m\u001b[0m\n\u001b[0m\u001b[1;32m    104\u001b[0m \u001b[0;34m\u001b[0m\u001b[0m\n\u001b[1;32m    105\u001b[0m     \u001b[0;32mdef\u001b[0m \u001b[0moptimize\u001b[0m\u001b[0;34m(\u001b[0m\u001b[0mself\u001b[0m\u001b[0;34m,\u001b[0m \u001b[0mmessages\u001b[0m\u001b[0;34m=\u001b[0m\u001b[0;32mTrue\u001b[0m\u001b[0;34m,\u001b[0m \u001b[0;34m**\u001b[0m\u001b[0mkwargs\u001b[0m\u001b[0;34m)\u001b[0m\u001b[0;34m:\u001b[0m\u001b[0;34m\u001b[0m\u001b[0m\n",
      "\u001b[0;32m~/Prog/pints/pints/emulator/_gp_emulator.py\u001b[0m in \u001b[0;36moptimize\u001b[0;34m(self, messages, **kwargs)\u001b[0m\n\u001b[1;32m    110\u001b[0m             \u001b[0mself\u001b[0m\u001b[0;34m.\u001b[0m\u001b[0m_gp\u001b[0m\u001b[0;34m.\u001b[0m\u001b[0moptimize\u001b[0m\u001b[0;34m(\u001b[0m\u001b[0mself\u001b[0m\u001b[0;34m.\u001b[0m\u001b[0m_optimizer\u001b[0m\u001b[0;34m,\u001b[0m \u001b[0mmessages\u001b[0m\u001b[0;34m=\u001b[0m\u001b[0mmessages\u001b[0m\u001b[0;34m,\u001b[0m \u001b[0;34m**\u001b[0m\u001b[0mkwargs\u001b[0m\u001b[0;34m)\u001b[0m\u001b[0;34m\u001b[0m\u001b[0m\n\u001b[1;32m    111\u001b[0m         \u001b[0;32melse\u001b[0m\u001b[0;34m:\u001b[0m\u001b[0;34m\u001b[0m\u001b[0m\n\u001b[0;32m--> 112\u001b[0;31m             \u001b[0mself\u001b[0m\u001b[0;34m.\u001b[0m\u001b[0m_gp\u001b[0m\u001b[0;34m.\u001b[0m\u001b[0moptimize\u001b[0m\u001b[0;34m(\u001b[0m\u001b[0mmessages\u001b[0m\u001b[0;34m=\u001b[0m\u001b[0mmessages\u001b[0m\u001b[0;34m,\u001b[0m \u001b[0;34m**\u001b[0m\u001b[0mkwargs\u001b[0m\u001b[0;34m)\u001b[0m\u001b[0;34m\u001b[0m\u001b[0m\n\u001b[0m\u001b[1;32m    113\u001b[0m \u001b[0;34m\u001b[0m\u001b[0m\n\u001b[1;32m    114\u001b[0m     \u001b[0;32mdef\u001b[0m \u001b[0msummary\u001b[0m\u001b[0;34m(\u001b[0m\u001b[0mself\u001b[0m\u001b[0;34m)\u001b[0m\u001b[0;34m:\u001b[0m\u001b[0;34m\u001b[0m\u001b[0m\n",
      "\u001b[0;32m/anaconda3/lib/python3.6/site-packages/GPy/core/gp.py\u001b[0m in \u001b[0;36moptimize\u001b[0;34m(self, optimizer, start, messages, max_iters, ipython_notebook, clear_after_finish, **kwargs)\u001b[0m\n\u001b[1;32m    653\u001b[0m         \u001b[0mself\u001b[0m\u001b[0;34m.\u001b[0m\u001b[0minference_method\u001b[0m\u001b[0;34m.\u001b[0m\u001b[0mon_optimization_start\u001b[0m\u001b[0;34m(\u001b[0m\u001b[0;34m)\u001b[0m\u001b[0;34m\u001b[0m\u001b[0m\n\u001b[1;32m    654\u001b[0m         \u001b[0;32mtry\u001b[0m\u001b[0;34m:\u001b[0m\u001b[0;34m\u001b[0m\u001b[0m\n\u001b[0;32m--> 655\u001b[0;31m             \u001b[0mret\u001b[0m \u001b[0;34m=\u001b[0m \u001b[0msuper\u001b[0m\u001b[0;34m(\u001b[0m\u001b[0mGP\u001b[0m\u001b[0;34m,\u001b[0m \u001b[0mself\u001b[0m\u001b[0;34m)\u001b[0m\u001b[0;34m.\u001b[0m\u001b[0moptimize\u001b[0m\u001b[0;34m(\u001b[0m\u001b[0moptimizer\u001b[0m\u001b[0;34m,\u001b[0m \u001b[0mstart\u001b[0m\u001b[0;34m,\u001b[0m \u001b[0mmessages\u001b[0m\u001b[0;34m,\u001b[0m \u001b[0mmax_iters\u001b[0m\u001b[0;34m,\u001b[0m \u001b[0mipython_notebook\u001b[0m\u001b[0;34m,\u001b[0m \u001b[0mclear_after_finish\u001b[0m\u001b[0;34m,\u001b[0m \u001b[0;34m**\u001b[0m\u001b[0mkwargs\u001b[0m\u001b[0;34m)\u001b[0m\u001b[0;34m\u001b[0m\u001b[0m\n\u001b[0m\u001b[1;32m    656\u001b[0m         \u001b[0;32mexcept\u001b[0m \u001b[0mKeyboardInterrupt\u001b[0m\u001b[0;34m:\u001b[0m\u001b[0;34m\u001b[0m\u001b[0m\n\u001b[1;32m    657\u001b[0m             \u001b[0mprint\u001b[0m\u001b[0;34m(\u001b[0m\u001b[0;34m\"KeyboardInterrupt caught, calling on_optimization_end() to round things up\"\u001b[0m\u001b[0;34m)\u001b[0m\u001b[0;34m\u001b[0m\u001b[0m\n",
      "\u001b[0;32m/anaconda3/lib/python3.6/site-packages/paramz/model.py\u001b[0m in \u001b[0;36moptimize\u001b[0;34m(self, optimizer, start, messages, max_iters, ipython_notebook, clear_after_finish, **kwargs)\u001b[0m\n\u001b[1;32m    113\u001b[0m         \u001b[0mself\u001b[0m\u001b[0;34m.\u001b[0m\u001b[0moptimization_runs\u001b[0m\u001b[0;34m.\u001b[0m\u001b[0mappend\u001b[0m\u001b[0;34m(\u001b[0m\u001b[0mopt\u001b[0m\u001b[0;34m)\u001b[0m\u001b[0;34m\u001b[0m\u001b[0m\n\u001b[1;32m    114\u001b[0m \u001b[0;34m\u001b[0m\u001b[0m\n\u001b[0;32m--> 115\u001b[0;31m         \u001b[0mself\u001b[0m\u001b[0;34m.\u001b[0m\u001b[0moptimizer_array\u001b[0m \u001b[0;34m=\u001b[0m \u001b[0mopt\u001b[0m\u001b[0;34m.\u001b[0m\u001b[0mx_opt\u001b[0m\u001b[0;34m\u001b[0m\u001b[0m\n\u001b[0m\u001b[1;32m    116\u001b[0m         \u001b[0;32mreturn\u001b[0m \u001b[0mopt\u001b[0m\u001b[0;34m\u001b[0m\u001b[0m\n\u001b[1;32m    117\u001b[0m \u001b[0;34m\u001b[0m\u001b[0m\n",
      "\u001b[0;32m/anaconda3/lib/python3.6/site-packages/paramz/parameterized.py\u001b[0m in \u001b[0;36m__setattr__\u001b[0;34m(self, name, val)\u001b[0m\n\u001b[1;32m    332\u001b[0m                 \u001b[0mparam\u001b[0m \u001b[0;34m=\u001b[0m \u001b[0mself\u001b[0m\u001b[0;34m.\u001b[0m\u001b[0mparameters\u001b[0m\u001b[0;34m[\u001b[0m\u001b[0mpnames\u001b[0m\u001b[0;34m.\u001b[0m\u001b[0mindex\u001b[0m\u001b[0;34m(\u001b[0m\u001b[0mname\u001b[0m\u001b[0;34m)\u001b[0m\u001b[0;34m]\u001b[0m\u001b[0;34m\u001b[0m\u001b[0m\n\u001b[1;32m    333\u001b[0m                 \u001b[0mparam\u001b[0m\u001b[0;34m[\u001b[0m\u001b[0;34m:\u001b[0m\u001b[0;34m]\u001b[0m \u001b[0;34m=\u001b[0m \u001b[0mval\u001b[0m\u001b[0;34m;\u001b[0m \u001b[0;32mreturn\u001b[0m\u001b[0;34m\u001b[0m\u001b[0m\n\u001b[0;32m--> 334\u001b[0;31m         \u001b[0;32mreturn\u001b[0m \u001b[0mobject\u001b[0m\u001b[0;34m.\u001b[0m\u001b[0m__setattr__\u001b[0m\u001b[0;34m(\u001b[0m\u001b[0mself\u001b[0m\u001b[0;34m,\u001b[0m \u001b[0mname\u001b[0m\u001b[0;34m,\u001b[0m \u001b[0mval\u001b[0m\u001b[0;34m)\u001b[0m\u001b[0;34m\u001b[0m\u001b[0m\n\u001b[0m\u001b[1;32m    335\u001b[0m \u001b[0;34m\u001b[0m\u001b[0m\n\u001b[1;32m    336\u001b[0m     \u001b[0;31m#===========================================================================\u001b[0m\u001b[0;34m\u001b[0m\u001b[0;34m\u001b[0m\u001b[0m\n",
      "\u001b[0;32m/anaconda3/lib/python3.6/site-packages/paramz/core/parameter_core.py\u001b[0m in \u001b[0;36moptimizer_array\u001b[0;34m(self, p)\u001b[0m\n\u001b[1;32m    122\u001b[0m \u001b[0;34m\u001b[0m\u001b[0m\n\u001b[1;32m    123\u001b[0m         \u001b[0mself\u001b[0m\u001b[0;34m.\u001b[0m\u001b[0m_optimizer_copy_transformed\u001b[0m \u001b[0;34m=\u001b[0m \u001b[0;32mFalse\u001b[0m\u001b[0;34m\u001b[0m\u001b[0m\n\u001b[0;32m--> 124\u001b[0;31m         \u001b[0mself\u001b[0m\u001b[0;34m.\u001b[0m\u001b[0mtrigger_update\u001b[0m\u001b[0;34m(\u001b[0m\u001b[0;34m)\u001b[0m\u001b[0;34m\u001b[0m\u001b[0m\n\u001b[0m\u001b[1;32m    125\u001b[0m \u001b[0;34m\u001b[0m\u001b[0m\n\u001b[1;32m    126\u001b[0m     \u001b[0;32mdef\u001b[0m \u001b[0m_trigger_params_changed\u001b[0m\u001b[0;34m(\u001b[0m\u001b[0mself\u001b[0m\u001b[0;34m,\u001b[0m \u001b[0mtrigger_parent\u001b[0m\u001b[0;34m=\u001b[0m\u001b[0;32mTrue\u001b[0m\u001b[0;34m)\u001b[0m\u001b[0;34m:\u001b[0m\u001b[0;34m\u001b[0m\u001b[0m\n",
      "\u001b[0;32m/anaconda3/lib/python3.6/site-packages/paramz/core/updateable.py\u001b[0m in \u001b[0;36mtrigger_update\u001b[0;34m(self, trigger_parent)\u001b[0m\n\u001b[1;32m     77\u001b[0m             \u001b[0;31m#print \"Warning: updates are off, updating the model will do nothing\"\u001b[0m\u001b[0;34m\u001b[0m\u001b[0;34m\u001b[0m\u001b[0m\n\u001b[1;32m     78\u001b[0m             \u001b[0;32mreturn\u001b[0m\u001b[0;34m\u001b[0m\u001b[0m\n\u001b[0;32m---> 79\u001b[0;31m         \u001b[0mself\u001b[0m\u001b[0;34m.\u001b[0m\u001b[0m_trigger_params_changed\u001b[0m\u001b[0;34m(\u001b[0m\u001b[0mtrigger_parent\u001b[0m\u001b[0;34m)\u001b[0m\u001b[0;34m\u001b[0m\u001b[0m\n\u001b[0m",
      "\u001b[0;32m/anaconda3/lib/python3.6/site-packages/paramz/core/parameter_core.py\u001b[0m in \u001b[0;36m_trigger_params_changed\u001b[0;34m(self, trigger_parent)\u001b[0m\n\u001b[1;32m    132\u001b[0m         \"\"\"\n\u001b[1;32m    133\u001b[0m         \u001b[0;34m[\u001b[0m\u001b[0mp\u001b[0m\u001b[0;34m.\u001b[0m\u001b[0m_trigger_params_changed\u001b[0m\u001b[0;34m(\u001b[0m\u001b[0mtrigger_parent\u001b[0m\u001b[0;34m=\u001b[0m\u001b[0;32mFalse\u001b[0m\u001b[0;34m)\u001b[0m \u001b[0;32mfor\u001b[0m \u001b[0mp\u001b[0m \u001b[0;32min\u001b[0m \u001b[0mself\u001b[0m\u001b[0;34m.\u001b[0m\u001b[0mparameters\u001b[0m \u001b[0;32mif\u001b[0m \u001b[0;32mnot\u001b[0m \u001b[0mp\u001b[0m\u001b[0;34m.\u001b[0m\u001b[0mis_fixed\u001b[0m\u001b[0;34m]\u001b[0m\u001b[0;34m\u001b[0m\u001b[0m\n\u001b[0;32m--> 134\u001b[0;31m         \u001b[0mself\u001b[0m\u001b[0;34m.\u001b[0m\u001b[0mnotify_observers\u001b[0m\u001b[0;34m(\u001b[0m\u001b[0;32mNone\u001b[0m\u001b[0;34m,\u001b[0m \u001b[0;32mNone\u001b[0m \u001b[0;32mif\u001b[0m \u001b[0mtrigger_parent\u001b[0m \u001b[0;32melse\u001b[0m \u001b[0;34m-\u001b[0m\u001b[0mnp\u001b[0m\u001b[0;34m.\u001b[0m\u001b[0minf\u001b[0m\u001b[0;34m)\u001b[0m\u001b[0;34m\u001b[0m\u001b[0m\n\u001b[0m\u001b[1;32m    135\u001b[0m \u001b[0;34m\u001b[0m\u001b[0m\n\u001b[1;32m    136\u001b[0m     \u001b[0;32mdef\u001b[0m \u001b[0m_size_transformed\u001b[0m\u001b[0;34m(\u001b[0m\u001b[0mself\u001b[0m\u001b[0;34m)\u001b[0m\u001b[0;34m:\u001b[0m\u001b[0;34m\u001b[0m\u001b[0m\n",
      "\u001b[0;32m/anaconda3/lib/python3.6/site-packages/paramz/core/observable.py\u001b[0m in \u001b[0;36mnotify_observers\u001b[0;34m(self, which, min_priority)\u001b[0m\n\u001b[1;32m     89\u001b[0m                 \u001b[0mwhich\u001b[0m \u001b[0;34m=\u001b[0m \u001b[0mself\u001b[0m\u001b[0;34m\u001b[0m\u001b[0m\n\u001b[1;32m     90\u001b[0m             \u001b[0;32mif\u001b[0m \u001b[0mmin_priority\u001b[0m \u001b[0;32mis\u001b[0m \u001b[0;32mNone\u001b[0m\u001b[0;34m:\u001b[0m\u001b[0;34m\u001b[0m\u001b[0m\n\u001b[0;32m---> 91\u001b[0;31m                 \u001b[0;34m[\u001b[0m\u001b[0mcallble\u001b[0m\u001b[0;34m(\u001b[0m\u001b[0mself\u001b[0m\u001b[0;34m,\u001b[0m \u001b[0mwhich\u001b[0m\u001b[0;34m=\u001b[0m\u001b[0mwhich\u001b[0m\u001b[0;34m)\u001b[0m \u001b[0;32mfor\u001b[0m \u001b[0m_\u001b[0m\u001b[0;34m,\u001b[0m \u001b[0m_\u001b[0m\u001b[0;34m,\u001b[0m \u001b[0mcallble\u001b[0m \u001b[0;32min\u001b[0m \u001b[0mself\u001b[0m\u001b[0;34m.\u001b[0m\u001b[0mobservers\u001b[0m\u001b[0;34m]\u001b[0m\u001b[0;34m\u001b[0m\u001b[0m\n\u001b[0m\u001b[1;32m     92\u001b[0m             \u001b[0;32melse\u001b[0m\u001b[0;34m:\u001b[0m\u001b[0;34m\u001b[0m\u001b[0m\n\u001b[1;32m     93\u001b[0m                 \u001b[0;32mfor\u001b[0m \u001b[0mp\u001b[0m\u001b[0;34m,\u001b[0m \u001b[0m_\u001b[0m\u001b[0;34m,\u001b[0m \u001b[0mcallble\u001b[0m \u001b[0;32min\u001b[0m \u001b[0mself\u001b[0m\u001b[0;34m.\u001b[0m\u001b[0mobservers\u001b[0m\u001b[0;34m:\u001b[0m\u001b[0;34m\u001b[0m\u001b[0m\n",
      "\u001b[0;32m/anaconda3/lib/python3.6/site-packages/paramz/core/observable.py\u001b[0m in \u001b[0;36m<listcomp>\u001b[0;34m(.0)\u001b[0m\n\u001b[1;32m     89\u001b[0m                 \u001b[0mwhich\u001b[0m \u001b[0;34m=\u001b[0m \u001b[0mself\u001b[0m\u001b[0;34m\u001b[0m\u001b[0m\n\u001b[1;32m     90\u001b[0m             \u001b[0;32mif\u001b[0m \u001b[0mmin_priority\u001b[0m \u001b[0;32mis\u001b[0m \u001b[0;32mNone\u001b[0m\u001b[0;34m:\u001b[0m\u001b[0;34m\u001b[0m\u001b[0m\n\u001b[0;32m---> 91\u001b[0;31m                 \u001b[0;34m[\u001b[0m\u001b[0mcallble\u001b[0m\u001b[0;34m(\u001b[0m\u001b[0mself\u001b[0m\u001b[0;34m,\u001b[0m \u001b[0mwhich\u001b[0m\u001b[0;34m=\u001b[0m\u001b[0mwhich\u001b[0m\u001b[0;34m)\u001b[0m \u001b[0;32mfor\u001b[0m \u001b[0m_\u001b[0m\u001b[0;34m,\u001b[0m \u001b[0m_\u001b[0m\u001b[0;34m,\u001b[0m \u001b[0mcallble\u001b[0m \u001b[0;32min\u001b[0m \u001b[0mself\u001b[0m\u001b[0;34m.\u001b[0m\u001b[0mobservers\u001b[0m\u001b[0;34m]\u001b[0m\u001b[0;34m\u001b[0m\u001b[0m\n\u001b[0m\u001b[1;32m     92\u001b[0m             \u001b[0;32melse\u001b[0m\u001b[0;34m:\u001b[0m\u001b[0;34m\u001b[0m\u001b[0m\n\u001b[1;32m     93\u001b[0m                 \u001b[0;32mfor\u001b[0m \u001b[0mp\u001b[0m\u001b[0;34m,\u001b[0m \u001b[0m_\u001b[0m\u001b[0;34m,\u001b[0m \u001b[0mcallble\u001b[0m \u001b[0;32min\u001b[0m \u001b[0mself\u001b[0m\u001b[0;34m.\u001b[0m\u001b[0mobservers\u001b[0m\u001b[0;34m:\u001b[0m\u001b[0;34m\u001b[0m\u001b[0m\n",
      "\u001b[0;32m/anaconda3/lib/python3.6/site-packages/paramz/core/parameter_core.py\u001b[0m in \u001b[0;36m_parameters_changed_notification\u001b[0;34m(self, me, which)\u001b[0m\n\u001b[1;32m    506\u001b[0m         \"\"\"\n\u001b[1;32m    507\u001b[0m         \u001b[0mself\u001b[0m\u001b[0;34m.\u001b[0m\u001b[0m_optimizer_copy_transformed\u001b[0m \u001b[0;34m=\u001b[0m \u001b[0;32mFalse\u001b[0m \u001b[0;31m# tells the optimizer array to update on next request\u001b[0m\u001b[0;34m\u001b[0m\u001b[0m\n\u001b[0;32m--> 508\u001b[0;31m         \u001b[0mself\u001b[0m\u001b[0;34m.\u001b[0m\u001b[0mparameters_changed\u001b[0m\u001b[0;34m(\u001b[0m\u001b[0;34m)\u001b[0m\u001b[0;34m\u001b[0m\u001b[0m\n\u001b[0m\u001b[1;32m    509\u001b[0m     \u001b[0;32mdef\u001b[0m \u001b[0m_pass_through_notify_observers\u001b[0m\u001b[0;34m(\u001b[0m\u001b[0mself\u001b[0m\u001b[0;34m,\u001b[0m \u001b[0mme\u001b[0m\u001b[0;34m,\u001b[0m \u001b[0mwhich\u001b[0m\u001b[0;34m=\u001b[0m\u001b[0;32mNone\u001b[0m\u001b[0;34m)\u001b[0m\u001b[0;34m:\u001b[0m\u001b[0;34m\u001b[0m\u001b[0m\n\u001b[1;32m    510\u001b[0m         \u001b[0mself\u001b[0m\u001b[0;34m.\u001b[0m\u001b[0mnotify_observers\u001b[0m\u001b[0;34m(\u001b[0m\u001b[0mwhich\u001b[0m\u001b[0;34m=\u001b[0m\u001b[0mwhich\u001b[0m\u001b[0;34m)\u001b[0m\u001b[0;34m\u001b[0m\u001b[0m\n",
      "\u001b[0;32m/anaconda3/lib/python3.6/site-packages/GPy/core/gp.py\u001b[0m in \u001b[0;36mparameters_changed\u001b[0;34m(self)\u001b[0m\n\u001b[1;32m    253\u001b[0m             \u001b[0mthis\u001b[0m \u001b[0mmethod\u001b[0m \u001b[0myourself\u001b[0m\u001b[0;34m,\u001b[0m \u001b[0mthere\u001b[0m \u001b[0mmay\u001b[0m \u001b[0mbe\u001b[0m \u001b[0munexpected\u001b[0m \u001b[0mconsequences\u001b[0m\u001b[0;34m.\u001b[0m\u001b[0;34m\u001b[0m\u001b[0m\n\u001b[1;32m    254\u001b[0m         \"\"\"\n\u001b[0;32m--> 255\u001b[0;31m         \u001b[0mself\u001b[0m\u001b[0;34m.\u001b[0m\u001b[0mposterior\u001b[0m\u001b[0;34m,\u001b[0m \u001b[0mself\u001b[0m\u001b[0;34m.\u001b[0m\u001b[0m_log_marginal_likelihood\u001b[0m\u001b[0;34m,\u001b[0m \u001b[0mself\u001b[0m\u001b[0;34m.\u001b[0m\u001b[0mgrad_dict\u001b[0m \u001b[0;34m=\u001b[0m \u001b[0mself\u001b[0m\u001b[0;34m.\u001b[0m\u001b[0minference_method\u001b[0m\u001b[0;34m.\u001b[0m\u001b[0minference\u001b[0m\u001b[0;34m(\u001b[0m\u001b[0mself\u001b[0m\u001b[0;34m.\u001b[0m\u001b[0mkern\u001b[0m\u001b[0;34m,\u001b[0m \u001b[0mself\u001b[0m\u001b[0;34m.\u001b[0m\u001b[0mX\u001b[0m\u001b[0;34m,\u001b[0m \u001b[0mself\u001b[0m\u001b[0;34m.\u001b[0m\u001b[0mlikelihood\u001b[0m\u001b[0;34m,\u001b[0m \u001b[0mself\u001b[0m\u001b[0;34m.\u001b[0m\u001b[0mY_normalized\u001b[0m\u001b[0;34m,\u001b[0m \u001b[0mself\u001b[0m\u001b[0;34m.\u001b[0m\u001b[0mmean_function\u001b[0m\u001b[0;34m,\u001b[0m \u001b[0mself\u001b[0m\u001b[0;34m.\u001b[0m\u001b[0mY_metadata\u001b[0m\u001b[0;34m)\u001b[0m\u001b[0;34m\u001b[0m\u001b[0m\n\u001b[0m\u001b[1;32m    256\u001b[0m         \u001b[0mself\u001b[0m\u001b[0;34m.\u001b[0m\u001b[0mlikelihood\u001b[0m\u001b[0;34m.\u001b[0m\u001b[0mupdate_gradients\u001b[0m\u001b[0;34m(\u001b[0m\u001b[0mself\u001b[0m\u001b[0;34m.\u001b[0m\u001b[0mgrad_dict\u001b[0m\u001b[0;34m[\u001b[0m\u001b[0;34m'dL_dthetaL'\u001b[0m\u001b[0;34m]\u001b[0m\u001b[0;34m)\u001b[0m\u001b[0;34m\u001b[0m\u001b[0m\n\u001b[1;32m    257\u001b[0m         \u001b[0mself\u001b[0m\u001b[0;34m.\u001b[0m\u001b[0mkern\u001b[0m\u001b[0;34m.\u001b[0m\u001b[0mupdate_gradients_full\u001b[0m\u001b[0;34m(\u001b[0m\u001b[0mself\u001b[0m\u001b[0;34m.\u001b[0m\u001b[0mgrad_dict\u001b[0m\u001b[0;34m[\u001b[0m\u001b[0;34m'dL_dK'\u001b[0m\u001b[0;34m]\u001b[0m\u001b[0;34m,\u001b[0m \u001b[0mself\u001b[0m\u001b[0;34m.\u001b[0m\u001b[0mX\u001b[0m\u001b[0;34m)\u001b[0m\u001b[0;34m\u001b[0m\u001b[0m\n",
      "\u001b[0;32m/anaconda3/lib/python3.6/site-packages/GPy/inference/latent_function_inference/exact_gaussian_inference.py\u001b[0m in \u001b[0;36minference\u001b[0;34m(self, kern, X, likelihood, Y, mean_function, Y_metadata, K, variance, Z_tilde)\u001b[0m\n\u001b[1;32m     48\u001b[0m         \u001b[0mdiag\u001b[0m\u001b[0;34m.\u001b[0m\u001b[0madd\u001b[0m\u001b[0;34m(\u001b[0m\u001b[0mKy\u001b[0m\u001b[0;34m,\u001b[0m \u001b[0mvariance\u001b[0m\u001b[0;34m+\u001b[0m\u001b[0;36m1e-8\u001b[0m\u001b[0;34m)\u001b[0m\u001b[0;34m\u001b[0m\u001b[0m\n\u001b[1;32m     49\u001b[0m \u001b[0;34m\u001b[0m\u001b[0m\n\u001b[0;32m---> 50\u001b[0;31m         \u001b[0mWi\u001b[0m\u001b[0;34m,\u001b[0m \u001b[0mLW\u001b[0m\u001b[0;34m,\u001b[0m \u001b[0mLWi\u001b[0m\u001b[0;34m,\u001b[0m \u001b[0mW_logdet\u001b[0m \u001b[0;34m=\u001b[0m \u001b[0mpdinv\u001b[0m\u001b[0;34m(\u001b[0m\u001b[0mKy\u001b[0m\u001b[0;34m)\u001b[0m\u001b[0;34m\u001b[0m\u001b[0m\n\u001b[0m\u001b[1;32m     51\u001b[0m \u001b[0;34m\u001b[0m\u001b[0m\n\u001b[1;32m     52\u001b[0m         \u001b[0malpha\u001b[0m\u001b[0;34m,\u001b[0m \u001b[0m_\u001b[0m \u001b[0;34m=\u001b[0m \u001b[0mdpotrs\u001b[0m\u001b[0;34m(\u001b[0m\u001b[0mLW\u001b[0m\u001b[0;34m,\u001b[0m \u001b[0mYYT_factor\u001b[0m\u001b[0;34m,\u001b[0m \u001b[0mlower\u001b[0m\u001b[0;34m=\u001b[0m\u001b[0;36m1\u001b[0m\u001b[0;34m)\u001b[0m\u001b[0;34m\u001b[0m\u001b[0m\n",
      "\u001b[0;32m/anaconda3/lib/python3.6/site-packages/GPy/util/linalg.py\u001b[0m in \u001b[0;36mpdinv\u001b[0;34m(A, *args)\u001b[0m\n\u001b[1;32m    202\u001b[0m \u001b[0;34m\u001b[0m\u001b[0m\n\u001b[1;32m    203\u001b[0m     \"\"\"\n\u001b[0;32m--> 204\u001b[0;31m     \u001b[0mL\u001b[0m \u001b[0;34m=\u001b[0m \u001b[0mjitchol\u001b[0m\u001b[0;34m(\u001b[0m\u001b[0mA\u001b[0m\u001b[0;34m,\u001b[0m \u001b[0;34m*\u001b[0m\u001b[0margs\u001b[0m\u001b[0;34m)\u001b[0m\u001b[0;34m\u001b[0m\u001b[0m\n\u001b[0m\u001b[1;32m    205\u001b[0m     \u001b[0mlogdet\u001b[0m \u001b[0;34m=\u001b[0m \u001b[0;36m2.\u001b[0m\u001b[0;34m*\u001b[0m\u001b[0mnp\u001b[0m\u001b[0;34m.\u001b[0m\u001b[0msum\u001b[0m\u001b[0;34m(\u001b[0m\u001b[0mnp\u001b[0m\u001b[0;34m.\u001b[0m\u001b[0mlog\u001b[0m\u001b[0;34m(\u001b[0m\u001b[0mnp\u001b[0m\u001b[0;34m.\u001b[0m\u001b[0mdiag\u001b[0m\u001b[0;34m(\u001b[0m\u001b[0mL\u001b[0m\u001b[0;34m)\u001b[0m\u001b[0;34m)\u001b[0m\u001b[0;34m)\u001b[0m\u001b[0;34m\u001b[0m\u001b[0m\n\u001b[1;32m    206\u001b[0m     \u001b[0mLi\u001b[0m \u001b[0;34m=\u001b[0m \u001b[0mdtrtri\u001b[0m\u001b[0;34m(\u001b[0m\u001b[0mL\u001b[0m\u001b[0;34m)\u001b[0m\u001b[0;34m\u001b[0m\u001b[0m\n",
      "\u001b[0;32m/anaconda3/lib/python3.6/site-packages/GPy/util/linalg.py\u001b[0m in \u001b[0;36mjitchol\u001b[0;34m(A, maxtries)\u001b[0m\n\u001b[1;32m     70\u001b[0m             \u001b[0;32mfinally\u001b[0m\u001b[0;34m:\u001b[0m\u001b[0;34m\u001b[0m\u001b[0m\n\u001b[1;32m     71\u001b[0m                 \u001b[0mnum_tries\u001b[0m \u001b[0;34m+=\u001b[0m \u001b[0;36m1\u001b[0m\u001b[0;34m\u001b[0m\u001b[0m\n\u001b[0;32m---> 72\u001b[0;31m         \u001b[0;32mraise\u001b[0m \u001b[0mlinalg\u001b[0m\u001b[0;34m.\u001b[0m\u001b[0mLinAlgError\u001b[0m\u001b[0;34m(\u001b[0m\u001b[0;34m\"not positive definite, even with jitter.\"\u001b[0m\u001b[0;34m)\u001b[0m\u001b[0;34m\u001b[0m\u001b[0m\n\u001b[0m\u001b[1;32m     73\u001b[0m     \u001b[0;32mimport\u001b[0m \u001b[0mtraceback\u001b[0m\u001b[0;34m\u001b[0m\u001b[0m\n\u001b[1;32m     74\u001b[0m     \u001b[0;32mtry\u001b[0m\u001b[0;34m:\u001b[0m \u001b[0;32mraise\u001b[0m\u001b[0;34m\u001b[0m\u001b[0m\n",
      "\u001b[0;31mLinAlgError\u001b[0m: not positive definite, even with jitter."
     ]
    }
   ],
   "source": [
    "depth = 1\n",
    "prev_max_kern = max_kern\n",
    "while depth < max_depth:\n",
    "    print(\"-\" * 10 + \"Depth \" + str(depth) + '-'*10)\n",
    "    \n",
    "    max_marg_log_likelihood = -1000\n",
    "    for op in [operator.add, operator.mul]:\n",
    "        for kern in base_kerns:\n",
    "            current_kern = op(prev_max_kern, kern)\n",
    "            emu.set_parameters(kernel = current_kern)\n",
    "            emu.fit(normalizer = True, messages = False)\n",
    "            marg_log_likelihood = emu.get_log_marginal_likelihood()\n",
    "    \n",
    "            if marg_log_likelihood > max_marg_log_likelihood:\n",
    "                max_kern = emu.get_trained_kern()\n",
    "                max_marg_log_likelihood = marg_log_likelihood\n",
    "            \n",
    "    prev_max_kern = max_kern\n",
    "    print(max_kern)\n",
    "    print(max_marg_log_likelihood)\n",
    "    \n",
    "    depth += 1"
   ]
  },
  {
   "cell_type": "code",
   "execution_count": 68,
   "metadata": {},
   "outputs": [],
   "source": [
    "k = prev_max_kern.parameters[1]"
   ]
  },
  {
   "cell_type": "code",
   "execution_count": 74,
   "metadata": {},
   "outputs": [
    {
     "data": {
      "text/plain": [
       "'22387.887871,37.234054,9.695646'"
      ]
     },
     "execution_count": 74,
     "metadata": {},
     "output_type": "execute_result"
    }
   ],
   "source": [
    "\",\".join([\"{:5f}\".format(x) for x in k])"
   ]
  },
  {
   "cell_type": "code",
   "execution_count": 96,
   "metadata": {
    "scrolled": false
   },
   "outputs": [
    {
     "name": "stdout",
     "output_type": "stream",
     "text": [
      "+\n",
      "(*\n",
      "(+\n",
      "(*\n",
      "(    RatQuad(17782.096495,9.935765,474.262418)\n",
      "    PeriodicMatern52(22388.436692,8.181279,1.665435)\n",
      ")\n",
      "   RatQuad(2352.008435,1042.695107,492965.179776)\n",
      ")\n",
      "  PeriodicMatern52(22447.295905,162.686001,7.258628)\n",
      "  PeriodicMatern52(22447.090302,113.132427,5.851398)\n",
      "  RBF(313932.692024,3562634.158011)\n",
      ")\n",
      " PeriodicMatern52(22387.887871,37.234054,9.695646)\n",
      ")\n"
     ]
    }
   ],
   "source": [
    "print(kernel_to_string(prev_max_kern))"
   ]
  }
 ],
 "metadata": {
  "kernelspec": {
   "display_name": "Python 3",
   "language": "python",
   "name": "python3"
  },
  "language_info": {
   "codemirror_mode": {
    "name": "ipython",
    "version": 3
   },
   "file_extension": ".py",
   "mimetype": "text/x-python",
   "name": "python",
   "nbconvert_exporter": "python",
   "pygments_lexer": "ipython3",
   "version": "3.6.5"
  }
 },
 "nbformat": 4,
 "nbformat_minor": 2
}
