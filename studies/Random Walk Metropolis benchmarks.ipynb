{
 "cells": [
  {
   "cell_type": "code",
   "execution_count": 1,
   "metadata": {},
   "outputs": [
    {
     "name": "stdout",
     "output_type": "stream",
     "text": [
      "/Volumes/OS X EL CAPITAN/Dropbox/Pints/Pints1/pints\n"
     ]
    }
   ],
   "source": [
    "cd '/Volumes/OS X EL CAPITAN/Dropbox/Pints/Pints1/pints'"
   ]
  },
  {
   "cell_type": "code",
   "execution_count": null,
   "metadata": {},
   "outputs": [],
   "source": [
    "from __future__ import print_function\n",
    "import pints\n",
    "import pints.toy as toy\n",
    "import pints.plot\n",
    "import numpy as np\n",
    "import matplotlib.pyplot as plt\n",
    "from joblib import Parallel, delayed\n",
    "import multiprocessing\n",
    "\n",
    "# Runs a single iteration of Random Walk Metropolis targeting toy_log_pdf\n",
    "def run_single_RWM(toy_log_pdf, num_iterations, x0):\n",
    "    # Create sampler\n",
    "    mcmc = pints.MCMCSampling(toy_log_pdf, 4, x0, method=pints.MetropolisRandomWalkMCMC)\n",
    "\n",
    "    # Set maximum number of iterations\n",
    "    mcmc.set_max_iterations(num_iterations)\n",
    "\n",
    "    # Disable logging\n",
    "    mcmc.set_log_to_screen(False)\n",
    "\n",
    "    # Number of chains\n",
    "    num_chains = 4\n",
    "    \n",
    "    # Run!\n",
    "    chains = mcmc.run()\n",
    "    \n",
    "    # Discard warm up\n",
    "    chains = chains[:, int(num_iterations / 2.0):, :]\n",
    "    \n",
    "    # Calculate covariance matrix\n",
    "    result_object = pints._mcmc._result.McmcResultObject(chains)\n",
    "    cov_est = np.cov(result_object.extract_all().T)\n",
    "    \n",
    "    # Compare with true\n",
    "    cov_true = log_pdf.covariance_matrix()\n",
    "    error = np.linalg.norm(toy_log_pdf.covariance_matrix() - cov_est)\n",
    "    \n",
    "    return error\n",
    "\n",
    "def wrapper(i):\n",
    "    return run_single_RWM(log_pdf, 8000, lX0[i])\n",
    "\n",
    "num_iterates = 10\n",
    "num_cores = 10\n",
    "inputs = np.arange(num_iterates)\n",
    "\n",
    "# Create X0 outside of parallelisation otherwise joblib uses same seed in all child processes\n",
    "def create_x0(num_iterates, dimension, extremum):\n",
    "    lX0 = []\n",
    "    for i in range(num_iterates):\n",
    "        lX0.append(np.random.uniform(np.full(dimension, -1*extremum), np.full(dimension, extremum),size=(4, dimension)))\n",
    "    return lX0"
   ]
  },
  {
   "cell_type": "markdown",
   "metadata": {},
   "source": [
    "# 3D normal with correlation between dimensions of 0.5"
   ]
  },
  {
   "cell_type": "code",
   "execution_count": null,
   "metadata": {},
   "outputs": [],
   "source": [
    "log_pdf = toy.HighDimensionalNormalLogPDF(dimension=3,correlation=0.5)\n",
    "lX0 = create_x0(num_iterates, 3, 8)\n",
    "results_3_low = Parallel(n_jobs=num_cores)(delayed(wrapper)(i) for i in inputs)\n",
    "plt.hist(results_3_low)\n",
    "plt.xlabel('Error')\n",
    "plt.ylabel('Count')\n",
    "plt.show()\n",
    "np.savetxt(\"RWM_error_3d_normal_low.csv\", results_3_low, delimiter=\",\")"
   ]
  },
  {
   "cell_type": "markdown",
   "metadata": {},
   "source": [
    "# 3D normal with correlation = 0.95"
   ]
  },
  {
   "cell_type": "code",
   "execution_count": null,
   "metadata": {},
   "outputs": [],
   "source": [
    "log_pdf = toy.HighDimensionalNormalLogPDF(dimension=3,correlation=0.95)\n",
    "lX0 = create_x0(num_iterates, 3, 8)\n",
    "results_3_high = Parallel(n_jobs=num_cores)(delayed(wrapper)(i) for i in inputs)\n",
    "plt.hist(results_3_high)\n",
    "plt.xlabel('Error')\n",
    "plt.ylabel('Count')\n",
    "plt.show()\n",
    "np.savetxt(\"RWM_error_3d_normal_high.csv\", results_3_high, delimiter=\",\")"
   ]
  },
  {
   "cell_type": "markdown",
   "metadata": {},
   "source": [
    "# 6D normal with correlation = 0.5"
   ]
  },
  {
   "cell_type": "code",
   "execution_count": null,
   "metadata": {},
   "outputs": [],
   "source": [
    "log_pdf = toy.HighDimensionalNormalLogPDF(dimension=6,correlation=0.5)\n",
    "lX0 = create_x0(num_iterates, 6, 8)\n",
    "results_6_low = Parallel(n_jobs=num_cores)(delayed(wrapper)(i) for i in inputs)\n",
    "plt.hist(results_6_low)\n",
    "plt.xlabel('Error')\n",
    "plt.ylabel('Count')\n",
    "plt.show()\n",
    "np.savetxt(\"RWM_error_6d_normal_low.csv\", results_6_low, delimiter=\",\")"
   ]
  },
  {
   "cell_type": "markdown",
   "metadata": {},
   "source": [
    "# 6D normal with correlation = 0.95"
   ]
  },
  {
   "cell_type": "code",
   "execution_count": null,
   "metadata": {},
   "outputs": [],
   "source": [
    "log_pdf = toy.HighDimensionalNormalLogPDF(dimension=6,correlation=0.95)\n",
    "lX0 = create_x0(num_iterates, 6, 8)\n",
    "results_6_high = Parallel(n_jobs=num_cores)(delayed(wrapper)(i) for i in inputs)\n",
    "plt.hist(results_6_high)\n",
    "plt.xlabel('Error')\n",
    "plt.ylabel('Count')\n",
    "plt.show()\n",
    "np.savetxt(\"RWM_error_6d_normal_high.csv\", results_6_high, delimiter=\",\")"
   ]
  }
 ],
 "metadata": {
  "kernelspec": {
   "display_name": "Python 2",
   "language": "python",
   "name": "python2"
  },
  "language_info": {
   "codemirror_mode": {
    "name": "ipython",
    "version": 2
   },
   "file_extension": ".py",
   "mimetype": "text/x-python",
   "name": "python",
   "nbconvert_exporter": "python",
   "pygments_lexer": "ipython2",
   "version": "2.7.14"
  }
 },
 "nbformat": 4,
 "nbformat_minor": 2
}
