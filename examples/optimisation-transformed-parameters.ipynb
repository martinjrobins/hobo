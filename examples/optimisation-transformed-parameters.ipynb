{
 "cells": [
  {
   "cell_type": "markdown",
   "metadata": {},
   "source": [
    "# Optimisation: Using Transformed Parameters\n",
    "\n",
    "This example shows you how to run a global optimisation with a transformed parameter space.\n",
    "\n",
    "\n",
    "First we will create a toy model which implements the logistic model."
   ]
  },
  {
   "cell_type": "code",
   "execution_count": 1,
   "metadata": {},
   "outputs": [],
   "source": [
    "from __future__ import print_function\n",
    "import pints\n",
    "import pints.toy as toy\n",
    "import numpy as np\n",
    "import matplotlib.pyplot as pl\n",
    "import math\n",
    "\n",
    "model = toy.LogisticModel()"
   ]
  },
  {
   "cell_type": "markdown",
   "metadata": {},
   "source": [
    "The parameters for the toy logistic model are $[r, K]$, where $r$ is the rate and $K$ is the carrying capacity. We will create a wrapper pints model that assumes that the parameters are given as $(r, \\log(K)]$"
   ]
  },
  {
   "cell_type": "code",
   "execution_count": 2,
   "metadata": {},
   "outputs": [],
   "source": [
    "class TransformedModel(pints.ForwardModel):\n",
    "    def __init__(self, model):\n",
    "        self._model = model\n",
    "    def dimension(self):\n",
    "        return self._model.dimension()\n",
    "    def simulate(self, parameters, times):\n",
    "        transformed_parameters = [parameters[0], math.exp(parameters[1])]\n",
    "        return self._model.simulate(transformed_parameters,times)\n",
    "\n",
    "transformed_model = TransformedModel(model)"
   ]
  },
  {
   "cell_type": "markdown",
   "metadata": {},
   "source": [
    "Now that we have our transformed model, we can use it in combination with all of pints' optimisation and inference algorithms. For now, we will use it to fit simulated data using CMA-ES:"
   ]
  },
  {
   "cell_type": "code",
   "execution_count": 3,
   "metadata": {},
   "outputs": [
    {
     "name": "stdout",
     "output_type": "stream",
     "text": [
      "Using Exponential Natural Evolution Strategy (xNES)\n",
      "Running in sequential mode.\n",
      "Population size: 6\n",
      "0: 34593168.8587\n",
      "1: 34554342.7334\n",
      "2: 34554342.7334\n",
      "3: 34554342.7334\n",
      "20: 15733784.016\n",
      "40: 101979.143186\n",
      "60: 91265.9864561\n",
      "80: 91264.4765664\n",
      "100: 91264.4764194\n",
      "120: 91264.4764194\n",
      "140: 91264.4764194\n",
      "160: 91264.4764194\n",
      "180: 91264.4764194\n",
      "200: 91264.4764194\n",
      "220: 91264.4764194\n",
      "240: 91264.4764194\n",
      "260: 91264.4764194\n",
      "280: 91264.4764194\n",
      "300: 91264.4764194\n",
      "320: 91264.4764194\n",
      "340: 91264.4764194\n",
      "360: 91264.4764194\n",
      "380: 91264.4764194\n",
      "400: 91264.4764194\n",
      "420: 91264.4764194\n",
      "440: 91264.4764194\n",
      "460: 91264.4764194\n",
      "480: 91264.4764194\n",
      "Halting: No significant change for 200 iterations.\n",
      "492: 91264.4764194\n",
      "Score at true solution: \n",
      "91268.1715706\n",
      "Found solution:          True parameters:\n",
      " 1.49998256485711148e-02     1.49999999999999994e-02\n",
      " 6.00021127616998839e+00     6.00000000000000000e+00\n"
     ]
    },
    {
     "data": {
      "image/png": "[encoded data removed]",
      "text/plain": [
       "<matplotlib.figure.Figure at 0x7f977d01e7d0>"
      ]
     },
     "metadata": {},
     "output_type": "display_data"
    }
   ],
   "source": [
    "# Create some toy data\n",
    "real_parameters = [0.015, 6]\n",
    "times = np.linspace(0, 1000, 1000)\n",
    "values = transformed_model.simulate(real_parameters, times)\n",
    "\n",
    "# Add noise\n",
    "values += np.random.normal(0, 10, values.shape)\n",
    "\n",
    "# Create an object with links to the model and time series\n",
    "problem = pints.SingleSeriesProblem(transformed_model, times, values)\n",
    "\n",
    "# Select a score function\n",
    "score = pints.SumOfSquaresError(problem)\n",
    "\n",
    "# Select some boundaries\n",
    "boundaries = pints.Boundaries([0, -6.0], [0.03, 20.0])\n",
    "\n",
    "# Perform an optimization with boundaries and hints\n",
    "x0 = 0.01,5.0\n",
    "sigma0 = [0.01, 2.0]\n",
    "found_parameters, found_value = pints.optimise(\n",
    "    score,\n",
    "    x0,\n",
    "    sigma0,\n",
    "    boundaries,\n",
    "    method=pints.CMAES,\n",
    ")\n",
    "\n",
    "# Show score of true solution\n",
    "print('Score at true solution: ')\n",
    "print(score(real_parameters))\n",
    "\n",
    "# Compare parameters with original\n",
    "print('Found solution:          True parameters:' )\n",
    "for k, x in enumerate(found_parameters):\n",
    "    print(pints.strfloat(x) + '    ' + pints.strfloat(real_parameters[k]))\n",
    "\n",
    "# Show quality of fit\n",
    "pl.figure()\n",
    "pl.xlabel('Time')\n",
    "pl.ylabel('Value')\n",
    "pl.plot(times, values, label='Nosiy data')\n",
    "pl.plot(times, problem.evaluate(found_parameters), label='Fit')\n",
    "pl.legend()\n",
    "pl.show()"
   ]
  }
 ],
 "metadata": {
  "kernelspec": {
   "display_name": "Python 2",
   "language": "python",
   "name": "python2"
  },
  "language_info": {
   "codemirror_mode": {
    "name": "ipython",
    "version": 2
   },
   "file_extension": ".py",
   "mimetype": "text/x-python",
   "name": "python",
   "nbconvert_exporter": "python",
   "pygments_lexer": "ipython2",
   "version": "2.7.14"
  }
 },
 "nbformat": 4,
 "nbformat_minor": 2
}
