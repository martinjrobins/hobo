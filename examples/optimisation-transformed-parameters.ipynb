{
 "cells": [
  {
   "cell_type": "markdown",
   "metadata": {},
   "source": [
    "# Optimisation: Using Transformed Parameters\n",
    "\n",
    "This example shows you how to run a global optimisation with a transformed parameter space.\n",
    "\n",
    "\n",
    "First we will create a toy model which implements the logistic model."
   ]
  },
  {
   "cell_type": "code",
   "execution_count": 5,
   "metadata": {},
   "outputs": [],
   "source": [
    "from __future__ import print_function\n",
    "import pints\n",
    "import pints.toy as toy\n",
    "import numpy as np\n",
    "import matplotlib.pyplot as pl\n",
    "import math\n",
    "\n",
    "model = toy.LogisticModel()"
   ]
  },
  {
   "cell_type": "markdown",
   "metadata": {},
   "source": [
    "The parameters for the toy logistic model are $[r, K]$, where $r$ is the rate and $K$ is the carrying capacity. We will create a wrapper pints model that assumes that the parameters are given as $(r, \\log(K)]$"
   ]
  },
  {
   "cell_type": "code",
   "execution_count": 6,
   "metadata": {},
   "outputs": [],
   "source": [
    "class TransformedModel(pints.ForwardModel):\n",
    "    def __init__(self, model):\n",
    "        self._model = model\n",
    "    def dimension(self):\n",
    "        return self._model.dimension()\n",
    "    def simulate(self, parameters, times):\n",
    "        transformed_parameters = [parameters[0],math.exp(parameters[1])]\n",
    "        return self._model.simulate(transformed_parameters,times)\n",
    "\n",
    "transformed_model = TransformedModel(model)"
   ]
  },
  {
   "cell_type": "markdown",
   "metadata": {},
   "source": [
    "Now that we have our transformed model, we can use it in combination with all of pints' optimisation and inference algorithms. For now, we will use it to fit simulated data using CMA-ES:"
   ]
  },
  {
   "cell_type": "code",
   "execution_count": 7,
   "metadata": {},
   "outputs": [
    {
     "name": "stdout",
     "output_type": "stream",
     "text": [
      "Population size 8\n",
      "(4_w,8)-aCMA-ES (mu_w=2.6,w_1=52%) in dimension 2 (seed=885071, Tue Jan 23 12:21:04 2018)\n",
      "Iterat #Fevals   function value  axis ratio  sigma  min&max std  t[m:s]\n",
      "    1      8 3.483658366921819e+07 1.0e+00 1.18e-02  1e-02  1e-02 0:00.0\n",
      "    2     16 3.457529456545197e+07 1.4e+00 1.46e-02  1e-02  2e-02 0:00.0\n",
      "    3     24 3.467748840943466e+07 2.1e+00 1.72e-02  2e-02  2e-02 0:00.0\n",
      "  100    800 9.205442081373440e+04 6.7e+01 1.61e-02  2e-06  1e-04 0:00.5\n",
      "  162   1296 9.205412074769035e+04 5.3e+00 2.34e-06  2e-12  8e-12 0:00.8\n",
      "termination on tolx=1e-11\n",
      "final/bestever f-value = 9.205412e+04 9.205412e+04\n",
      "incumbent solution: [0.014974077421399631, 5.9998703069370141]\n",
      "std deviation: [1.6140920155391298e-12, 8.335623992882847e-12]\n",
      "Score at true solution: \n",
      "92225.2185915\n",
      "Found solution:          True parameters:\n",
      " 1.49740774194689584e-02     1.49999999999999994e-02\n",
      " 5.99987030705613567e+00     6.00000000000000000e+00\n"
     ]
    },
    {
     "data": {
      "image/png": "[encoded data removed]",
      "text/plain": [
       "<matplotlib.figure.Figure at 0x7f011c659a90>"
      ]
     },
     "metadata": {},
     "output_type": "display_data"
    }
   ],
   "source": [
    "# Create some toy data\n",
    "real_parameters = [0.015, 6]\n",
    "times = np.linspace(0, 1000, 1000)\n",
    "values = transformed_model.simulate(real_parameters, times)\n",
    "\n",
    "# Add noise\n",
    "values += np.random.normal(0, 10, values.shape)\n",
    "\n",
    "# Create an object with links to the model and time series\n",
    "problem = pints.SingleSeriesProblem(transformed_model, times, values)\n",
    "\n",
    "# Select a score function\n",
    "score = pints.SumOfSquaresError(problem)\n",
    "\n",
    "# Select some boundaries\n",
    "boundaries = pints.Boundaries([0, -6.0], [0.03, 20.0])\n",
    "\n",
    "# Perform an optimization with boundaries and hints\n",
    "x0 = 0.01,5.0\n",
    "sigma0 = [0.01, 2.0]\n",
    "found_parameters, found_value = pints.cmaes(\n",
    "    score,\n",
    "    boundaries,\n",
    "    x0,\n",
    "    sigma0,\n",
    "    )\n",
    "\n",
    "# Show score of true solution\n",
    "print('Score at true solution: ')\n",
    "print(score(real_parameters))\n",
    "\n",
    "# Compare parameters with original\n",
    "print('Found solution:          True parameters:' )\n",
    "for k, x in enumerate(found_parameters):\n",
    "    print(pints.strfloat(x) + '    ' + pints.strfloat(real_parameters[k]))\n",
    "\n",
    "# Show quality of fit\n",
    "pl.figure()\n",
    "pl.xlabel('Time')\n",
    "pl.ylabel('Value')\n",
    "pl.plot(times, values, label='Nosiy data')\n",
    "pl.plot(times, problem.evaluate(found_parameters), label='Fit')\n",
    "pl.legend()\n",
    "pl.show()"
   ]
  },
  {
   "cell_type": "code",
   "execution_count": null,
   "metadata": {
    "collapsed": true
   },
   "outputs": [],
   "source": []
  }
 ],
 "metadata": {
  "kernelspec": {
   "display_name": "Python 2",
   "language": "python",
   "name": "python2"
  },
  "language_info": {
   "codemirror_mode": {
    "name": "ipython",
    "version": 3
   },
   "file_extension": ".py",
   "mimetype": "text/x-python",
   "name": "python",
   "nbconvert_exporter": "python",
   "pygments_lexer": "ipython3",
   "version": "3.6.3"
  }
 },
 "nbformat": 4,
 "nbformat_minor": 2
}
