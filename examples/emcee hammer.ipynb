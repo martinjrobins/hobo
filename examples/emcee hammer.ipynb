{
 "cells": [
  {
   "cell_type": "markdown",
   "metadata": {},
   "source": [
    "# emcee hammer sampler logistic example\n",
    "This example demonstrates how to use the emcee hammer MCMC sampler [1] to sample from the posterior of the logistic model. This sampler evolves multiple 'walkers' in parallel, where the position of the Kth walker is based on the position of the (K-1) walkers in the complementary ensemble.\n",
    "\n",
    "Here we wrap the implementation of the sampler by the paper author's (see http://dfm.io/emcee/current/) in a Pints module so that it works out of the box with Pints functionality.\n",
    "\n",
    "[1] \"emcee: The MCMC Hammer\", Daniel Foreman-Mackey, David W. Hogg, Dustin Lang, Jonathan Goodman, https://arxiv.org/abs/1202.3665."
   ]
  },
  {
   "cell_type": "code",
   "execution_count": 14,
   "metadata": {},
   "outputs": [
    {
     "data": {
      "image/png": "[encoded data removed]",
      "text/plain": [
       "<matplotlib.figure.Figure at 0x181c0b1bd0>"
      ]
     },
     "metadata": {},
     "output_type": "display_data"
    }
   ],
   "source": [
    "import pints\n",
    "from __future__ import print_function\n",
    "import pints\n",
    "import pints.toy as toy\n",
    "import numpy as np\n",
    "import matplotlib.pyplot as plt\n",
    "\n",
    "# Load a forward model\n",
    "model = toy.LogisticModel()\n",
    "\n",
    "# Create some toy data\n",
    "r = 0.015\n",
    "k = 500\n",
    "real_parameters = [r, k]\n",
    "times = np.linspace(0, 1000, 100)\n",
    "signal_values = model.simulate(real_parameters, times)\n",
    "\n",
    "# Add independent Gaussian noise\n",
    "sigma = 10\n",
    "observed_values = pints.noise.add_independent_noise(signal_values,sigma)\n",
    "\n",
    "# Plot\n",
    "plt.plot(times,signal_values,label = 'signal')\n",
    "plt.plot(times,observed_values,label = 'observed')\n",
    "plt.xlabel('Time')\n",
    "plt.ylabel('Values')\n",
    "plt.legend()\n",
    "plt.show()"
   ]
  },
  {
   "cell_type": "code",
   "execution_count": 15,
   "metadata": {},
   "outputs": [
    {
     "data": {
      "text/plain": [
       "array([  1.50000000e-02,   5.00000000e+02,   1.00000000e+01])"
      ]
     },
     "execution_count": 15,
     "metadata": {},
     "output_type": "execute_result"
    }
   ],
   "source": [
    "# Create an object with links to the model and time series\n",
    "problem = pints.SingleSeriesProblem(model, times, observed_values)\n",
    "\n",
    "# Create a log-likelihood function (adds an extra parameter!)\n",
    "log_likelihood = pints.UnknownNoiseLogLikelihood(problem)\n",
    "real_parameters = np.array(real_parameters + [sigma])\n",
    "\n",
    "# Create a uniform prior over both the parameters and the new noise variable\n",
    "prior = pints.UniformPrior(\n",
    "    [0.01, 400, sigma*0.1],\n",
    "    [0.02, 600, sigma*100]\n",
    "    )\n",
    "\n",
    "# Create a Bayesian log-likelihood (prior * likelihood)\n",
    "log_posterior = pints.LogPosterior(prior, log_likelihood)\n",
    "\n",
    "# Create an adaptive covariance MCMC routine\n",
    "x0 = real_parameters\n",
    "mcmc = pints.EmceeHammerMCMC(log_posterior, x0)\n",
    "\n",
    "# Set number of walkers\n",
    "mcmc.set_walkers(10)"
   ]
  },
  {
   "cell_type": "code",
   "execution_count": 16,
   "metadata": {},
   "outputs": [
    {
     "name": "stdout",
     "output_type": "stream",
     "text": [
      "Running...\n",
      "Running emcee hammer MCMC\n",
      "Total number of iterations: 6000\n",
      "Number of iterations to discard as burn-in: 3000\n",
      "Storing one sample per 1\n",
      "Done!\n"
     ]
    }
   ],
   "source": [
    "# Run!\n",
    "print('Running...')\n",
    "chain = mcmc.run()\n",
    "print('Done!')"
   ]
  },
  {
   "cell_type": "code",
   "execution_count": 17,
   "metadata": {
    "collapsed": true
   },
   "outputs": [],
   "source": [
    "samples = chain.reshape((-1, 3))"
   ]
  },
  {
   "cell_type": "code",
   "execution_count": 20,
   "metadata": {},
   "outputs": [
    {
     "data": {
      "image/png": "[encoded data removed]",
      "text/plain": [
       "<matplotlib.figure.Figure at 0x181c814c10>"
      ]
     },
     "metadata": {},
     "output_type": "display_data"
    }
   ],
   "source": [
    "plt.hist(samples[:,1],100)\n",
    "plt.show()"
   ]
  }
 ],
 "metadata": {
  "kernelspec": {
   "display_name": "Python 2",
   "language": "python",
   "name": "python2"
  },
  "language_info": {
   "codemirror_mode": {
    "name": "ipython",
    "version": 2
   },
   "file_extension": ".py",
   "mimetype": "text/x-python",
   "name": "python",
   "nbconvert_exporter": "python",
   "pygments_lexer": "ipython2",
   "version": "2.7.14"
  }
 },
 "nbformat": 4,
 "nbformat_minor": 2
}
