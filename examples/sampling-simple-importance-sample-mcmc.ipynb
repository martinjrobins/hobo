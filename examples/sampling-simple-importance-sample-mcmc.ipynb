{
 "cells": [
  {
   "cell_type": "markdown",
   "metadata": {},
   "source": [
    "# Inference: Simple-Importance-Sampling MCMC\n",
    "\n",
    "The class below takes a posterior and forms another by raising it to a power (1 minus temperature)."
   ]
  },
  {
   "cell_type": "code",
   "execution_count": null,
   "metadata": {
    "collapsed": true
   },
   "outputs": [],
   "source": [
    "import os\n",
    "os.chdir(\"..\")\n",
    "import pints\n",
    "import pints.toy\n",
    "import pints.plot\n",
    "import matplotlib.pyplot as plt\n",
    "import numpy as np\n",
    "import scipy.misc\n",
    "\n",
    "class TemperedLogPosterior(pints.LogPDF):\n",
    "    def __init__(self, temperature, log_posterior):\n",
    "        self._temperature = temperature\n",
    "        self._log_posterior = log_posterior\n",
    "        \n",
    "    def __call__(self, x):\n",
    "        return (1.0 - self._temperature) * self._log_posterior(x)\n",
    "\n",
    "    def n_parameters(self):\n",
    "        return self._log_posterior.n_parameters()\n",
    "def ess(w):\n",
    "    return int(1.0 / np.sum(w**2))"
   ]
  },
  {
   "cell_type": "markdown",
   "metadata": {},
   "source": [
    "# Goodwin oscillator"
   ]
  },
  {
   "cell_type": "markdown",
   "metadata": {},
   "source": [
    "### Untempered"
   ]
  },
  {
   "cell_type": "code",
   "execution_count": null,
   "metadata": {},
   "outputs": [],
   "source": [
    "model = pints.toy.GoodwinOscillatorModel()\n",
    "real_parameters = model.suggested_parameters()\n",
    "print(real_parameters)\n",
    "times = model.suggested_times()\n",
    "values = model.simulate(real_parameters, times)\n",
    "noise1 = 0.001\n",
    "noise2 = 0.01\n",
    "noise3 = 0.1\n",
    "noisy_values = np.array(values, copy=True)\n",
    "noisy_values[:, 0] += np.random.normal(0, noise1, len(times))\n",
    "noisy_values[:, 1] += np.random.normal(0, noise2, len(times))\n",
    "noisy_values[:, 2] += np.random.normal(0, noise3, len(times))\n",
    "\n",
    "# Create an object with links to the model and time series\n",
    "problem = pints.MultiOutputProblem(model, times, values)\n",
    "\n",
    "# Create a log posterior\n",
    "log_prior = pints.UniformLogPrior([1, 1, 0.01, 0.01, 0.01], [10, 10, 1, 1, 1])\n",
    "log_likelihood = pints.KnownNoiseLogLikelihood(problem, [noise1, noise2, noise3])\n",
    "log_posterior = pints.LogPosterior(log_likelihood, log_prior)\n",
    "\n",
    "temperature = 0.0\n",
    "log_posterior_t = TemperedLogPosterior(temperature=temperature, log_posterior=log_posterior)\n",
    "\n",
    "# Run MCMC on the noisy data\n",
    "x0 = [[5, 5, 0.5, 0.5, 0.5]]*3\n",
    "mcmc = pints.MCMCSampling(log_posterior_t, 3, x0)\n",
    "mcmc.set_max_iterations(5000)\n",
    "mcmc.set_log_to_screen(False)\n",
    "\n",
    "print('Running')\n",
    "chains = mcmc.run()\n",
    "print('Done!')\n",
    "\n",
    "# Get samples\n",
    "samples=np.vstack(chains)\n",
    "\n",
    "log_weight = [temperature * log_posterior(sample) for sample in samples]\n",
    "w = np.exp(log_weight - scipy.misc.logsumexp(log_weight))\n",
    "print('ESS = ' + str(ess(w)))\n",
    "idx = np.random.choice(len(w), size=ess(w), p=w)\n",
    "samples1 = samples[idx, :]\n",
    "\n",
    "# Look at distribution in chain 0\n",
    "pints.plot.pairwise(samples1, kde=True)\n",
    "\n",
    "# Show graphs\n",
    "plt.show()"
   ]
  },
  {
   "cell_type": "markdown",
   "metadata": {},
   "source": [
    "### Tempered at T=0.5"
   ]
  },
  {
   "cell_type": "code",
   "execution_count": null,
   "metadata": {},
   "outputs": [],
   "source": [
    "model = pints.toy.GoodwinOscillatorModel()\n",
    "real_parameters = model.suggested_parameters()\n",
    "print(real_parameters)\n",
    "times = model.suggested_times()\n",
    "values = model.simulate(real_parameters, times)\n",
    "noise1 = 0.001\n",
    "noise2 = 0.01\n",
    "noise3 = 0.1\n",
    "noisy_values = np.array(values, copy=True)\n",
    "noisy_values[:, 0] += np.random.normal(0, noise1, len(times))\n",
    "noisy_values[:, 1] += np.random.normal(0, noise2, len(times))\n",
    "noisy_values[:, 2] += np.random.normal(0, noise3, len(times))\n",
    "\n",
    "# Create an object with links to the model and time series\n",
    "problem = pints.MultiOutputProblem(model, times, values)\n",
    "\n",
    "# Create a log posterior\n",
    "log_prior = pints.UniformLogPrior([1, 1, 0.01, 0.01, 0.01], [10, 10, 1, 1, 1])\n",
    "log_likelihood = pints.KnownNoiseLogLikelihood(problem, [noise1, noise2, noise3])\n",
    "log_posterior = pints.LogPosterior(log_likelihood, log_prior)\n",
    "\n",
    "temperature = 0.0\n",
    "log_posterior_t = TemperedLogPosterior(temperature=temperature, log_posterior=log_posterior)\n",
    "\n",
    "# Run MCMC on the noisy data\n",
    "x0 = [[5, 5, 0.5, 0.5, 0.5]]*3\n",
    "mcmc = pints.MCMCSampling(log_posterior_t, 3, x0)\n",
    "mcmc.set_max_iterations(5000)\n",
    "mcmc.set_log_to_screen(False)\n",
    "\n",
    "print('Running')\n",
    "chains = mcmc.run()\n",
    "print('Done!')\n",
    "\n",
    "# Discard warm up\n",
    "chains = chains[:, 2000:, :]\n",
    "\n",
    "# Get samples\n",
    "samples=np.vstack(chains)\n",
    "\n",
    "# Look at distribution in chain 0\n",
    "pints.plot.pairwise(samples, kde=True)\n",
    "\n",
    "# Show graphs\n",
    "plt.show()"
   ]
  },
  {
   "cell_type": "markdown",
   "metadata": {},
   "source": [
    "# Repressilator"
   ]
  },
  {
   "cell_type": "markdown",
   "metadata": {},
   "source": [
    "### Untempered"
   ]
  },
  {
   "cell_type": "code",
   "execution_count": null,
   "metadata": {},
   "outputs": [],
   "source": [
    "# Create a model\n",
    "model = pints.toy.RepressilatorModel()\n",
    "\n",
    "# Run a simulation\n",
    "parameters = model.suggested_parameters()\n",
    "times = model.suggested_times()\n",
    "values = model.simulate(parameters, times)\n",
    "\n",
    "# First add some noise\n",
    "sigma = 5\n",
    "noisy = values + np.random.normal(0, sigma, values.shape)\n",
    "\n",
    "problem = pints.MultiOutputProblem(model, times, noisy)\n",
    "log_likelihood = pints.KnownNoiseLogLikelihood(problem, sigma)\n",
    "log_prior = pints.UniformLogPrior([0, 500, 0, 0], [10, 3000, 20, 10])\n",
    "\n",
    "# Initial guesses\n",
    "x0 = [\n",
    "    [2, 800, 3, 3],\n",
    "    [1, 1200, 6, 1],\n",
    "    [3, 2000, 1, 4],\n",
    "]\n",
    "log_posterior = pints.LogPosterior(log_likelihood, log_prior)\n",
    "mcmc = pints.MCMCSampling(log_posterior, 3, x0)\n",
    "mcmc.set_max_iterations(6000)\n",
    "chains = mcmc.run()\n",
    "\n",
    "plt.figure()\n",
    "pints.plot.trace(chains, ref_parameters=parameters)\n",
    "plt.show()"
   ]
  },
  {
   "cell_type": "code",
   "execution_count": null,
   "metadata": {},
   "outputs": [],
   "source": [
    "# Discard warm up\n",
    "chains = chains[:, 2000:, :]\n",
    "\n",
    "# Get samples\n",
    "samples=np.vstack(chains)\n",
    "\n",
    "# Look at distribution in chain 0\n",
    "pints.plot.pairwise(samples, kde=True)\n",
    "\n",
    "# Show graphs\n",
    "plt.show()"
   ]
  },
  {
   "cell_type": "markdown",
   "metadata": {},
   "source": [
    "### Raised to temperature T=0.5"
   ]
  },
  {
   "cell_type": "code",
   "execution_count": null,
   "metadata": {},
   "outputs": [],
   "source": [
    "temperature = 0.5\n",
    "log_posterior_t = TemperedLogPosterior(temperature=temperature, log_posterior=log_posterior)\n",
    "\n",
    "mcmc = pints.MCMCSampling(log_posterior_t, 3, x0)\n",
    "mcmc.set_max_iterations(6000)\n",
    "chains = mcmc.run()\n",
    "\n",
    "plt.figure()\n",
    "pints.plot.trace(chains, ref_parameters=parameters)\n",
    "plt.show()"
   ]
  },
  {
   "cell_type": "code",
   "execution_count": null,
   "metadata": {},
   "outputs": [],
   "source": [
    "# Discard warm up\n",
    "chains = chains[:, 2000:, :]\n",
    "\n",
    "# Get samples\n",
    "samples=np.vstack(chains)\n",
    "\n",
    "log_weight = [temperature * log_posterior(sample) for sample in samples]\n",
    "w = np.exp(log_weight - scipy.misc.logsumexp(log_weight))\n",
    "\n",
    "print('ESS = ' + str(ess(w)))\n",
    "\n",
    "idx = np.random.choice(len(w), size=ess(w), p=w)\n",
    "samples1 = samples[idx, :]\n",
    "\n",
    "# Look at distribution in chain 0\n",
    "pints.plot.pairwise(samples1, kde=True)\n",
    "\n",
    "# Show graphs\n",
    "plt.show()"
   ]
  },
  {
   "cell_type": "markdown",
   "metadata": {},
   "source": [
    "# Fitzhugh-Nagumo"
   ]
  },
  {
   "cell_type": "code",
   "execution_count": null,
   "metadata": {},
   "outputs": [],
   "source": [
    "# Create a model\n",
    "model = pints.toy.FitzhughNagumoModel()\n",
    "\n",
    "# Run a simulation\n",
    "parameters = [0.1, 0.5, 3]\n",
    "times = np.linspace(0, 20, 200)\n",
    "values = model.simulate(parameters, times)\n",
    "\n",
    "# First add some noise\n",
    "sigma = 0.5\n",
    "noisy = values + np.random.normal(0, sigma, values.shape)\n",
    "\n",
    "problem = pints.MultiOutputProblem(model, times, noisy)\n",
    "\n",
    "log_likelihood = pints.KnownNoiseLogLikelihood(problem, sigma)\n",
    "\n",
    "log_prior = pints.UniformLogPrior([0, 0, 0], [10, 10, 10])\n",
    "\n",
    "# Initial guesses\n",
    "x0 = [\n",
    "    [2, 3, 3],\n",
    "    [1, 4, 4],\n",
    "    [3, 2, 1],\n",
    "]\n",
    "\n",
    "log_posterior = pints.LogPosterior(log_likelihood, log_prior)\n",
    "mcmc = pints.MCMCSampling(log_posterior, 3, x0)\n",
    "mcmc.set_max_iterations(6000)\n",
    "chains = mcmc.run()\n",
    "\n",
    "plt.figure()\n",
    "pints.plot.trace(chains, ref_parameters=parameters)\n",
    "plt.show()\n",
    "\n",
    "# Discard warm up\n",
    "chains = chains[:, 1000:, :]\n",
    "\n",
    "# Get samples\n",
    "samples=np.vstack(chains)\n",
    "\n",
    "# Look at distribution in chain 0\n",
    "pints.plot.pairwise(samples, kde=True)\n",
    "\n",
    "# Show graphs\n",
    "plt.show()"
   ]
  },
  {
   "cell_type": "code",
   "execution_count": null,
   "metadata": {},
   "outputs": [],
   "source": [
    "temperature = 0.9\n",
    "log_posterior_t = TemperedLogPosterior(temperature=temperature, log_posterior=log_posterior)\n",
    "\n",
    "mcmc = pints.MCMCSampling(log_posterior_t, 3, x0)\n",
    "mcmc.set_max_iterations(6000)\n",
    "chains = mcmc.run()\n",
    "\n",
    "plt.figure()\n",
    "pints.plot.trace(chains, ref_parameters=parameters)\n",
    "plt.show()"
   ]
  },
  {
   "cell_type": "code",
   "execution_count": null,
   "metadata": {},
   "outputs": [],
   "source": [
    "# Discard warm up\n",
    "chains = chains[:, 1000:, :]\n",
    "\n",
    "# Get samples\n",
    "samples=np.vstack(chains)\n",
    "\n",
    "log_weight = [temperature * log_posterior(sample) for sample in samples]\n",
    "w = np.exp(log_weight - scipy.misc.logsumexp(log_weight))\n",
    "\n",
    "print('ESS = ' + str(ess(w)))\n",
    "\n",
    "idx = np.random.choice(len(w), size=ess(w), p=w)\n",
    "samples1 = samples[idx, :]\n",
    "\n",
    "# Look at distribution in chain 0\n",
    "pints.plot.pairwise(samples1, kde=True)\n",
    "\n",
    "# Show graphs\n",
    "plt.show()"
   ]
  },
  {
   "cell_type": "code",
   "execution_count": null,
   "metadata": {
    "collapsed": true
   },
   "outputs": [],
   "source": []
  }
 ],
 "metadata": {
  "kernelspec": {
   "display_name": "Python 2",
   "language": "python",
   "name": "python2"
  },
  "language_info": {
   "codemirror_mode": {
    "name": "ipython",
    "version": 2
   },
   "file_extension": ".py",
   "mimetype": "text/x-python",
   "name": "python",
   "nbconvert_exporter": "python",
   "pygments_lexer": "ipython2",
   "version": "2.7.14"
  }
 },
 "nbformat": 4,
 "nbformat_minor": 2
}
