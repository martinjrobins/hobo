{
 "cells": [
  {
   "cell_type": "markdown",
   "metadata": {},
   "source": [
    "# Inference: Simple-Importance-Sampling MCMC\n",
    "\n",
    "The class below takes a posterior and forms another by raising it to a power (1 minus temperature)."
   ]
  },
  {
   "cell_type": "code",
   "execution_count": null,
   "metadata": {
    "collapsed": true
   },
   "outputs": [],
   "source": [
    "import os\n",
    "os.chdir(\"..\")\n",
    "import pints\n",
    "import pints.toy\n",
    "import pints.plot\n",
    "import matplotlib.pyplot as plt\n",
    "import numpy as np\n",
    "import scipy.misc\n",
    "\n",
    "class TemperedLogPosterior(pints.LogPDF):\n",
    "    def __init__(self, temperature, log_posterior):\n",
    "        self._temperature = temperature\n",
    "        self._log_posterior = log_posterior\n",
    "        \n",
    "    def __call__(self, x):\n",
    "        return (1.0 - self._temperature) * self._log_posterior(x)\n",
    "\n",
    "    def n_parameters(self):\n",
    "        return self._log_posterior.n_parameters()\n",
    "def ess(w):\n",
    "    return int(1.0 / np.sum(w**2))"
   ]
  },
  {
   "cell_type": "markdown",
   "metadata": {},
   "source": [
    "# Goodwin oscillator"
   ]
  },
  {
   "cell_type": "markdown",
   "metadata": {},
   "source": [
    "### Untempered"
   ]
  },
  {
   "cell_type": "code",
   "execution_count": null,
   "metadata": {},
   "outputs": [
    {
     "name": "stdout",
     "output_type": "stream",
     "text": [
      "[ 2.    4.    0.12  0.08  0.1 ]\n",
      "Running\n",
      "Done!\n"
     ]
    },
    {
     "ename": "KeyboardInterrupt",
     "evalue": "",
     "output_type": "error",
     "traceback": [
      "\u001b[0;31m---------------------------------------------------------------------------\u001b[0m",
      "\u001b[0;31mKeyboardInterrupt\u001b[0m                         Traceback (most recent call last)",
      "\u001b[0;32m<ipython-input-2-fe9b68004410>\u001b[0m in \u001b[0;36m<module>\u001b[0;34m()\u001b[0m\n\u001b[1;32m     36\u001b[0m \u001b[0msamples\u001b[0m\u001b[0;34m=\u001b[0m\u001b[0mnp\u001b[0m\u001b[0;34m.\u001b[0m\u001b[0mvstack\u001b[0m\u001b[0;34m(\u001b[0m\u001b[0mchains\u001b[0m\u001b[0;34m)\u001b[0m\u001b[0;34m\u001b[0m\u001b[0m\n\u001b[1;32m     37\u001b[0m \u001b[0;34m\u001b[0m\u001b[0m\n\u001b[0;32m---> 38\u001b[0;31m \u001b[0mlog_weight\u001b[0m \u001b[0;34m=\u001b[0m \u001b[0;34m[\u001b[0m\u001b[0mtemperature\u001b[0m \u001b[0;34m*\u001b[0m \u001b[0mlog_posterior\u001b[0m\u001b[0;34m(\u001b[0m\u001b[0msample\u001b[0m\u001b[0;34m)\u001b[0m \u001b[0;32mfor\u001b[0m \u001b[0msample\u001b[0m \u001b[0;32min\u001b[0m \u001b[0msamples\u001b[0m\u001b[0;34m]\u001b[0m\u001b[0;34m\u001b[0m\u001b[0m\n\u001b[0m\u001b[1;32m     39\u001b[0m \u001b[0mw\u001b[0m \u001b[0;34m=\u001b[0m \u001b[0mnp\u001b[0m\u001b[0;34m.\u001b[0m\u001b[0mexp\u001b[0m\u001b[0;34m(\u001b[0m\u001b[0mlog_weight\u001b[0m \u001b[0;34m-\u001b[0m \u001b[0mscipy\u001b[0m\u001b[0;34m.\u001b[0m\u001b[0mmisc\u001b[0m\u001b[0;34m.\u001b[0m\u001b[0mlogsumexp\u001b[0m\u001b[0;34m(\u001b[0m\u001b[0mlog_weight\u001b[0m\u001b[0;34m)\u001b[0m\u001b[0;34m)\u001b[0m\u001b[0;34m\u001b[0m\u001b[0m\n\u001b[1;32m     40\u001b[0m \u001b[0;32mprint\u001b[0m\u001b[0;34m(\u001b[0m\u001b[0;34m'ESS = '\u001b[0m \u001b[0;34m+\u001b[0m \u001b[0mstr\u001b[0m\u001b[0;34m(\u001b[0m\u001b[0mess\u001b[0m\u001b[0;34m(\u001b[0m\u001b[0mw\u001b[0m\u001b[0;34m)\u001b[0m\u001b[0;34m)\u001b[0m\u001b[0;34m)\u001b[0m\u001b[0;34m\u001b[0m\u001b[0m\n",
      "\u001b[0;32m/Users/appleuser/Desktop/pints/pints/_log_pdfs.pyc\u001b[0m in \u001b[0;36m__call__\u001b[0;34m(self, x)\u001b[0m\n\u001b[1;32m    148\u001b[0m         \u001b[0;32mif\u001b[0m \u001b[0mlog_prior\u001b[0m \u001b[0;34m==\u001b[0m \u001b[0mself\u001b[0m\u001b[0;34m.\u001b[0m\u001b[0m_minf\u001b[0m\u001b[0;34m:\u001b[0m\u001b[0;34m\u001b[0m\u001b[0m\n\u001b[1;32m    149\u001b[0m             \u001b[0;32mreturn\u001b[0m \u001b[0mself\u001b[0m\u001b[0;34m.\u001b[0m\u001b[0m_minf\u001b[0m\u001b[0;34m\u001b[0m\u001b[0m\n\u001b[0;32m--> 150\u001b[0;31m         \u001b[0;32mreturn\u001b[0m \u001b[0mlog_prior\u001b[0m \u001b[0;34m+\u001b[0m \u001b[0mself\u001b[0m\u001b[0;34m.\u001b[0m\u001b[0m_log_likelihood\u001b[0m\u001b[0;34m(\u001b[0m\u001b[0mx\u001b[0m\u001b[0;34m)\u001b[0m\u001b[0;34m\u001b[0m\u001b[0m\n\u001b[0m\u001b[1;32m    151\u001b[0m \u001b[0;34m\u001b[0m\u001b[0m\n\u001b[1;32m    152\u001b[0m     \u001b[0;32mdef\u001b[0m \u001b[0mevaluateS1\u001b[0m\u001b[0;34m(\u001b[0m\u001b[0mself\u001b[0m\u001b[0;34m,\u001b[0m \u001b[0mx\u001b[0m\u001b[0;34m)\u001b[0m\u001b[0;34m:\u001b[0m\u001b[0;34m\u001b[0m\u001b[0m\n",
      "\u001b[0;32m/Users/appleuser/Desktop/pints/pints/_log_likelihoods.pyc\u001b[0m in \u001b[0;36m__call__\u001b[0;34m(self, x)\u001b[0m\n\u001b[1;32m     65\u001b[0m \u001b[0;34m\u001b[0m\u001b[0m\n\u001b[1;32m     66\u001b[0m     \u001b[0;32mdef\u001b[0m \u001b[0m__call__\u001b[0m\u001b[0;34m(\u001b[0m\u001b[0mself\u001b[0m\u001b[0;34m,\u001b[0m \u001b[0mx\u001b[0m\u001b[0;34m)\u001b[0m\u001b[0;34m:\u001b[0m\u001b[0;34m\u001b[0m\u001b[0m\n\u001b[0;32m---> 67\u001b[0;31m         \u001b[0merror\u001b[0m \u001b[0;34m=\u001b[0m \u001b[0mself\u001b[0m\u001b[0;34m.\u001b[0m\u001b[0m_values\u001b[0m \u001b[0;34m-\u001b[0m \u001b[0mself\u001b[0m\u001b[0;34m.\u001b[0m\u001b[0m_problem\u001b[0m\u001b[0;34m.\u001b[0m\u001b[0mevaluate\u001b[0m\u001b[0;34m(\u001b[0m\u001b[0mx\u001b[0m\u001b[0;34m)\u001b[0m\u001b[0;34m\u001b[0m\u001b[0m\n\u001b[0m\u001b[1;32m     68\u001b[0m         \u001b[0;32mreturn\u001b[0m \u001b[0mnp\u001b[0m\u001b[0;34m.\u001b[0m\u001b[0msum\u001b[0m\u001b[0;34m(\u001b[0m\u001b[0mself\u001b[0m\u001b[0;34m.\u001b[0m\u001b[0m_offset\u001b[0m \u001b[0;34m+\u001b[0m \u001b[0mself\u001b[0m\u001b[0;34m.\u001b[0m\u001b[0m_multip\u001b[0m \u001b[0;34m*\u001b[0m \u001b[0mnp\u001b[0m\u001b[0;34m.\u001b[0m\u001b[0msum\u001b[0m\u001b[0;34m(\u001b[0m\u001b[0merror\u001b[0m\u001b[0;34m**\u001b[0m\u001b[0;36m2\u001b[0m\u001b[0;34m,\u001b[0m \u001b[0maxis\u001b[0m\u001b[0;34m=\u001b[0m\u001b[0;36m0\u001b[0m\u001b[0;34m)\u001b[0m\u001b[0;34m)\u001b[0m\u001b[0;34m\u001b[0m\u001b[0m\n\u001b[1;32m     69\u001b[0m \u001b[0;34m\u001b[0m\u001b[0m\n",
      "\u001b[0;32m/Users/appleuser/Desktop/pints/pints/_core.pyc\u001b[0m in \u001b[0;36mevaluate\u001b[0;34m(self, parameters)\u001b[0m\n\u001b[1;32m    288\u001b[0m         \u001b[0mThe\u001b[0m \u001b[0mreturned\u001b[0m \u001b[0mdata\u001b[0m \u001b[0mhas\u001b[0m \u001b[0mshape\u001b[0m \u001b[0;34m`\u001b[0m\u001b[0;34m`\u001b[0m\u001b[0;34m(\u001b[0m\u001b[0mn_times\u001b[0m\u001b[0;34m,\u001b[0m \u001b[0mn_outputs\u001b[0m\u001b[0;34m)\u001b[0m\u001b[0;34m`\u001b[0m\u001b[0;34m`\u001b[0m\u001b[0;34m.\u001b[0m\u001b[0;34m\u001b[0m\u001b[0m\n\u001b[1;32m    289\u001b[0m         \"\"\"\n\u001b[0;32m--> 290\u001b[0;31m         \u001b[0;32mreturn\u001b[0m \u001b[0mself\u001b[0m\u001b[0;34m.\u001b[0m\u001b[0m_model\u001b[0m\u001b[0;34m.\u001b[0m\u001b[0msimulate\u001b[0m\u001b[0;34m(\u001b[0m\u001b[0mparameters\u001b[0m\u001b[0;34m,\u001b[0m \u001b[0mself\u001b[0m\u001b[0;34m.\u001b[0m\u001b[0m_times\u001b[0m\u001b[0;34m)\u001b[0m\u001b[0;34m\u001b[0m\u001b[0m\n\u001b[0m\u001b[1;32m    291\u001b[0m \u001b[0;34m\u001b[0m\u001b[0m\n\u001b[1;32m    292\u001b[0m     \u001b[0;32mdef\u001b[0m \u001b[0mevaluateS1\u001b[0m\u001b[0;34m(\u001b[0m\u001b[0mself\u001b[0m\u001b[0;34m,\u001b[0m \u001b[0mparameters\u001b[0m\u001b[0;34m)\u001b[0m\u001b[0;34m:\u001b[0m\u001b[0;34m\u001b[0m\u001b[0m\n",
      "\u001b[0;32m/Users/appleuser/Desktop/pints/pints/toy/_goodwin_oscillator_model.pyc\u001b[0m in \u001b[0;36msimulate\u001b[0;34m(self, parameters, times)\u001b[0m\n\u001b[1;32m     48\u001b[0m         \u001b[0my0\u001b[0m \u001b[0;34m=\u001b[0m \u001b[0;34m[\u001b[0m\u001b[0;36m0.0054\u001b[0m\u001b[0;34m,\u001b[0m \u001b[0;36m0.053\u001b[0m\u001b[0;34m,\u001b[0m \u001b[0;36m1.93\u001b[0m\u001b[0;34m]\u001b[0m\u001b[0;34m\u001b[0m\u001b[0m\n\u001b[1;32m     49\u001b[0m         solution = scipy.integrate.odeint(\n\u001b[0;32m---> 50\u001b[0;31m             self._rhs, y0, times, args=(parameters,))\n\u001b[0m\u001b[1;32m     51\u001b[0m         \u001b[0;32mreturn\u001b[0m \u001b[0msolution\u001b[0m\u001b[0;34m\u001b[0m\u001b[0m\n\u001b[1;32m     52\u001b[0m \u001b[0;34m\u001b[0m\u001b[0m\n",
      "\u001b[0;32m/anaconda2/lib/python2.7/site-packages/scipy/integrate/odepack.pyc\u001b[0m in \u001b[0;36modeint\u001b[0;34m(func, y0, t, args, Dfun, col_deriv, full_output, ml, mu, rtol, atol, tcrit, h0, hmax, hmin, ixpr, mxstep, mxhnil, mxordn, mxords, printmessg)\u001b[0m\n\u001b[1;32m    213\u001b[0m     output = _odepack.odeint(func, y0, t, args, Dfun, col_deriv, ml, mu,\n\u001b[1;32m    214\u001b[0m                              \u001b[0mfull_output\u001b[0m\u001b[0;34m,\u001b[0m \u001b[0mrtol\u001b[0m\u001b[0;34m,\u001b[0m \u001b[0matol\u001b[0m\u001b[0;34m,\u001b[0m \u001b[0mtcrit\u001b[0m\u001b[0;34m,\u001b[0m \u001b[0mh0\u001b[0m\u001b[0;34m,\u001b[0m \u001b[0mhmax\u001b[0m\u001b[0;34m,\u001b[0m \u001b[0mhmin\u001b[0m\u001b[0;34m,\u001b[0m\u001b[0;34m\u001b[0m\u001b[0m\n\u001b[0;32m--> 215\u001b[0;31m                              ixpr, mxstep, mxhnil, mxordn, mxords)\n\u001b[0m\u001b[1;32m    216\u001b[0m     \u001b[0;32mif\u001b[0m \u001b[0moutput\u001b[0m\u001b[0;34m[\u001b[0m\u001b[0;34m-\u001b[0m\u001b[0;36m1\u001b[0m\u001b[0;34m]\u001b[0m \u001b[0;34m<\u001b[0m \u001b[0;36m0\u001b[0m\u001b[0;34m:\u001b[0m\u001b[0;34m\u001b[0m\u001b[0m\n\u001b[1;32m    217\u001b[0m         \u001b[0mwarning_msg\u001b[0m \u001b[0;34m=\u001b[0m \u001b[0m_msgs\u001b[0m\u001b[0;34m[\u001b[0m\u001b[0moutput\u001b[0m\u001b[0;34m[\u001b[0m\u001b[0;34m-\u001b[0m\u001b[0;36m1\u001b[0m\u001b[0;34m]\u001b[0m\u001b[0;34m]\u001b[0m \u001b[0;34m+\u001b[0m \u001b[0;34m\" Run with full_output = 1 to get quantitative information.\"\u001b[0m\u001b[0;34m\u001b[0m\u001b[0m\n",
      "\u001b[0;32m/Users/appleuser/Desktop/pints/pints/toy/_goodwin_oscillator_model.pyc\u001b[0m in \u001b[0;36m_rhs\u001b[0;34m(self, state, time, parameters)\u001b[0m\n\u001b[1;32m     38\u001b[0m         \"\"\"\n\u001b[1;32m     39\u001b[0m         \u001b[0mx\u001b[0m\u001b[0;34m,\u001b[0m \u001b[0my\u001b[0m\u001b[0;34m,\u001b[0m \u001b[0mz\u001b[0m \u001b[0;34m=\u001b[0m \u001b[0mstate\u001b[0m\u001b[0;34m\u001b[0m\u001b[0m\n\u001b[0;32m---> 40\u001b[0;31m         \u001b[0mk2\u001b[0m\u001b[0;34m,\u001b[0m \u001b[0mk3\u001b[0m\u001b[0;34m,\u001b[0m \u001b[0mm1\u001b[0m\u001b[0;34m,\u001b[0m \u001b[0mm2\u001b[0m\u001b[0;34m,\u001b[0m \u001b[0mm3\u001b[0m \u001b[0;34m=\u001b[0m \u001b[0mparameters\u001b[0m\u001b[0;34m\u001b[0m\u001b[0m\n\u001b[0m\u001b[1;32m     41\u001b[0m         \u001b[0mdxdt\u001b[0m \u001b[0;34m=\u001b[0m \u001b[0;36m1\u001b[0m \u001b[0;34m/\u001b[0m \u001b[0;34m(\u001b[0m\u001b[0;36m1\u001b[0m \u001b[0;34m+\u001b[0m \u001b[0mz\u001b[0m\u001b[0;34m**\u001b[0m\u001b[0;36m10\u001b[0m\u001b[0;34m)\u001b[0m \u001b[0;34m-\u001b[0m \u001b[0mm1\u001b[0m \u001b[0;34m*\u001b[0m \u001b[0mx\u001b[0m\u001b[0;34m\u001b[0m\u001b[0m\n\u001b[1;32m     42\u001b[0m         \u001b[0mdydt\u001b[0m \u001b[0;34m=\u001b[0m \u001b[0mk2\u001b[0m \u001b[0;34m*\u001b[0m \u001b[0mx\u001b[0m \u001b[0;34m-\u001b[0m \u001b[0mm2\u001b[0m \u001b[0;34m*\u001b[0m \u001b[0my\u001b[0m\u001b[0;34m\u001b[0m\u001b[0m\n",
      "\u001b[0;31mKeyboardInterrupt\u001b[0m: "
     ]
    }
   ],
   "source": [
    "model = pints.toy.GoodwinOscillatorModel()\n",
    "real_parameters = model.suggested_parameters()\n",
    "print(real_parameters)\n",
    "times = model.suggested_times()\n",
    "values = model.simulate(real_parameters, times)\n",
    "noise1 = 0.001\n",
    "noise2 = 0.01\n",
    "noise3 = 0.1\n",
    "noisy_values = np.array(values, copy=True)\n",
    "noisy_values[:, 0] += np.random.normal(0, noise1, len(times))\n",
    "noisy_values[:, 1] += np.random.normal(0, noise2, len(times))\n",
    "noisy_values[:, 2] += np.random.normal(0, noise3, len(times))\n",
    "\n",
    "# Create an object with links to the model and time series\n",
    "problem = pints.MultiOutputProblem(model, times, values)\n",
    "\n",
    "# Create a log posterior\n",
    "log_prior = pints.UniformLogPrior([1, 1, 0.01, 0.01, 0.01], [10, 10, 1, 1, 1])\n",
    "log_likelihood = pints.KnownNoiseLogLikelihood(problem, [noise1, noise2, noise3])\n",
    "log_posterior = pints.LogPosterior(log_likelihood, log_prior)\n",
    "\n",
    "temperature = 0.0\n",
    "log_posterior_t = TemperedLogPosterior(temperature=temperature, log_posterior=log_posterior)\n",
    "\n",
    "# Run MCMC on the noisy data\n",
    "x0 = [[5, 5, 0.5, 0.5, 0.5]]*3\n",
    "mcmc = pints.MCMCSampling(log_posterior_t, 3, x0)\n",
    "mcmc.set_max_iterations(5000)\n",
    "mcmc.set_log_to_screen(False)\n",
    "\n",
    "print('Running')\n",
    "chains = mcmc.run()\n",
    "print('Done!')\n",
    "\n",
    "# Get samples\n",
    "samples=np.vstack(chains)\n",
    "\n",
    "# Look at distribution in chain 0\n",
    "pints.plot.pairwise(samples, kde=True)\n",
    "\n",
    "# Show graphs\n",
    "plt.show()"
   ]
  },
  {
   "cell_type": "markdown",
   "metadata": {},
   "source": [
    "### Tempered at T=0.5"
   ]
  },
  {
   "cell_type": "code",
   "execution_count": null,
   "metadata": {},
   "outputs": [],
   "source": [
    "model = pints.toy.GoodwinOscillatorModel()\n",
    "real_parameters = model.suggested_parameters()\n",
    "print(real_parameters)\n",
    "times = model.suggested_times()\n",
    "values = model.simulate(real_parameters, times)\n",
    "noise1 = 0.001\n",
    "noise2 = 0.01\n",
    "noise3 = 0.1\n",
    "noisy_values = np.array(values, copy=True)\n",
    "noisy_values[:, 0] += np.random.normal(0, noise1, len(times))\n",
    "noisy_values[:, 1] += np.random.normal(0, noise2, len(times))\n",
    "noisy_values[:, 2] += np.random.normal(0, noise3, len(times))\n",
    "\n",
    "# Create an object with links to the model and time series\n",
    "problem = pints.MultiOutputProblem(model, times, values)\n",
    "\n",
    "# Create a log posterior\n",
    "log_prior = pints.UniformLogPrior([1, 1, 0.01, 0.01, 0.01], [10, 10, 1, 1, 1])\n",
    "log_likelihood = pints.KnownNoiseLogLikelihood(problem, [noise1, noise2, noise3])\n",
    "log_posterior = pints.LogPosterior(log_likelihood, log_prior)\n",
    "\n",
    "temperature = 0.0\n",
    "log_posterior_t = TemperedLogPosterior(temperature=temperature, log_posterior=log_posterior)\n",
    "\n",
    "# Run MCMC on the noisy data\n",
    "x0 = [[5, 5, 0.5, 0.5, 0.5]]*3\n",
    "mcmc = pints.MCMCSampling(log_posterior_t, 3, x0)\n",
    "mcmc.set_max_iterations(5000)\n",
    "mcmc.set_log_to_screen(False)\n",
    "\n",
    "print('Running')\n",
    "chains = mcmc.run()\n",
    "print('Done!')\n",
    "\n",
    "# Discard warm up\n",
    "chains = chains[:, 2000:, :]\n",
    "\n",
    "# Get samples\n",
    "samples=np.vstack(chains)\n",
    "\n",
    "log_weight = [temperature * log_posterior(sample) for sample in samples]\n",
    "w = np.exp(log_weight - scipy.misc.logsumexp(log_weight))\n",
    "print('ESS = ' + str(ess(w)))\n",
    "idx = np.random.choice(len(w), size=ess(w), p=w)\n",
    "samples1 = samples[idx, :]\n",
    "\n",
    "# Look at distribution in chain 0\n",
    "pints.plot.pairwise(samples1, kde=True)\n",
    "\n",
    "# Show graphs\n",
    "plt.show()"
   ]
  },
  {
   "cell_type": "markdown",
   "metadata": {},
   "source": [
    "# Repressilator"
   ]
  },
  {
   "cell_type": "markdown",
   "metadata": {},
   "source": [
    "### Untempered"
   ]
  },
  {
   "cell_type": "code",
   "execution_count": null,
   "metadata": {},
   "outputs": [],
   "source": [
    "# Create a model\n",
    "model = pints.toy.RepressilatorModel()\n",
    "\n",
    "# Run a simulation\n",
    "parameters = model.suggested_parameters()\n",
    "times = model.suggested_times()\n",
    "values = model.simulate(parameters, times)\n",
    "\n",
    "# First add some noise\n",
    "sigma = 5\n",
    "noisy = values + np.random.normal(0, sigma, values.shape)\n",
    "\n",
    "problem = pints.MultiOutputProblem(model, times, noisy)\n",
    "log_likelihood = pints.KnownNoiseLogLikelihood(problem, sigma)\n",
    "log_prior = pints.UniformLogPrior([0, 500, 0, 0], [10, 3000, 20, 10])\n",
    "\n",
    "# Initial guesses\n",
    "x0 = [\n",
    "    [2, 800, 3, 3],\n",
    "    [1, 1200, 6, 1],\n",
    "    [3, 2000, 1, 4],\n",
    "]\n",
    "log_posterior = pints.LogPosterior(log_likelihood, log_prior)\n",
    "mcmc = pints.MCMCSampling(log_posterior, 3, x0)\n",
    "mcmc.set_max_iterations(6000)\n",
    "chains = mcmc.run()\n",
    "\n",
    "plt.figure()\n",
    "pints.plot.trace(chains, ref_parameters=parameters)\n",
    "plt.show()"
   ]
  },
  {
   "cell_type": "code",
   "execution_count": null,
   "metadata": {},
   "outputs": [],
   "source": [
    "# Discard warm up\n",
    "chains = chains[:, 2000:, :]\n",
    "\n",
    "# Get samples\n",
    "samples=np.vstack(chains)\n",
    "\n",
    "# Look at distribution in chain 0\n",
    "pints.plot.pairwise(samples, kde=True)\n",
    "\n",
    "# Show graphs\n",
    "plt.show()"
   ]
  },
  {
   "cell_type": "markdown",
   "metadata": {},
   "source": [
    "### Raised to temperature T=0.5"
   ]
  },
  {
   "cell_type": "code",
   "execution_count": null,
   "metadata": {},
   "outputs": [],
   "source": [
    "temperature = 0.5\n",
    "log_posterior_t = TemperedLogPosterior(temperature=temperature, log_posterior=log_posterior)\n",
    "\n",
    "mcmc = pints.MCMCSampling(log_posterior_t, 3, x0)\n",
    "mcmc.set_max_iterations(6000)\n",
    "chains = mcmc.run()\n",
    "\n",
    "plt.figure()\n",
    "pints.plot.trace(chains, ref_parameters=parameters)\n",
    "plt.show()"
   ]
  },
  {
   "cell_type": "code",
   "execution_count": null,
   "metadata": {},
   "outputs": [],
   "source": [
    "# Discard warm up\n",
    "chains = chains[:, 2000:, :]\n",
    "\n",
    "# Get samples\n",
    "samples=np.vstack(chains)\n",
    "\n",
    "log_weight = [temperature * log_posterior(sample) for sample in samples]\n",
    "w = np.exp(log_weight - scipy.misc.logsumexp(log_weight))\n",
    "\n",
    "print('ESS = ' + str(ess(w)))\n",
    "\n",
    "idx = np.random.choice(len(w), size=ess(w), p=w)\n",
    "samples1 = samples[idx, :]\n",
    "\n",
    "# Look at distribution in chain 0\n",
    "pints.plot.pairwise(samples1, kde=True)\n",
    "\n",
    "# Show graphs\n",
    "plt.show()"
   ]
  },
  {
   "cell_type": "markdown",
   "metadata": {},
   "source": [
    "# Fitzhugh-Nagumo"
   ]
  },
  {
   "cell_type": "code",
   "execution_count": null,
   "metadata": {},
   "outputs": [],
   "source": [
    "# Create a model\n",
    "model = pints.toy.FitzhughNagumoModel()\n",
    "\n",
    "# Run a simulation\n",
    "parameters = [0.1, 0.5, 3]\n",
    "times = np.linspace(0, 20, 200)\n",
    "values = model.simulate(parameters, times)\n",
    "\n",
    "# First add some noise\n",
    "sigma = 0.5\n",
    "noisy = values + np.random.normal(0, sigma, values.shape)\n",
    "\n",
    "problem = pints.MultiOutputProblem(model, times, noisy)\n",
    "\n",
    "log_likelihood = pints.KnownNoiseLogLikelihood(problem, sigma)\n",
    "\n",
    "log_prior = pints.UniformLogPrior([0, 0, 0], [10, 10, 10])\n",
    "\n",
    "# Initial guesses\n",
    "x0 = [\n",
    "    [2, 3, 3],\n",
    "    [1, 4, 4],\n",
    "    [3, 2, 1],\n",
    "]\n",
    "\n",
    "log_posterior = pints.LogPosterior(log_likelihood, log_prior)\n",
    "mcmc = pints.MCMCSampling(log_posterior, 3, x0)\n",
    "mcmc.set_max_iterations(6000)\n",
    "chains = mcmc.run()\n",
    "\n",
    "plt.figure()\n",
    "pints.plot.trace(chains, ref_parameters=parameters)\n",
    "plt.show()\n",
    "\n",
    "# Discard warm up\n",
    "chains = chains[:, 1000:, :]\n",
    "\n",
    "# Get samples\n",
    "samples=np.vstack(chains)\n",
    "\n",
    "# Look at distribution in chain 0\n",
    "pints.plot.pairwise(samples, kde=True)\n",
    "\n",
    "# Show graphs\n",
    "plt.show()"
   ]
  },
  {
   "cell_type": "code",
   "execution_count": null,
   "metadata": {},
   "outputs": [],
   "source": [
    "temperature = 0.9\n",
    "log_posterior_t = TemperedLogPosterior(temperature=temperature, log_posterior=log_posterior)\n",
    "\n",
    "mcmc = pints.MCMCSampling(log_posterior_t, 3, x0)\n",
    "mcmc.set_max_iterations(6000)\n",
    "chains = mcmc.run()\n",
    "\n",
    "plt.figure()\n",
    "pints.plot.trace(chains, ref_parameters=parameters)\n",
    "plt.show()"
   ]
  },
  {
   "cell_type": "code",
   "execution_count": null,
   "metadata": {},
   "outputs": [],
   "source": [
    "# Discard warm up\n",
    "chains = chains[:, 1000:, :]\n",
    "\n",
    "# Get samples\n",
    "samples=np.vstack(chains)\n",
    "\n",
    "log_weight = [temperature * log_posterior(sample) for sample in samples]\n",
    "w = np.exp(log_weight - scipy.misc.logsumexp(log_weight))\n",
    "\n",
    "print('ESS = ' + str(ess(w)))\n",
    "\n",
    "idx = np.random.choice(len(w), size=ess(w), p=w)\n",
    "samples1 = samples[idx, :]\n",
    "\n",
    "# Look at distribution in chain 0\n",
    "pints.plot.pairwise(samples1, kde=True)\n",
    "\n",
    "# Show graphs\n",
    "plt.show()"
   ]
  },
  {
   "cell_type": "code",
   "execution_count": null,
   "metadata": {
    "collapsed": true
   },
   "outputs": [],
   "source": []
  }
 ],
 "metadata": {
  "kernelspec": {
   "display_name": "Python 2",
   "language": "python",
   "name": "python2"
  },
  "language_info": {
   "codemirror_mode": {
    "name": "ipython",
    "version": 2
   },
   "file_extension": ".py",
   "mimetype": "text/x-python",
   "name": "python",
   "nbconvert_exporter": "python",
   "pygments_lexer": "ipython2",
   "version": "2.7.14"
  }
 },
 "nbformat": 4,
 "nbformat_minor": 2
}
