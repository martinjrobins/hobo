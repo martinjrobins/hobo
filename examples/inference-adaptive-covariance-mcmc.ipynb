{
 "cells": [
  {
   "cell_type": "markdown",
   "metadata": {},
   "source": [
    "# Inference: Adaptive Covariance MCMC\n",
    "\n",
    "This example shows you how to perform Bayesian inference on a time series, using an adaptive MCMC method."
   ]
  },
  {
   "cell_type": "code",
   "execution_count": 4,
   "metadata": {},
   "outputs": [
    {
     "name": "stdout",
     "output_type": "stream",
     "text": [
      "Running...\n",
      "Done!\n"
     ]
    },
    {
     "data": {
      "image/png": "[encoded data removed]",
      "text/plain": [
       "<matplotlib.figure.Figure at 0x7fe92b376850>"
      ]
     },
     "metadata": {},
     "output_type": "display_data"
    }
   ],
   "source": [
    "from __future__ import print_function\n",
    "import pints\n",
    "import pints.toy as toy\n",
    "import numpy as np\n",
    "import matplotlib.pyplot as pl\n",
    "\n",
    "# Load a forward model\n",
    "model = toy.LogisticModel()\n",
    "\n",
    "# Create some toy data\n",
    "real_parameters = [0.015, 500]\n",
    "times = np.linspace(0, 1000, 1000)\n",
    "org_values = model.simulate(real_parameters, times)\n",
    "\n",
    "# Add noise\n",
    "noise = 10\n",
    "values = org_values + np.random.normal(0, noise, org_values.shape)\n",
    "real_parameters = np.array(real_parameters + [noise])\n",
    "\n",
    "# Get properties of the noise sample\n",
    "noise_sample_mean = np.mean(values - org_values)\n",
    "noise_sample_std = np.std(values - org_values)\n",
    "\n",
    "# Create an object with links to the model and time series\n",
    "problem = pints.SingleSeriesProblem(model, times, values)\n",
    "\n",
    "# Create a log-likelihood function (adds an extra parameter!)\n",
    "log_likelihood = pints.UnknownNoiseLogLikelihood(problem)\n",
    "\n",
    "# Create a uniform prior over both the parameters and the new noise variable\n",
    "prior = pints.UniformPrior(\n",
    "    [0.01, 400, noise*0.1],\n",
    "    [0.02, 600, noise*100]\n",
    "    )\n",
    "\n",
    "# Create a Bayesian log-likelihood (prior * likelihood)\n",
    "log_likelihood = pints.BayesianLogLikelihood(prior, log_likelihood)\n",
    "\n",
    "# Create an adaptive covariance MCMC routine\n",
    "x0 = real_parameters * 1.1\n",
    "mcmc = pints.AdaptiveCovarianceMCMC(log_likelihood, x0)\n",
    "\n",
    "# Aim for an acceptance rate of 0.3\n",
    "mcmc.set_acceptance_rate(0.3)\n",
    "\n",
    "# Use 4000 iterations in total\n",
    "mcmc.set_iterations(4000)\n",
    "\n",
    "# Start adapting after 1000 iterations\n",
    "mcmc.set_non_adaptative_iterations(1000)\n",
    "\n",
    "# Discard the first 2000 iterations as burn in\n",
    "mcmc.set_burn_in(2000)\n",
    "\n",
    "# Store only every 4th sample\n",
    "mcmc.set_thinning_rate(4)\n",
    "\n",
    "# Disable verbose mode\n",
    "mcmc.set_verbose(False)\n",
    "\n",
    "# Run!\n",
    "print('Running...')\n",
    "chain = mcmc.run()\n",
    "print('Done!')\n",
    "\n",
    "# Plot output\n",
    "pl.figure(figsize=(14, 9))\n",
    "for i, real in enumerate(real_parameters):\n",
    "    \n",
    "    # Add subplot\n",
    "    pl.subplot(len(real_parameters), 1, 1+i)\n",
    "    pl.xlabel('Parameter ' + str(i + 1))\n",
    "    \n",
    "    # Show true value\n",
    "    pl.axvline(real)\n",
    "    \n",
    "    # Show histogram of chain\n",
    "    pl.hist(chain[:,i], label='p' + str(i + 1), bins=40, color='green',\n",
    "        alpha=0.5)\n",
    "    \n",
    "    # Center plot around mean of chain\n",
    "    mu = np.mean(chain[:,i])\n",
    "    sigma = np.std(chain[:,i])\n",
    "    pl.xlim(mu - 3 * sigma, mu + 3 * sigma)\n",
    "\n",
    "pl.show()"
   ]
  }
 ],
 "metadata": {
  "kernelspec": {
   "display_name": "Python 2",
   "language": "python",
   "name": "python2"
  },
  "language_info": {
   "codemirror_mode": {
    "name": "ipython",
    "version": 2
   },
   "file_extension": ".py",
   "mimetype": "text/x-python",
   "name": "python",
   "nbconvert_exporter": "python",
   "pygments_lexer": "ipython2",
   "version": "2.7.14"
  }
 },
 "nbformat": 4,
 "nbformat_minor": 2
}
