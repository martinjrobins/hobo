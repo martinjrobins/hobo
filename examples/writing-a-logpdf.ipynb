{
 "cells": [
  {
   "cell_type": "markdown",
   "metadata": {},
   "source": [
    "# Writing a LogPDF\n",
    "\n",
    "Probability density functions in Pints can be defined via [models](writing-a-model.ipynb) and [problems](inference-first-example.ipynb), but they can also be defined directly.\n",
    "\n",
    "In this example, we implement the [Rosenbrock function](https://en.wikipedia.org/wiki/Rosenbrock_function) and run an [optimisation](optimisation-first-example.ipynb) using it."
   ]
  },
  {
   "cell_type": "markdown",
   "metadata": {},
   "source": [
    "The rosenbrock function is a two dimensional defined as\n",
    "\n",
    "```\n",
    "f(x,y) = -((a - x)^2 + b(y - x^2)^2)\n",
    "```\n",
    "\n",
    "where ``a`` and ``b`` are constants and ``x`` and ``y`` are variable. In analogy with typical Pints models ``x`` and ``y`` are our _parameters_."
   ]
  },
  {
   "cell_type": "markdown",
   "metadata": {},
   "source": [
    "First, take a look at the [LogPDF](http://pints.readthedocs.io/en/latest/log_pdfs.html#pints.LogPDF) interface. It tells us two things:\n",
    "\n",
    "1. We need to add a `dimension()` method that tells pints the dimension of the problem space\n",
    "2. Objects of our class should be _callable_. In Python, we can do this using the [special method](https://docs.python.org/3/reference/datamodel.html#object.__call__) `__call__`."
   ]
  },
  {
   "cell_type": "markdown",
   "metadata": {},
   "source": [
    "The input to this method should be a vector, so we should rewrite it as\n",
    "\n",
    "```\n",
    "f(p) = -((a - p[0])^2 + b(p[1] - p[0]^2)^2)\n",
    "```\n",
    "\n"
   ]
  },
  {
   "cell_type": "markdown",
   "metadata": {},
   "source": [
    "The result of calling this method should be the logarithm of a normalised log likelihood. That means we should (1) take the logarithm of ``f`` instead of returning it directly, and (2) invert the method, so that it has a clearly defined _maximum_ that we can search for.\n",
    "\n",
    "So we should create an object that evaluates\n",
    "\n",
    "```\n",
    "-log(f(p))\n",
    "```"
   ]
  },
  {
   "cell_type": "markdown",
   "metadata": {},
   "source": [
    "We now have all we need to implement a ```Rosenbrock``` class:"
   ]
  },
  {
   "cell_type": "code",
   "execution_count": 1,
   "metadata": {},
   "outputs": [],
   "source": [
    "import numpy as np\n",
    "import pints\n",
    "\n",
    "class Rosenbrock(pints.LogPDF):\n",
    "    def __init__(self, a=1, b=100):\n",
    "        self._a = a\n",
    "        self._b = b\n",
    "\n",
    "    def __call__(self, x):\n",
    "        return - np.log((self._a - x[0])**2 + self._b * (x[1] - x[0]**2)**2)\n",
    "\n",
    "    def dimension(self):\n",
    "        return 2"
   ]
  },
  {
   "cell_type": "markdown",
   "metadata": {},
   "source": [
    "We can test our class by creating an object and calling it with a few parameters:"
   ]
  },
  {
   "cell_type": "code",
   "execution_count": 2,
   "metadata": {},
   "outputs": [
    {
     "name": "stdout",
     "output_type": "stream",
     "text": [
      "-0.0\n",
      "-0.482426149244\n",
      "0.653926467407\n"
     ]
    }
   ],
   "source": [
    "r = Rosenbrock()\n",
    "print(r([0, 0]))\n",
    "print(r([0.1, 0.1]))\n",
    "print(r([0.4, 0.2]))"
   ]
  },
  {
   "cell_type": "markdown",
   "metadata": {},
   "source": [
    "Wikipedia tells for that for ``a = 1`` and ``b = 100`` the minimum value should be at ``[1, 1]``. We can test this by inspecting its value at that point:"
   ]
  },
  {
   "cell_type": "code",
   "execution_count": 3,
   "metadata": {},
   "outputs": [
    {
     "name": "stderr",
     "output_type": "stream",
     "text": [
      "/usr/lib/python3.6/site-packages/ipykernel_launcher.py:10: RuntimeWarning: divide by zero encountered in log\n",
      "  # Remove the CWD from sys.path while we load stuff.\n"
     ]
    },
    {
     "data": {
      "text/plain": [
       "inf"
      ]
     },
     "execution_count": 3,
     "metadata": {},
     "output_type": "execute_result"
    }
   ],
   "source": [
    "r([1, 1])"
   ]
  },
  {
   "cell_type": "markdown",
   "metadata": {},
   "source": [
    "We get an error here, because the notebook doesn't like it, but it returns the correct value!"
   ]
  },
  {
   "cell_type": "markdown",
   "metadata": {},
   "source": [
    "Now let's try an optimisation:"
   ]
  },
  {
   "cell_type": "code",
   "execution_count": 5,
   "metadata": {},
   "outputs": [
    {
     "ename": "AttributeError",
     "evalue": "module 'pints' has no attribute 'LogLikelihoodBasedError'",
     "output_type": "error",
     "traceback": [
      "\u001b[0;31m---------------------------------------------------------------------------\u001b[0m",
      "\u001b[0;31mAttributeError\u001b[0m                            Traceback (most recent call last)",
      "\u001b[0;32m<ipython-input-5-9211741e8d15>\u001b[0m in \u001b[0;36m<module>\u001b[0;34m()\u001b[0m\n\u001b[1;32m      6\u001b[0m \u001b[0;34m\u001b[0m\u001b[0m\n\u001b[1;32m      7\u001b[0m \u001b[0;31m# And run!\u001b[0m\u001b[0;34m\u001b[0m\u001b[0;34m\u001b[0m\u001b[0m\n\u001b[0;32m----> 8\u001b[0;31m \u001b[0mxbest\u001b[0m\u001b[0;34m,\u001b[0m \u001b[0mfbest\u001b[0m \u001b[0;34m=\u001b[0m \u001b[0mpints\u001b[0m\u001b[0;34m.\u001b[0m\u001b[0moptimise\u001b[0m\u001b[0;34m(\u001b[0m\u001b[0mr\u001b[0m\u001b[0;34m,\u001b[0m \u001b[0mx0\u001b[0m\u001b[0;34m,\u001b[0m \u001b[0mboundaries\u001b[0m\u001b[0;34m=\u001b[0m\u001b[0mboundaries\u001b[0m\u001b[0;34m)\u001b[0m\u001b[0;34m\u001b[0m\u001b[0m\n\u001b[0m",
      "\u001b[0;32m~/dev/pints/pints/_optimisers/__init__.py\u001b[0m in \u001b[0;36moptimise\u001b[0;34m(function, x0, sigma0, boundaries, method)\u001b[0m\n\u001b[1;32m    481\u001b[0m     \u001b[0mReturns\u001b[0m \u001b[0ma\u001b[0m \u001b[0mtuple\u001b[0m\u001b[0;31m \u001b[0m\u001b[0;31m`\u001b[0m\u001b[0;34m(\u001b[0m\u001b[0mxbest\u001b[0m\u001b[0;34m,\u001b[0m \u001b[0mfbest\u001b[0m\u001b[0;34m)\u001b[0m\u001b[0;31m`\u001b[0m\u001b[0;34m.\u001b[0m\u001b[0;34m\u001b[0m\u001b[0m\n\u001b[1;32m    482\u001b[0m     \"\"\"\n\u001b[0;32m--> 483\u001b[0;31m     \u001b[0;32mreturn\u001b[0m \u001b[0mOptimisation\u001b[0m\u001b[0;34m(\u001b[0m\u001b[0mfunction\u001b[0m\u001b[0;34m,\u001b[0m \u001b[0mx0\u001b[0m\u001b[0;34m,\u001b[0m \u001b[0msigma0\u001b[0m\u001b[0;34m,\u001b[0m \u001b[0mboundaries\u001b[0m\u001b[0;34m,\u001b[0m \u001b[0mmethod\u001b[0m\u001b[0;34m)\u001b[0m\u001b[0;34m.\u001b[0m\u001b[0mrun\u001b[0m\u001b[0;34m(\u001b[0m\u001b[0;34m)\u001b[0m\u001b[0;34m\u001b[0m\u001b[0m\n\u001b[0m\u001b[1;32m    484\u001b[0m \u001b[0;34m\u001b[0m\u001b[0m\n\u001b[1;32m    485\u001b[0m \u001b[0;34m\u001b[0m\u001b[0m\n",
      "\u001b[0;32m~/dev/pints/pints/_optimisers/__init__.py\u001b[0m in \u001b[0;36m__init__\u001b[0;34m(self, function, x0, sigma0, boundaries, method)\u001b[0m\n\u001b[1;32m    189\u001b[0m         \u001b[0;32mif\u001b[0m \u001b[0misinstance\u001b[0m\u001b[0;34m(\u001b[0m\u001b[0mfunction\u001b[0m\u001b[0;34m,\u001b[0m \u001b[0mpints\u001b[0m\u001b[0;34m.\u001b[0m\u001b[0mLogLikelihood\u001b[0m\u001b[0;34m)\u001b[0m\u001b[0;34m:\u001b[0m\u001b[0;34m\u001b[0m\u001b[0m\n\u001b[1;32m    190\u001b[0m             \u001b[0;31m# Likelihood function given? Then wrap an inverter around it\u001b[0m\u001b[0;34m\u001b[0m\u001b[0;34m\u001b[0m\u001b[0m\n\u001b[0;32m--> 191\u001b[0;31m             \u001b[0mself\u001b[0m\u001b[0;34m.\u001b[0m\u001b[0m_function\u001b[0m \u001b[0;34m=\u001b[0m \u001b[0mpints\u001b[0m\u001b[0;34m.\u001b[0m\u001b[0mLogLikelihoodBasedError\u001b[0m\u001b[0;34m(\u001b[0m\u001b[0mfunction\u001b[0m\u001b[0;34m)\u001b[0m\u001b[0;34m\u001b[0m\u001b[0m\n\u001b[0m\u001b[1;32m    192\u001b[0m             \u001b[0;31m# TODO: Do this internally, so that we can return the correct\u001b[0m\u001b[0;34m\u001b[0m\u001b[0;34m\u001b[0m\u001b[0m\n\u001b[1;32m    193\u001b[0m             \u001b[0;31m# (inverted) value!?\u001b[0m\u001b[0;34m\u001b[0m\u001b[0;34m\u001b[0m\u001b[0m\n",
      "\u001b[0;31mAttributeError\u001b[0m: module 'pints' has no attribute 'LogLikelihoodBasedError'"
     ]
    }
   ],
   "source": [
    "# Define some boundaries\n",
    "boundaries = pints.Boundaries([-5, -5], [5, 5])\n",
    "\n",
    "# Pick an initial point\n",
    "x0 = [2, 2]\n",
    "\n",
    "# And run!\n",
    "xbest, fbest = pints.optimise(r, x0, boundaries=boundaries)"
   ]
  }
 ],
 "metadata": {
  "kernelspec": {
   "display_name": "Python 3",
   "language": "python",
   "name": "python3"
  },
  "language_info": {
   "codemirror_mode": {
    "name": "ipython",
    "version": 3
   },
   "file_extension": ".py",
   "mimetype": "text/x-python",
   "name": "python",
   "nbconvert_exporter": "python",
   "pygments_lexer": "ipython3",
   "version": "3.6.4"
  }
 },
 "nbformat": 4,
 "nbformat_minor": 2
}
