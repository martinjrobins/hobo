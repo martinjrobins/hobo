{
 "cells": [
  {
   "cell_type": "code",
   "execution_count": 2,
   "metadata": {},
   "outputs": [
    {
     "name": "stdout",
     "output_type": "stream",
     "text": [
      "Running...\n",
      "Done!\n"
     ]
    }
   ],
   "source": [
    "from __future__ import print_function\n",
    "import pints\n",
    "import pints.toy as toy\n",
    "import pints._diagnostics as diagnostics\n",
    "import numpy as np\n",
    "import matplotlib.pyplot as plt\n",
    "import time\n",
    "\n",
    "# Load a forward model\n",
    "model = toy.LogisticModel()\n",
    "\n",
    "# Create some toy data\n",
    "real_parameters = [0.015, 500]\n",
    "times = np.linspace(0, 1000, 1000)\n",
    "org_values = model.simulate(real_parameters, times)\n",
    "\n",
    "# Add noise\n",
    "noise = 10\n",
    "values = org_values + np.random.normal(0, noise, org_values.shape)\n",
    "real_parameters = np.array(real_parameters + [noise])\n",
    "\n",
    "# Get properties of the noise sample\n",
    "noise_sample_mean = np.mean(values - org_values)\n",
    "noise_sample_std = np.std(values - org_values)\n",
    "\n",
    "# Create an object with links to the model and time series\n",
    "problem = pints.SingleSeriesProblem(model, times, values)\n",
    "\n",
    "# Create a log-likelihood function (adds an extra parameter!)\n",
    "log_likelihood = pints.UnknownNoiseLogLikelihood(problem)\n",
    "\n",
    "# Create a uniform prior over both the parameters and the new noise variable\n",
    "prior = pints.UniformPrior(\n",
    "    [0.01, 400, noise*0.1],\n",
    "    [0.02, 600, noise*100]\n",
    "    )\n",
    "\n",
    "# Create a Bayesian log-likelihood (prior * likelihood)\n",
    "log_posterior = pints.LogPosterior(prior, log_likelihood)\n",
    "\n",
    "# Create an adaptive covariance MCMC routine\n",
    "x0 = real_parameters * 1.1\n",
    "mcmc = pints.AdaptiveCovarianceMCMC(log_likelihood, x0)\n",
    "\n",
    "# Aim for an acceptance rate of 0.3\n",
    "mcmc.set_acceptance_rate(0.3)\n",
    "\n",
    "# Use 4000 iterations in total\n",
    "mcmc.set_iterations(4000)\n",
    "\n",
    "# Start adapting after 1000 iterations\n",
    "mcmc.set_non_adaptive_iterations(1000)\n",
    "\n",
    "# Discard the first 2000 iterations as burn in\n",
    "mcmc.set_burn_in(2000)\n",
    "\n",
    "# Store only every 4th sample\n",
    "mcmc.set_thinning_rate(4)\n",
    "\n",
    "# Disable verbose mode\n",
    "mcmc.set_verbose(False)\n",
    "\n",
    "# Number of chains\n",
    "num_chains = 4\n",
    "\n",
    "# Run 4 chains - needs to be part of default call to MCMC objects\n",
    "start = time.time()\n",
    "print('Running...')\n",
    "chains = []\n",
    "for i in range(0,num_chains):\n",
    "    chain = mcmc.run()\n",
    "    chains.append(chain)\n",
    "print('Done!')\n",
    "end = time.time()\n",
    "run_time = end - start\n",
    "\n",
    "result = pints.McmcResultObject(chains, run_time)"
   ]
  },
  {
   "cell_type": "code",
   "execution_count": 3,
   "metadata": {},
   "outputs": [
    {
     "name": "stdout",
     "output_type": "stream",
     "text": [
      "param    mean    std.    2.5%    25%     50%     75%     97.5%    rhat    ess     ess per sec.\n",
      "-------  ------  ------  ------  ------  ------  ------  -------  ------  ------  --------------\n",
      "param 1  0.02    0.00    0.01    0.02    0.02    0.02    0.02     1.00    482.81  75.61\n",
      "param 2  498.95  0.45    498.06  498.64  498.95  499.26  499.85   1.00    438.87  68.73\n",
      "param 3  10.08   0.22    9.66    9.92    10.08   10.22   10.53    1.00    440.59  69.00\n"
     ]
    }
   ],
   "source": [
    "result.print_summary()"
   ]
  },
  {
   "cell_type": "code",
   "execution_count": 4,
   "metadata": {},
   "outputs": [
    {
     "data": {
      "image/png": "[encoded data removed]",
      "text/plain": [
       "<matplotlib.figure.Figure at 0x10e977e90>"
      ]
     },
     "metadata": {},
     "output_type": "display_data"
    }
   ],
   "source": [
    "# extract samples for parameter number 0\n",
    "samples_0 = result.extract(0)\n",
    "\n",
    "# plot them\n",
    "plt.hist(samples_0)\n",
    "plt.show()"
   ]
  }
 ],
 "metadata": {
  "kernelspec": {
   "display_name": "Python 2",
   "language": "python",
   "name": "python2"
  },
  "language_info": {
   "codemirror_mode": {
    "name": "ipython",
    "version": 2
   },
   "file_extension": ".py",
   "mimetype": "text/x-python",
   "name": "python",
   "nbconvert_exporter": "python",
   "pygments_lexer": "ipython2",
   "version": "2.7.14"
  }
 },
 "nbformat": 4,
 "nbformat_minor": 2
}
