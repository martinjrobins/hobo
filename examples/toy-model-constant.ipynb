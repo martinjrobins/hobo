{
 "cells": [
  {
   "cell_type": "markdown",
   "metadata": {},
   "source": [
    "# Constant model\n",
    "\n",
    "This model returns a value that doesn't change over time, and is mainly useful for testing purposes.\n",
    "\n",
    "\n",
    "The returned value is constant in time, but varies linearly with the given parameters:\n",
    "It returns a vector where at each time point $\\boldsymbol{f}(t) = (a_1, 2 a_2, 3 a_3, ... , k a_k)$ for the user-determined parameter vector $(a_1, a_2, a_3, ... , a_k)$."
   ]
  },
  {
   "cell_type": "markdown",
   "metadata": {},
   "source": [
    "## Single-output example\n",
    "\n",
    "For a single output, the model takes 1 parameter:"
   ]
  },
  {
   "cell_type": "code",
   "execution_count": 2,
   "metadata": {},
   "outputs": [
    {
     "name": "stdout",
     "output_type": "stream",
     "text": [
      "1 1\n"
     ]
    },
    {
     "data": {
      "image/png": "[encoded data removed]",
      "text/plain": [
       "<Figure size 432x288 with 1 Axes>"
      ]
     },
     "metadata": {},
     "output_type": "display_data"
    }
   ],
   "source": [
    "from __future__ import print_function\n",
    "import pints\n",
    "import pints.toy as toy\n",
    "import numpy as np\n",
    "import matplotlib.pyplot as plt\n",
    "\n",
    "# Load a forward model\n",
    "model = toy.ConstantModel(1)\n",
    "\n",
    "# The number of parameters equals the number of outputs\n",
    "print(model.n_parameters(), model.n_outputs())\n",
    "\n",
    "# Create some toy data\n",
    "real_parameters = [1]\n",
    "times = np.linspace(0, 1000, 1000)\n",
    "values = model.simulate([2], times)\n",
    "\n",
    "# Plot\n",
    "plt.plot(times, values, label = 'f(t) = 2')\n",
    "plt.xlabel('Time')\n",
    "plt.ylabel('Values')\n",
    "plt.legend()\n",
    "plt.show()"
   ]
  },
  {
   "cell_type": "markdown",
   "metadata": {},
   "source": [
    "## Multi-output example\n",
    "\n",
    "We can do the same with multiple outputs"
   ]
  },
  {
   "cell_type": "code",
   "execution_count": 5,
   "metadata": {},
   "outputs": [
    {
     "name": "stdout",
     "output_type": "stream",
     "text": [
      "3 3\n"
     ]
    },
    {
     "data": {
      "image/png": "[encoded data removed]",
      "text/plain": [
       "<Figure size 432x288 with 1 Axes>"
      ]
     },
     "metadata": {},
     "output_type": "display_data"
    }
   ],
   "source": [
    "from __future__ import print_function\n",
    "import pints\n",
    "import pints.toy as toy\n",
    "import numpy as np\n",
    "import matplotlib.pyplot as plt\n",
    "\n",
    "# Load a forward model\n",
    "model = toy.ConstantModel(3)\n",
    "\n",
    "# The number of parameters equals the number of outputs\n",
    "print(model.n_parameters(), model.n_outputs())\n",
    "\n",
    "# Create some toy data\n",
    "real_parameters = [1]\n",
    "times = np.linspace(0, 1000, 1000)\n",
    "values = model.simulate([2, -1, 4], times)\n",
    "\n",
    "# Plot\n",
    "plt.plot(times, values[:, 0], label = 'f_1(t) = 1 * 2')\n",
    "plt.plot(times, values[:, 1], label = 'f_2(t) = 2 * -1')\n",
    "plt.plot(times, values[:, 2], label = 'f_3(t) = 3 * 4')\n",
    "plt.xlabel('Time')\n",
    "plt.ylabel('Values')\n",
    "plt.legend()\n",
    "plt.show()"
   ]
  }
 ],
 "metadata": {
  "kernelspec": {
   "display_name": "Python 2",
   "language": "python",
   "name": "python2"
  },
  "language_info": {
   "codemirror_mode": {
    "name": "ipython",
    "version": 3
   },
   "file_extension": ".py",
   "mimetype": "text/x-python",
   "name": "python",
   "nbconvert_exporter": "python",
   "pygments_lexer": "ipython3",
   "version": "3.6.6"
  }
 },
 "nbformat": 4,
 "nbformat_minor": 2
}
