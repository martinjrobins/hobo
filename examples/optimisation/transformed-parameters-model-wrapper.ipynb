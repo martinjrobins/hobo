{
 "cells": [
  {
   "cell_type": "markdown",
   "metadata": {},
   "source": [
    "# Optimisation in a transformed parameter space - using a model wrapper"
   ]
  },
  {
   "cell_type": "markdown",
   "metadata": {},
   "source": [
    "This example shows you how to run an optimisation in a transformed parameter space by writing a wrapper around a [pints.ForwardModel](https://pints.readthedocs.io/en/latest/core_classes_and_methods.html#pints.ForwardModel).\n",
    "(For an introduction to PINTS optimisation, see: [Optimisation: first example](./first-example.ipynb).)\n",
    "\n",
    "Pints provides a transformation interface through [pints.Transformation](https://pints.readthedocs.io/en/latest/transformations.html#pints.Transformation).\n",
    "We show how to use `pints.Transformation` for an [optimisation example](./transformed-parameters.ipynb) and for a [sampling example](../sampling/transformed-parameters.ipynb).\n",
    "We strongly recommend using PINTS' transformation interface as it handles all the subtle corrections such as Jacobian adjustment for PDFs, chain rule for calculating sensitivity, etc. that one might easily miss when writing their own transformation wrapper."
   ]
  },
  {
   "cell_type": "markdown",
   "metadata": {},
   "source": [
    "First we will create a toy model, in this case a [logistic model](https://pints.readthedocs.io/en/latest/toy/logistic_model.html)."
   ]
  },
  {
   "cell_type": "code",
   "execution_count": 1,
   "metadata": {},
   "outputs": [],
   "source": [
    "import matplotlib.pyplot as plt\n",
    "import numpy as np\n",
    "import pints\n",
    "import pints.toy as toy\n",
    "\n",
    "model = toy.LogisticModel()"
   ]
  },
  {
   "cell_type": "markdown",
   "metadata": {},
   "source": [
    "The parameter vector for the toy logistic model is $\\theta_\\text{org} = [r, K]$, where $r$ is a growth rate and $K$ is called the carrying capacity.\n",
    "Because these parameters have very different magnitudes, we will create a wrapper that instead uses the parameter vector $\\theta = [r, \\log(K)]$"
   ]
  },
  {
   "cell_type": "code",
   "execution_count": 2,
   "metadata": {},
   "outputs": [],
   "source": [
    "class TransformedModel(pints.ForwardModel):\n",
    "    def __init__(self, model):\n",
    "        self._model = model\n",
    "    \n",
    "    def n_parameters(self):\n",
    "        return self._model.n_parameters()\n",
    "    \n",
    "    def simulate(self, parameters, times):\n",
    "        transformed_parameters = [parameters[0], np.exp(parameters[1])]\n",
    "        return self._model.simulate(transformed_parameters,times)\n",
    "\n",
    "transformed_model = TransformedModel(model)"
   ]
  },
  {
   "cell_type": "markdown",
   "metadata": {},
   "source": [
    "Just like the untransformed model, we can use this transformed variant with several PINTS routines.\n",
    "\n",
    "For example, we can fit it to a synthetic data set using CMA-ES:"
   ]
  },
  {
   "cell_type": "code",
   "execution_count": 3,
   "metadata": {},
   "outputs": [
    {
     "name": "stdout",
     "output_type": "stream",
     "text": [
      "Minimising error measure\n",
      "Using Covariance Matrix Adaptation Evolution Strategy (CMA-ES)\n",
      "Running in sequential mode.\n",
      "Population size: 6\n",
      "Iter. Eval. Best      Time m:s\n",
      "0     6      3.44e+07   0:00.0\n",
      "1     12     3.4e+07    0:00.0\n",
      "2     18     3.34e+07   0:00.0\n",
      "3     24     3.14e+07   0:00.0\n",
      "20    126    643723.5   0:00.1\n",
      "40    246    188157.2   0:00.1\n",
      "60    366    101666.8   0:00.1\n",
      "80    486    101437.4   0:00.2\n",
      "100   606    101437.1   0:00.2\n",
      "120   726    101437.1   0:00.3\n",
      "140   846    101437.1   0:00.3\n",
      "160   966    101437.1   0:00.4\n",
      "180   1086   101437.1   0:00.4\n",
      "200   1206   101437.1   0:00.5\n",
      "220   1326   101437.1   0:00.5\n",
      "240   1446   101437.1   0:00.6\n",
      "260   1566   101437.1   0:00.6\n",
      "280   1686   101437.1   0:00.6\n",
      "300   1806   101437.1   0:00.7\n",
      "320   1926   101437.1   0:00.7\n",
      "340   2046   101437.1   0:00.8\n",
      "342   2052   101437.1   0:00.8\n",
      "Halting: No significant change for 200 iterations.\n",
      "Score at true solution: \n",
      "101503.5654159602\n",
      "Found solution:          True parameters:\n",
      " 1.50147206230228803e-02     1.49999999999999994e-02\n",
      " 5.99920303031473079e+00     6.00000000000000000e+00\n"
     ]
    },
    {
     "data": {
      "image/png": "[encoded data removed]",
      "text/plain": [
       "<Figure size 432x288 with 1 Axes>"
      ]
     },
     "metadata": {
      "needs_background": "light"
     },
     "output_type": "display_data"
    }
   ],
   "source": [
    "# Create some toy data\n",
    "real_parameters = [0.015, 6]\n",
    "times = np.linspace(0, 1000, 1000)\n",
    "values = transformed_model.simulate(real_parameters, times)\n",
    "\n",
    "# Add noise\n",
    "values += np.random.normal(0, 10, values.shape)\n",
    "\n",
    "# Create an object with links to the model and time series\n",
    "problem = pints.SingleOutputProblem(transformed_model, times, values)\n",
    "\n",
    "# Select a score function\n",
    "score = pints.SumOfSquaresError(problem)\n",
    "\n",
    "# Select some boundaries\n",
    "boundaries = pints.RectangularBoundaries([0, -6.0], [0.03, 20.0])\n",
    "\n",
    "# Perform an optimisation with boundaries and hints\n",
    "x0 = 0.01,5.0\n",
    "sigma0 = [0.01, 2.0]\n",
    "found_parameters, found_value = pints.optimise(\n",
    "    score,\n",
    "    x0,\n",
    "    sigma0,\n",
    "    boundaries,\n",
    "    method=pints.CMAES,\n",
    ")\n",
    "\n",
    "# Show score of true solution\n",
    "print('Score at true solution: ')\n",
    "print(score(real_parameters))\n",
    "\n",
    "# Compare parameters with original\n",
    "print('Found solution:          True parameters:' )\n",
    "for k, x in enumerate(found_parameters):\n",
    "    print(pints.strfloat(x) + '    ' + pints.strfloat(real_parameters[k]))\n",
    "\n",
    "# Show quality of fit\n",
    "plt.figure()\n",
    "plt.xlabel('Time')\n",
    "plt.ylabel('Value')\n",
    "plt.plot(times, values, label='Nosiy data')\n",
    "plt.plot(times, problem.evaluate(found_parameters), label='Fit')\n",
    "plt.legend()\n",
    "plt.show()"
   ]
  }
 ],
 "metadata": {
  "kernelspec": {
   "display_name": "Python 3",
   "language": "python",
   "name": "python3"
  },
  "language_info": {
   "codemirror_mode": {
    "name": "ipython",
    "version": 3
   },
   "file_extension": ".py",
   "mimetype": "text/x-python",
   "name": "python",
   "nbconvert_exporter": "python",
   "pygments_lexer": "ipython3",
   "version": "3.7.7"
  }
 },
 "nbformat": 4,
 "nbformat_minor": 2
}
