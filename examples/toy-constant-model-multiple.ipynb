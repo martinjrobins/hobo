{
 "cells": [
  {
   "cell_type": "markdown",
   "metadata": {},
   "source": [
    "# Constant model with multiple outputs example\n",
    "\n",
    "This model is mainly useful for testing purposes and returns a vector at each time point $\\boldsymbol{f}(t) = (a_1, a_2,... , a_k)$ for a user-determined parameter vector (a_1, a_2,... , a_k)."
   ]
  },
  {
   "cell_type": "code",
   "execution_count": 13,
   "metadata": {},
   "outputs": [
    {
     "data": {
      "image/png": "[encoded data removed]",
      "text/plain": [
       "<matplotlib.figure.Figure at 0x106ccad90>"
      ]
     },
     "metadata": {},
     "output_type": "display_data"
    }
   ],
   "source": [
    "from __future__ import print_function\n",
    "import pints\n",
    "import pints.toy as toy\n",
    "import pints.plot\n",
    "import numpy as np\n",
    "import matplotlib.pyplot as plt\n",
    "# Load a forward model\n",
    "model = toy.ConstantModelMultiple()\n",
    "\n",
    "# Create some toy data\n",
    "real_parameters = [1]\n",
    "times = np.linspace(0, 1000, 1000)\n",
    "values_minus_1_2_10 = model.simulate([-1, 2, 10], times)\n",
    "\n",
    "# Plot\n",
    "plt.plot(times, values_minus_1_2_10[0], label = 'f(t) = -1')\n",
    "plt.plot(times, values_minus_1_2_10[1], label = 'f(t) = 2')\n",
    "plt.plot(times, values_minus_1_2_10[2], label = 'f(t) = 10')\n",
    "plt.xlabel('Time')\n",
    "plt.ylabel('Values')\n",
    "plt.legend()\n",
    "plt.show()\n",
    "values_minus_1_2_10 = model.simulate([10], times)"
   ]
  }
 ],
 "metadata": {
  "kernelspec": {
   "display_name": "Python 2",
   "language": "python",
   "name": "python2"
  },
  "language_info": {
   "codemirror_mode": {
    "name": "ipython",
    "version": 2
   },
   "file_extension": ".py",
   "mimetype": "text/x-python",
   "name": "python",
   "nbconvert_exporter": "python",
   "pygments_lexer": "ipython2",
   "version": "2.7.14"
  }
 },
 "nbformat": 4,
 "nbformat_minor": 2
}
