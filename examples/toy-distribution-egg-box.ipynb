{
 "cells": [
  {
   "cell_type": "markdown",
   "metadata": {},
   "source": [
    "# Egg box distribution\n",
    "Here we introduce the \"egg box\" distribution described by eqn. (31) in [1], which is a two-dimensional distribution described by,\n",
    "\n",
    "$$ p(\\theta_1,\\theta_2) \\propto \\text{exp} \\left[2 + \\text{cos}(\\theta_1/2) \\text{cos}(\\theta_2/2)\\right]^5,$$\n",
    "\n",
    "where $\\theta_1,\\theta_2 \\in [0,10\\pi]$. \n",
    "\n",
    "[1] \"MULTINEST: an efficient and robust Bayesian inference tool for cosmology and particle physics\", Mon. Not. R. Astron. Soc. 000, 1–14 (2008), F. Feroz, M.P. Hobson and M. Bridges."
   ]
  },
  {
   "cell_type": "code",
   "execution_count": null,
   "metadata": {
    "collapsed": true
   },
   "outputs": [],
   "source": []
  }
 ],
 "metadata": {
  "kernelspec": {
   "display_name": "Python 3",
   "language": "python",
   "name": "python3"
  },
  "language_info": {
   "codemirror_mode": {
    "name": "ipython",
    "version": 3
   },
   "file_extension": ".py",
   "mimetype": "text/x-python",
   "name": "python",
   "nbconvert_exporter": "python",
   "pygments_lexer": "ipython3",
   "version": "3.6.3"
  }
 },
 "nbformat": 4,
 "nbformat_minor": 2
}
