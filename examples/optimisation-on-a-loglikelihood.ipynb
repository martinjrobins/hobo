{
 "cells": [
  {
   "cell_type": "markdown",
   "metadata": {},
   "source": [
    "# Optimisation: Maximising a loglikelihood\n",
    "\n",
    "As well as minimising error functions, PINTS optimisation can be used to find the maximum of a loglikelihood (or of any [pints.LogPDF object](https://pints.readthedocs.io/en/latest/log_pdfs.html#pints.LogPDF)).\n",
    "\n",
    "Following on from the [first example](optimisation-first-example.ipynb), we can define an inference problem using the [logistic model](https://pints.readthedocs.io/en/latest/toy/logistic_model.html#module-pints.toy):"
   ]
  },
  {
   "cell_type": "code",
   "execution_count": 3,
   "metadata": {},
   "outputs": [
    {
     "data": {
      "image/png": "[encoded data removed]",
      "text/plain": [
       "<Figure size 432x288 with 1 Axes>"
      ]
     },
     "metadata": {},
     "output_type": "display_data"
    }
   ],
   "source": [
    "import matplotlib.pyplot as plt\n",
    "import numpy as np\n",
    "import pints\n",
    "import pints.toy as toy\n",
    "\n",
    "# Create a model\n",
    "model = toy.LogisticModel()\n",
    "\n",
    "# Set some parameters\n",
    "real_parameters = [0.1, 50]\n",
    "\n",
    "# Create fake data\n",
    "times = model.suggested_times()\n",
    "values = model.simulate(real_parameters, times)\n",
    "noisy_values = values + np.random.normal(0, 3, times.shape)\n",
    "\n",
    "# Create an inference problem\n",
    "problem = pints.SingleOutputProblem(model, times, noisy_values)\n",
    "\n",
    "# Show the generated data\n",
    "plt.figure()\n",
    "plt.xlabel('Time')\n",
    "plt.ylabel('Values')\n",
    "plt.plot(times, noisy_values)\n",
    "plt.plot(times, values)\n",
    "plt.show()"
   ]
  },
  {
   "cell_type": "markdown",
   "metadata": {},
   "source": [
    "As before, we can now define an error function an minimise it:"
   ]
  },
  {
   "cell_type": "code",
   "execution_count": 4,
   "metadata": {},
   "outputs": [
    {
     "name": "stdout",
     "output_type": "stream",
     "text": [
      "Obtained parameters:\n",
      "[ 0.10335618 49.37330126]\n"
     ]
    }
   ],
   "source": [
    "score = pints.SumOfSquaresError(problem)\n",
    "\n",
    "boundaries = pints.RectangularBoundaries([0, 5], [1, 500])\n",
    "\n",
    "x0 = np.array([0.5, 200])\n",
    "opt = pints.Optimisation(score, x0, method=pints.XNES)\n",
    "opt.set_log_to_screen(False)\n",
    "x1, f1 = opt.run()\n",
    "print('Obtained parameters:')\n",
    "print(x1)"
   ]
  },
  {
   "cell_type": "markdown",
   "metadata": {},
   "source": [
    "But we could also use a log likelihood instead!"
   ]
  },
  {
   "cell_type": "code",
   "execution_count": 5,
   "metadata": {},
   "outputs": [],
   "source": [
    "loglikelihood = pints.UnknownNoiseLogLikelihood(problem)"
   ]
  },
  {
   "cell_type": "code",
   "execution_count": 6,
   "metadata": {},
   "outputs": [
    {
     "ename": "ValueError",
     "evalue": "Starting point must have same dimension as function to optimise.",
     "output_type": "error",
     "traceback": [
      "\u001b[0;31m---------------------------------------------------------------------------\u001b[0m",
      "\u001b[0;31mValueError\u001b[0m                                Traceback (most recent call last)",
      "\u001b[0;32m<ipython-input-6-861dd26b4f29>\u001b[0m in \u001b[0;36m<module>\u001b[0;34m()\u001b[0m\n\u001b[0;32m----> 1\u001b[0;31m \u001b[0mopt\u001b[0m \u001b[0;34m=\u001b[0m \u001b[0mpints\u001b[0m\u001b[0;34m.\u001b[0m\u001b[0mOptimisation\u001b[0m\u001b[0;34m(\u001b[0m\u001b[0mloglikelihood\u001b[0m\u001b[0;34m,\u001b[0m \u001b[0mx0\u001b[0m\u001b[0;34m,\u001b[0m \u001b[0mmethod\u001b[0m\u001b[0;34m=\u001b[0m\u001b[0mpints\u001b[0m\u001b[0;34m.\u001b[0m\u001b[0mXNES\u001b[0m\u001b[0;34m)\u001b[0m\u001b[0;34m\u001b[0m\u001b[0;34m\u001b[0m\u001b[0m\n\u001b[0m\u001b[1;32m      2\u001b[0m \u001b[0mx2\u001b[0m\u001b[0;34m,\u001b[0m \u001b[0mf2\u001b[0m \u001b[0;34m=\u001b[0m \u001b[0mopt\u001b[0m\u001b[0;34m.\u001b[0m\u001b[0mrun\u001b[0m\u001b[0;34m(\u001b[0m\u001b[0;34m)\u001b[0m\u001b[0;34m\u001b[0m\u001b[0;34m\u001b[0m\u001b[0m\n",
      "\u001b[0;32m~/dev/pints/pints/_optimisers/__init__.py\u001b[0m in \u001b[0;36m__init__\u001b[0;34m(self, function, x0, sigma0, boundaries, method)\u001b[0m\n\u001b[1;32m    299\u001b[0m         \u001b[0;32mif\u001b[0m \u001b[0mfunction\u001b[0m\u001b[0;34m.\u001b[0m\u001b[0mn_parameters\u001b[0m\u001b[0;34m(\u001b[0m\u001b[0;34m)\u001b[0m \u001b[0;34m!=\u001b[0m \u001b[0mlen\u001b[0m\u001b[0;34m(\u001b[0m\u001b[0mx0\u001b[0m\u001b[0;34m)\u001b[0m\u001b[0;34m:\u001b[0m\u001b[0;34m\u001b[0m\u001b[0;34m\u001b[0m\u001b[0m\n\u001b[1;32m    300\u001b[0m             raise ValueError(\n\u001b[0;32m--> 301\u001b[0;31m                 \u001b[0;34m'Starting point must have same dimension as function to'\u001b[0m\u001b[0;34m\u001b[0m\u001b[0;34m\u001b[0m\u001b[0m\n\u001b[0m\u001b[1;32m    302\u001b[0m                 ' optimise.')\n\u001b[1;32m    303\u001b[0m \u001b[0;34m\u001b[0m\u001b[0m\n",
      "\u001b[0;31mValueError\u001b[0m: Starting point must have same dimension as function to optimise."
     ]
    }
   ],
   "source": [
    "opt = pints.Optimisation(loglikelihood, x0, method=pints.XNES)\n",
    "x2, f2 = opt.run()"
   ]
  },
  {
   "cell_type": "markdown",
   "metadata": {},
   "source": [
    "Uh oh! What's happened here?"
   ]
  },
  {
   "cell_type": "markdown",
   "metadata": {},
   "source": [
    "The likelihood function we used requires a `sigma` parameter, an extra parameter it adds to the inference problem that describes the estimated noise level in the data.\n",
    "\n",
    "This means the number of parameters in our loglikelihood has gone up by one from the problem's number of parameters:"
   ]
  },
  {
   "cell_type": "code",
   "execution_count": 7,
   "metadata": {},
   "outputs": [
    {
     "name": "stdout",
     "output_type": "stream",
     "text": [
      "2\n"
     ]
    }
   ],
   "source": [
    "print(model.n_parameters())"
   ]
  },
  {
   "cell_type": "code",
   "execution_count": 8,
   "metadata": {},
   "outputs": [
    {
     "name": "stdout",
     "output_type": "stream",
     "text": [
      "2\n"
     ]
    }
   ],
   "source": [
    "print(problem.n_parameters())"
   ]
  },
  {
   "cell_type": "code",
   "execution_count": 9,
   "metadata": {},
   "outputs": [
    {
     "name": "stdout",
     "output_type": "stream",
     "text": [
      "3\n"
     ]
    }
   ],
   "source": [
    "print(loglikelihood.n_parameters())"
   ]
  },
  {
   "cell_type": "markdown",
   "metadata": {},
   "source": [
    "As a result, we need to update our initial point (and boundaries) with a guess for what sigma may be.\n",
    "\n",
    "In a realistic situtation, we could try to find a flat bit of signal to obtain a first estimate. In this example, we'll just start off by guessing `sigma=1`:"
   ]
  },
  {
   "cell_type": "code",
   "execution_count": 10,
   "metadata": {},
   "outputs": [
    {
     "name": "stdout",
     "output_type": "stream",
     "text": [
      "Obtained parameters:\n",
      "[ 0.10335618 49.37330124  2.49241795]\n"
     ]
    }
   ],
   "source": [
    "y0 = np.array([0.5, 200, 1])\n",
    "\n",
    "boundaries_3d = pints.RectangularBoundaries([0, 5, 1e-3], [1, 500, 10])\n",
    "\n",
    "opt = pints.Optimisation(loglikelihood, y0, boundaries=boundaries_3d, method=pints.XNES)\n",
    "opt.set_log_to_screen(False)\n",
    "y1, g1 = opt.run()\n",
    "print('Obtained parameters:')\n",
    "print(y1)"
   ]
  },
  {
   "cell_type": "markdown",
   "metadata": {},
   "source": [
    "Note that the noise has introduced a slight bias into the outcome, and the estimated sigma is slightly smaller than the true value of 3!\n",
    "\n",
    "As before, we can now plot a simulation with the obtained parameters, and see how it matches the data:"
   ]
  },
  {
   "cell_type": "code",
   "execution_count": 11,
   "metadata": {},
   "outputs": [
    {
     "data": {
      "image/png": "[encoded data removed]",
      "text/plain": [
       "<Figure size 432x288 with 1 Axes>"
      ]
     },
     "metadata": {},
     "output_type": "display_data"
    }
   ],
   "source": [
    "# Show the generated data\n",
    "plt.figure()\n",
    "plt.xlabel('Time')\n",
    "plt.ylabel('Values')\n",
    "plt.plot(times, noisy_values)\n",
    "plt.plot(times, problem.evaluate(y1[:2]))\n",
    "plt.show()"
   ]
  }
 ],
 "metadata": {
  "kernelspec": {
   "display_name": "Python 3",
   "language": "python",
   "name": "python3"
  },
  "language_info": {
   "codemirror_mode": {
    "name": "ipython",
    "version": 3
   },
   "file_extension": ".py",
   "mimetype": "text/x-python",
   "name": "python",
   "nbconvert_exporter": "python",
   "pygments_lexer": "ipython3",
   "version": "3.6.8"
  }
 },
 "nbformat": 4,
 "nbformat_minor": 2
}
