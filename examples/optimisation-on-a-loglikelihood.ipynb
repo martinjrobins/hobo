{
 "cells": [
  {
   "cell_type": "markdown",
   "metadata": {},
   "source": [
    "# Optimisation: Maximising a log-likelihood\n",
    "\n",
    "As well as minimising error functions, PINTS optimisation can be used to find the maximum of a loglikelihood (or of any [pints.LogPDF object](https://pints.readthedocs.io/en/latest/log_pdfs.html#pints.LogPDF)).\n",
    "\n",
    "Following on from the [first example](optimisation-first-example.ipynb), we can define an inference problem using the [logistic model](https://pints.readthedocs.io/en/latest/toy/logistic_model.html#module-pints.toy):"
   ]
  },
  {
   "cell_type": "code",
   "execution_count": 5,
   "metadata": {},
   "outputs": [
    {
     "data": {
      "image/png": "[encoded data removed]",
      "text/plain": [
       "<matplotlib.figure.Figure at 0x1562ba5d828>"
      ]
     },
     "metadata": {},
     "output_type": "display_data"
    }
   ],
   "source": [
    "import matplotlib.pyplot as plt\n",
    "import numpy as np\n",
    "import pints\n",
    "import pints.toy as toy\n",
    "\n",
    "# Create a model\n",
    "model = toy.LogisticModel()\n",
    "\n",
    "# Set some parameters\n",
    "real_parameters = [0.1, 50]\n",
    "\n",
    "# Create fake data\n",
    "times = model.suggested_times()\n",
    "values = model.simulate(real_parameters, times)\n",
    "noisy_values = values + np.random.normal(0, 3, times.shape)\n",
    "\n",
    "# Create an inference problem\n",
    "problem = pints.SingleOutputProblem(model, times, noisy_values)\n",
    "\n",
    "# Show the generated data\n",
    "plt.figure()\n",
    "plt.xlabel('Time')\n",
    "plt.ylabel('Values')\n",
    "plt.plot(times, noisy_values)\n",
    "plt.plot(times, values)\n",
    "plt.show()"
   ]
  },
  {
   "cell_type": "markdown",
   "metadata": {},
   "source": [
    "As before, we can define an error function and minimise it:"
   ]
  },
  {
   "cell_type": "code",
   "execution_count": 6,
   "metadata": {},
   "outputs": [
    {
     "name": "stdout",
     "output_type": "stream",
     "text": [
      "Estimated parameters:\n",
      "[  0.10037469  50.10312821]\n"
     ]
    }
   ],
   "source": [
    "score = pints.SumOfSquaresError(problem)\n",
    "\n",
    "boundaries = pints.RectangularBoundaries([0, 5], [1, 500])\n",
    "\n",
    "x0 = np.array([0.5, 200])\n",
    "opt = pints.OptimisationController(score, x0, method=pints.XNES)\n",
    "opt.set_log_to_screen(False)\n",
    "x1, f1 = opt.run()\n",
    "print('Estimated parameters:')\n",
    "print(x1)"
   ]
  },
  {
   "cell_type": "markdown",
   "metadata": {},
   "source": [
    "We could also however define the inference problem statistically, by specifying a likelihood."
   ]
  },
  {
   "cell_type": "code",
   "execution_count": 7,
   "metadata": {
    "collapsed": true
   },
   "outputs": [],
   "source": [
    "log_likelihood = pints.GaussianLogLikelihood(problem)"
   ]
  },
  {
   "cell_type": "markdown",
   "metadata": {},
   "source": [
    "Then use an optimisation routine to find the maximum likelihood estimates. (Note that the below is supposed to fail.)"
   ]
  },
  {
   "cell_type": "code",
   "execution_count": 8,
   "metadata": {},
   "outputs": [
    {
     "ename": "ValueError",
     "evalue": "Starting point must have same dimension as function to optimise.",
     "output_type": "error",
     "traceback": [
      "\u001b[1;31m---------------------------------------------------------------------------\u001b[0m",
      "\u001b[1;31mValueError\u001b[0m                                Traceback (most recent call last)",
      "\u001b[1;32m<ipython-input-8-9be97e3402ad>\u001b[0m in \u001b[0;36m<module>\u001b[1;34m()\u001b[0m\n\u001b[1;32m----> 1\u001b[1;33m \u001b[0mopt\u001b[0m \u001b[1;33m=\u001b[0m \u001b[0mpints\u001b[0m\u001b[1;33m.\u001b[0m\u001b[0mOptimisationController\u001b[0m\u001b[1;33m(\u001b[0m\u001b[0mlog_likelihood\u001b[0m\u001b[1;33m,\u001b[0m \u001b[0mx0\u001b[0m\u001b[1;33m,\u001b[0m \u001b[0mmethod\u001b[0m\u001b[1;33m=\u001b[0m\u001b[0mpints\u001b[0m\u001b[1;33m.\u001b[0m\u001b[0mXNES\u001b[0m\u001b[1;33m)\u001b[0m\u001b[1;33m\u001b[0m\u001b[0m\n\u001b[0m\u001b[0;32m      2\u001b[0m \u001b[0mx2\u001b[0m\u001b[1;33m,\u001b[0m \u001b[0mf2\u001b[0m \u001b[1;33m=\u001b[0m \u001b[0mopt\u001b[0m\u001b[1;33m.\u001b[0m\u001b[0mrun\u001b[0m\u001b[1;33m(\u001b[0m\u001b[1;33m)\u001b[0m\u001b[1;33m\u001b[0m\u001b[0m\n",
      "\u001b[1;32mc:\\users\\bclamber\\desktop\\pints\\pints\\_optimisers\\__init__.py\u001b[0m in \u001b[0;36m__init__\u001b[1;34m(self, function, x0, sigma0, boundaries, method)\u001b[0m\n\u001b[0;32m    303\u001b[0m         \u001b[1;32mif\u001b[0m \u001b[0mfunction\u001b[0m\u001b[1;33m.\u001b[0m\u001b[0mn_parameters\u001b[0m\u001b[1;33m(\u001b[0m\u001b[1;33m)\u001b[0m \u001b[1;33m!=\u001b[0m \u001b[0mlen\u001b[0m\u001b[1;33m(\u001b[0m\u001b[0mx0\u001b[0m\u001b[1;33m)\u001b[0m\u001b[1;33m:\u001b[0m\u001b[1;33m\u001b[0m\u001b[0m\n\u001b[0;32m    304\u001b[0m             raise ValueError(\n\u001b[1;32m--> 305\u001b[1;33m                 \u001b[1;34m'Starting point must have same dimension as function to'\u001b[0m\u001b[1;33m\u001b[0m\u001b[0m\n\u001b[0m\u001b[0;32m    306\u001b[0m                 ' optimise.')\n\u001b[0;32m    307\u001b[0m \u001b[1;33m\u001b[0m\u001b[0m\n",
      "\u001b[1;31mValueError\u001b[0m: Starting point must have same dimension as function to optimise."
     ]
    }
   ],
   "source": [
    "opt = pints.OptimisationController(log_likelihood, x0, method=pints.XNES)\n",
    "x2, f2 = opt.run()"
   ]
  },
  {
   "cell_type": "markdown",
   "metadata": {},
   "source": [
    "Uh oh! What's happened here?"
   ]
  },
  {
   "cell_type": "markdown",
   "metadata": {},
   "source": [
    "The likelihood function we used requires a `sigma` parameter, an extra parameter it adds to the inference problem that describes the estimated noise level in the data.\n",
    "\n",
    "This means the number of parameters in our log-likelihood has gone up by one from the problem's number of parameters:"
   ]
  },
  {
   "cell_type": "code",
   "execution_count": 9,
   "metadata": {},
   "outputs": [
    {
     "name": "stdout",
     "output_type": "stream",
     "text": [
      "2\n"
     ]
    }
   ],
   "source": [
    "print(model.n_parameters())"
   ]
  },
  {
   "cell_type": "code",
   "execution_count": 10,
   "metadata": {},
   "outputs": [
    {
     "name": "stdout",
     "output_type": "stream",
     "text": [
      "2\n"
     ]
    }
   ],
   "source": [
    "print(problem.n_parameters())"
   ]
  },
  {
   "cell_type": "code",
   "execution_count": 11,
   "metadata": {},
   "outputs": [
    {
     "name": "stdout",
     "output_type": "stream",
     "text": [
      "3\n"
     ]
    }
   ],
   "source": [
    "print(log_likelihood.n_parameters())"
   ]
  },
  {
   "cell_type": "markdown",
   "metadata": {},
   "source": [
    "As a result, we need to update our initial point (and boundaries) with a guess for what sigma may be.\n",
    "\n",
    "In a realistic situtation, we could try to find a flat bit of signal to obtain a first estimate. In this example, we'll just start off by guessing `sigma=1`:"
   ]
  },
  {
   "cell_type": "code",
   "execution_count": 12,
   "metadata": {},
   "outputs": [
    {
     "name": "stdout",
     "output_type": "stream",
     "text": [
      "Estimated parameters:\n",
      "[  0.10037469  50.10312827   3.20941377]\n"
     ]
    }
   ],
   "source": [
    "y0 = np.array([0.5, 200, 1])\n",
    "\n",
    "boundaries_3d = pints.RectangularBoundaries([0, 5, 1e-3], [1, 500, 10])\n",
    "\n",
    "opt = pints.OptimisationController(log_likelihood, y0, boundaries=boundaries_3d, method=pints.XNES)\n",
    "opt.set_log_to_screen(False)\n",
    "y1, g1 = opt.run()\n",
    "print('Estimated parameters:')\n",
    "print(y1)"
   ]
  },
  {
   "cell_type": "markdown",
   "metadata": {},
   "source": [
    "Note that the noise has introduced a slight bias into the outcome, and the estimated sigma is slightly smaller than the true value of 3.\n",
    "\n",
    "As before, we can now plot a simulation with the obtained parameters, and see how it matches the data:"
   ]
  },
  {
   "cell_type": "code",
   "execution_count": 13,
   "metadata": {},
   "outputs": [
    {
     "data": {
      "image/png": "[encoded data removed]",
      "text/plain": [
       "<matplotlib.figure.Figure at 0x1562ba11710>"
      ]
     },
     "metadata": {},
     "output_type": "display_data"
    }
   ],
   "source": [
    "# Show the generated data\n",
    "plt.figure()\n",
    "plt.xlabel('Time')\n",
    "plt.ylabel('Values')\n",
    "plt.plot(times, noisy_values)\n",
    "plt.plot(times, problem.evaluate(y1[:2]))\n",
    "plt.show()"
   ]
  },
  {
   "cell_type": "markdown",
   "metadata": {},
   "source": [
    "We can now estimate profile likelihood confidence intervals for the carrying capacity parameter by fixing the other parameters at their maximum likelihood estimates. In classical statistics, it is assumed that the log-likelihood near the maximum likelihood estimates is well approximated by a normal distribution. When this assumption breaks down, because the likelihood distribution is skewed, some prefer to use profile likelihood approaches to construct confidence intervals (others - us included - prefer Bayesian approaches which don't rely on such assumptions).\n",
    "\n",
    "To start, let's plot the profile log-likelihood."
   ]
  },
  {
   "cell_type": "code",
   "execution_count": 40,
   "metadata": {},
   "outputs": [
    {
     "data": {
      "image/png": "[encoded data removed]",
      "text/plain": [
       "<matplotlib.figure.Figure at 0x1562bd00208>"
      ]
     },
     "metadata": {},
     "output_type": "display_data"
    }
   ],
   "source": [
    "kappa = np.linspace(30, 70, 100)\n",
    "log_prob = [log_likelihood([y1[0], k, y1[2]]) for k in kappa]\n",
    "plt.plot(kappa, log_prob)\n",
    "plt.vlines(y1[1], ymin=-2700, ymax=log_likelihood(y1), linestyles='dashed')\n",
    "plt.xlabel('Carrying capacity')\n",
    "plt.ylabel('Log-likelihood')\n",
    "plt.show()"
   ]
  },
  {
   "cell_type": "markdown",
   "metadata": {},
   "source": [
    "To construct a profile likelihood $(1-\\alpha)$% confidence interval we determine the region in parameter space that satisfies:\n",
    "\n",
    "$$\\text{log } p(X|\\theta, \\hat{\\phi}) \\geq \\text{log } p(X|\\hat{\\theta}, \\hat{\\phi}) - \\frac{1}{2}\\chi(1)^2_{1-\\alpha},$$\n",
    "\n",
    "where $\\theta$ is the parameter we are seeking a confidence interval for and $\\phi$ is a vector of other parameters; the $(\\hat{\\theta},\\hat{\\phi})$ variables indicate the maximum likelihood estimates; and $\\chi(1)^2_{1-\\alpha}$ represents the $\\alpha$% critical values of a chi-squared distribution with one degree of freedom.\n",
    "\n",
    "First we obtain the threshold value of log-likelihood to construct a 95% confidence interval."
   ]
  },
  {
   "cell_type": "code",
   "execution_count": 44,
   "metadata": {},
   "outputs": [
    {
     "name": "stdout",
     "output_type": "stream",
     "text": [
      "-260.423411674\n"
     ]
    }
   ],
   "source": [
    "import scipy.stats\n",
    "chi2 = scipy.stats.chi2.ppf(0.95, df=1)\n",
    "log_likelihood_min = log_likelihood(y1) - chi2 / 2\n",
    "print(log_likelihood_min)"
   ]
  },
  {
   "cell_type": "markdown",
   "metadata": {},
   "source": [
    "Next we find the bounds of this region, which yields the 95% confidence interval on this parameter."
   ]
  },
  {
   "cell_type": "code",
   "execution_count": 52,
   "metadata": {},
   "outputs": [
    {
     "name": "stdout",
     "output_type": "stream",
     "text": [
      "Confidence interval = [49.21261601246372, 50.99522988839184]\n"
     ]
    }
   ],
   "source": [
    "import scipy.optimize\n",
    "def log_likelihood_bounds(k):\n",
    "    return (log_likelihood([y1[0], k, y1[2]]) - log_likelihood_min)**2\n",
    "res = scipy.optimize.minimize(log_likelihood_bounds, 40)\n",
    "kappa_min = res.x[0]\n",
    "res = scipy.optimize.minimize(log_likelihood_bounds, 60)\n",
    "kappa_max = res.x[0]\n",
    "\n",
    "print('Confidence interval = ' + str([kappa_min, kappa_max]))"
   ]
  }
 ],
 "metadata": {
  "kernelspec": {
   "display_name": "Python 3",
   "language": "python",
   "name": "python3"
  },
  "language_info": {
   "codemirror_mode": {
    "name": "ipython",
    "version": 3
   },
   "file_extension": ".py",
   "mimetype": "text/x-python",
   "name": "python",
   "nbconvert_exporter": "python",
   "pygments_lexer": "ipython3",
   "version": "3.6.3"
  }
 },
 "nbformat": 4,
 "nbformat_minor": 2
}
