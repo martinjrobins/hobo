{
 "cells": [
  {
   "cell_type": "markdown",
   "metadata": {},
   "source": [
    "# Optimisation: PSO\n",
    "\n",
    "This example shows you how to run a global optimisation with PSO (particle swarm optimisation).\n",
    "\n",
    "For a more elaborate example of an optimisation, see: https://github.com/martinjrobins/pints/blob/master/examples/optimisation-first-example.ipynb"
   ]
  },
  {
   "cell_type": "code",
   "execution_count": 1,
   "metadata": {},
   "outputs": [
    {
     "name": "stdout",
     "output_type": "stream",
     "text": [
      "Running in parallel mode with population size 8\n",
      "1: 41988567.8036\n",
      "2: 41988567.8036\n",
      "3: 41988567.8036\n",
      "20: 9645169.91364\n",
      "40: 250702.947725\n",
      "60: 43298.609328\n",
      "80: 2492.91522813\n",
      "100: 2492.91522813\n",
      "120: 2492.91522813\n",
      "140: 2492.91522813\n",
      "160: 2492.91522813\n",
      "180: 1327.18231462\n",
      "200: 1327.18231462\n",
      "220: 1327.18231462\n",
      "240: 1327.18231462\n",
      "260: 1327.18231462\n",
      "280: 1327.18231462\n",
      "300: 1327.18231462\n",
      "320: 1327.18231462\n",
      "340: 1327.18231462\n",
      "360: 233.542888932\n",
      "380: 233.542888932\n",
      "400: 233.542888932\n",
      "420: 233.542888932\n",
      "440: 233.542888932\n",
      "460: 233.542888932\n",
      "480: 233.542888932\n",
      "500: 233.542888932\n",
      "520: 233.542888932\n",
      "540: 233.542888932\n",
      "Halting: No significant change for 200 iterations.\n",
      "554: 233.542888932\n",
      "Score at true solution: \n",
      "0.0\n",
      "Found solution:          True parameters:\n",
      " 1.49919061214632901e-02     1.49999999999999994e-02\n",
      " 4.99438307915856456e+02     5.00000000000000000e+02\n"
     ]
    }
   ],
   "source": [
    "from __future__ import print_function\n",
    "import pints\n",
    "import pints.toy as toy\n",
    "import numpy as np\n",
    "import matplotlib.pyplot as pl\n",
    "\n",
    "# Load a forward model\n",
    "model = toy.LogisticModel()\n",
    "\n",
    "# Create some toy data\n",
    "real_parameters = [0.015, 500]\n",
    "times = np.linspace(0, 1000, 1000)\n",
    "values = model.simulate(real_parameters, times)\n",
    "\n",
    "# Create an object with links to the model and time series\n",
    "problem = pints.SingleSeriesProblem(model, times, values)\n",
    "\n",
    "# Select a score function\n",
    "score = pints.SumOfSquaresError(problem)\n",
    "\n",
    "# Select some boundaries\n",
    "boundaries = pints.Boundaries([0, 200], [1, 1000])\n",
    "\n",
    "# Perform an optimization with boundaries and hints\n",
    "x0 = [0, 700]\n",
    "found_parameters, found_value = pints.pso(\n",
    "    score,\n",
    "    boundaries,\n",
    "    x0\n",
    "    )\n",
    "\n",
    "print('Score at true solution: ')\n",
    "print(score(real_parameters))\n",
    "\n",
    "print('Found solution:          True parameters:' )\n",
    "for k, x in enumerate(found_parameters):\n",
    "    print(pints.strfloat(x) + '    ' + pints.strfloat(real_parameters[k]))"
   ]
  }
 ],
 "metadata": {
  "kernelspec": {
   "display_name": "Python 2",
   "language": "python",
   "name": "python2"
  },
  "language_info": {
   "codemirror_mode": {
    "name": "ipython",
    "version": 2
   },
   "file_extension": ".py",
   "mimetype": "text/x-python",
   "name": "python",
   "nbconvert_exporter": "python",
   "pygments_lexer": "ipython2",
   "version": "2.7.14"
  }
 },
 "nbformat": 4,
 "nbformat_minor": 2
}
