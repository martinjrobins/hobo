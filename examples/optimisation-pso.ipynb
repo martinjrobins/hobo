{
 "cells": [
  {
   "cell_type": "markdown",
   "metadata": {},
   "source": [
    "# Optimisation: PSO\n",
    "\n",
    "This example shows you how to run a global optimisation with [PSO (particle swarm optimisation)](http://pints.readthedocs.io/en/latest/optimisers/pso.html).\n",
    "\n",
    "For a more elaborate example of an optimisation, see: https://github.com/martinjrobins/pints/blob/master/examples/optimisation-first-example.ipynb"
   ]
  },
  {
   "cell_type": "code",
   "execution_count": 6,
   "metadata": {},
   "outputs": [
    {
     "name": "stdout",
     "output_type": "stream",
     "text": [
      "Running in parallel mode with population size 8\n",
      "0: 34550731.7397\n",
      "1: 34256971.3313\n",
      "2: 34256971.3313\n",
      "3: 34256971.3313\n",
      "20: 151106.046444\n",
      "40: 128615.879061\n",
      "60: 128615.879061\n",
      "80: 110449.391481\n",
      "100: 110449.391481\n",
      "120: 110449.391481\n",
      "140: 110449.391481\n",
      "160: 93092.1959502\n",
      "180: 93092.1959502\n",
      "200: 93092.1959502\n",
      "220: 93092.1959502\n",
      "240: 93092.1959502\n",
      "260: 93092.1959502\n",
      "280: 93092.1959502\n",
      "300: 93092.1959502\n",
      "320: 93092.1959502\n",
      "340: 93092.1959502\n",
      "Halting: No significant change for 200 iterations.\n",
      "355: 93092.1959502\n",
      "Score at true solution: \n",
      "91415.6807696\n",
      "Found solution:          True parameters:\n",
      " 1.50764811484689724e-02     1.49999999999999994e-02\n",
      " 5.00390318976236529e+02     5.00000000000000000e+02\n"
     ]
    },
    {
     "data": {
      "image/png": "[encoded data removed]",
      "text/plain": [
       "<matplotlib.figure.Figure at 0x7f2551455610>"
      ]
     },
     "metadata": {},
     "output_type": "display_data"
    }
   ],
   "source": [
    "from __future__ import print_function\n",
    "import pints\n",
    "import pints.toy as toy\n",
    "import numpy as np\n",
    "import matplotlib.pyplot as pl\n",
    "\n",
    "# Load a forward model\n",
    "model = toy.LogisticModel()\n",
    "\n",
    "# Create some toy data\n",
    "real_parameters = [0.015, 500]\n",
    "times = np.linspace(0, 1000, 1000)\n",
    "values = model.simulate(real_parameters, times)\n",
    "\n",
    "# Add noise\n",
    "values += np.random.normal(0, 10, values.shape)\n",
    "\n",
    "# Create an object with links to the model and time series\n",
    "problem = pints.SingleSeriesProblem(model, times, values)\n",
    "\n",
    "# Select a score function\n",
    "score = pints.SumOfSquaresError(problem)\n",
    "\n",
    "# Select some boundaries\n",
    "boundaries = pints.Boundaries([0, 200], [1, 1000])\n",
    "\n",
    "# Perform an optimization with boundaries and hints\n",
    "x0 = [0, 700]\n",
    "found_parameters, found_value = pints.pso(\n",
    "    score,\n",
    "    boundaries,\n",
    "    x0\n",
    "    )\n",
    "\n",
    "# Show score of true solution\n",
    "print('Score at true solution: ')\n",
    "print(score(real_parameters))\n",
    "\n",
    "# Compare parameters with original\n",
    "print('Found solution:          True parameters:' )\n",
    "for k, x in enumerate(found_parameters):\n",
    "    print(pints.strfloat(x) + '    ' + pints.strfloat(real_parameters[k]))\n",
    "\n",
    "# Show quality of fit\n",
    "pl.figure()\n",
    "pl.xlabel('Time')\n",
    "pl.ylabel('Value')\n",
    "pl.plot(times, values, label='Nosiy data')\n",
    "pl.plot(times, problem.evaluate(found_parameters), label='Fit')\n",
    "pl.legend()\n",
    "pl.show()"
   ]
  }
 ],
 "metadata": {
  "kernelspec": {
   "display_name": "Python 2",
   "language": "python",
   "name": "python2"
  },
  "language_info": {
   "codemirror_mode": {
    "name": "ipython",
    "version": 2
   },
   "file_extension": ".py",
   "mimetype": "text/x-python",
   "name": "python",
   "nbconvert_exporter": "python",
   "pygments_lexer": "ipython2",
   "version": "2.7.14"
  }
 },
 "nbformat": 4,
 "nbformat_minor": 2
}
