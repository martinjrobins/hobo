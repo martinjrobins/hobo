{
 "cells": [
  {
   "cell_type": "code",
   "execution_count": 20,
   "metadata": {},
   "outputs": [],
   "source": [
    "import pints\n",
    "from __future__ import print_function\n",
    "import pints\n",
    "import pints.toy as toy\n",
    "import numpy as np\n",
    "import matplotlib.pyplot as plt\n",
    "\n",
    "# Load a forward model\n",
    "model = toy.LogisticModel()\n",
    "\n",
    "# Create some toy data\n",
    "real_parameters = [0.015, 500]\n",
    "times = np.linspace(0, 1000, 1000)\n",
    "org_values = model.simulate(real_parameters, times)\n",
    "\n",
    "# Add noise\n",
    "noise = 10\n",
    "values = org_values + np.random.normal(0, noise, org_values.shape)\n",
    "real_parameters = np.array(real_parameters + [noise])\n",
    "\n",
    "# Get properties of the noise sample\n",
    "noise_sample_mean = np.mean(values - org_values)\n",
    "noise_sample_std = np.std(values - org_values)\n",
    "\n",
    "# Create an object with links to the model and time series\n",
    "problem = pints.SingleSeriesProblem(model, times, values)\n",
    "\n",
    "# Create a log-likelihood function (adds an extra parameter!)\n",
    "log_likelihood = pints.UnknownNoiseLogLikelihood(problem)\n",
    "\n",
    "# Create a uniform prior over both the parameters and the new noise variable\n",
    "prior = pints.UniformPrior(\n",
    "    [0.01, 400, noise*0.5],\n",
    "    [0.02, 600, noise*1.5]\n",
    "    )\n",
    "\n",
    "# Create a Bayesian log-likelihood (prior * likelihood)\n",
    "log_likelihood = pints.BayesianLogLikelihood(prior, log_likelihood)\n",
    "\n",
    "# Create a nested sampler\n",
    "sampler = pints.NestedEllipsoidSampler(log_likelihood, prior)\n",
    "\n",
    "# Set number of iterations\n",
    "sampler.set_iterations(8000)\n",
    "\n",
    "# Set enlargement factor\n",
    "sampler.set_enlargementFactor(1.25)\n",
    "\n",
    "# Set number of initial rejection samples\n",
    "sampler.set_rejectionSamples(6000)\n",
    "\n",
    "# Set gaps between updating ellipsoid\n",
    "sampler.set_ellipsoidUpdateGap(100)"
   ]
  },
  {
   "cell_type": "code",
   "execution_count": 21,
   "metadata": {},
   "outputs": [
    {
     "name": "stdout",
     "output_type": "stream",
     "text": [
      "Running...\n",
      "Running nested rejection sampling\n",
      "Number of active points: 1000\n",
      "Total number of iterations: 8000\n",
      "Enlargement factor: 1.25\n",
      "Total number of posterior samples: 1000\n",
      "Starting rejection sampling...\n",
      "Starting ellipsoidal sampling (finished rejection)...\n",
      "100 ellipsoidal samples completed...\n",
      "200 ellipsoidal samples completed...\n",
      "300 ellipsoidal samples completed...\n",
      "400 ellipsoidal samples completed...\n",
      "500 ellipsoidal samples completed...\n",
      "600 ellipsoidal samples completed...\n",
      "700 ellipsoidal samples completed...\n",
      "800 ellipsoidal samples completed...\n",
      "900 ellipsoidal samples completed...\n",
      "1000 ellipsoidal samples completed...\n",
      "1100 ellipsoidal samples completed...\n",
      "1200 ellipsoidal samples completed...\n",
      "1300 ellipsoidal samples completed...\n",
      "1400 ellipsoidal samples completed...\n",
      "1500 ellipsoidal samples completed...\n",
      "1600 ellipsoidal samples completed...\n",
      "1700 ellipsoidal samples completed...\n",
      "1800 ellipsoidal samples completed...\n",
      "1900 ellipsoidal samples completed...\n",
      "2000 ellipsoidal samples completed...\n",
      "Done!\n"
     ]
    }
   ],
   "source": [
    "# Run!\n",
    "print('Running...')\n",
    "samples = sampler.run()\n",
    "print('Done!')"
   ]
  },
  {
   "cell_type": "code",
   "execution_count": 29,
   "metadata": {},
   "outputs": [
    {
     "data": {
      "image/png": "[encoded data removed]",
      "text/plain": [
       "<matplotlib.figure.Figure at 0x181a3e8250>"
      ]
     },
     "metadata": {},
     "output_type": "display_data"
    }
   ],
   "source": [
    "vTheta = samples[0]\n",
    "plt.hist(vTheta[:,1],100)\n",
    "plt.show()"
   ]
  },
  {
   "cell_type": "code",
   "execution_count": null,
   "metadata": {
    "collapsed": true
   },
   "outputs": [],
   "source": []
  }
 ],
 "metadata": {
  "kernelspec": {
   "display_name": "Python 2",
   "language": "python",
   "name": "python2"
  },
  "language_info": {
   "codemirror_mode": {
    "name": "ipython",
    "version": 2
   },
   "file_extension": ".py",
   "mimetype": "text/x-python",
   "name": "python",
   "nbconvert_exporter": "python",
   "pygments_lexer": "ipython2",
   "version": "2.7.14"
  }
 },
 "nbformat": 4,
 "nbformat_minor": 2
}
