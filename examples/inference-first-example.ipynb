{
 "cells": [
  {
   "cell_type": "markdown",
   "metadata": {},
   "source": [
    "# Inference: First example\n",
    "\n",
    "This example shows you how to perform Bayesian inference on a time series, using an adaptive MCMC method.\n",
    "\n",
    "It follows on from [Optimisation: First example](https://github.com/martinjrobins/pints/blob/master/examples/optimisation-first-example.ipynb)\n",
    "\n",
    "Like in the optimisation example, we start by importing pints:"
   ]
  },
  {
   "cell_type": "code",
   "execution_count": 1,
   "metadata": {},
   "outputs": [],
   "source": [
    "import pints"
   ]
  },
  {
   "cell_type": "markdown",
   "metadata": {},
   "source": [
    "Next, we create a model class. \n",
    "\n",
    "Instead of using a real model, in this example we use the \"Logistic\" toy model included in pints:"
   ]
  },
  {
   "cell_type": "code",
   "execution_count": 2,
   "metadata": {},
   "outputs": [],
   "source": [
    "import pints.toy as toy\n",
    "model = toy.LogisticModel()"
   ]
  },
  {
   "cell_type": "markdown",
   "metadata": {},
   "source": [
    "In order to generate some test data, we choose an arbitrary set of \"true\" parameters:"
   ]
  },
  {
   "cell_type": "code",
   "execution_count": 3,
   "metadata": {},
   "outputs": [],
   "source": [
    "true_parameters = [0.015, 500]"
   ]
  },
  {
   "cell_type": "markdown",
   "metadata": {},
   "source": [
    "And a number of time points at which to sample:"
   ]
  },
  {
   "cell_type": "code",
   "execution_count": 4,
   "metadata": {},
   "outputs": [],
   "source": [
    "import numpy as np\n",
    "times = np.linspace(0, 1000, 100000)"
   ]
  },
  {
   "cell_type": "markdown",
   "metadata": {},
   "source": [
    "Using these parameters and time points, we can now generate some toy data:"
   ]
  },
  {
   "cell_type": "code",
   "execution_count": 5,
   "metadata": {},
   "outputs": [],
   "source": [
    "org_values = model.simulate(true_parameters, times)"
   ]
  },
  {
   "cell_type": "markdown",
   "metadata": {},
   "source": [
    "And make it more realistic by adding gaussian noise:"
   ]
  },
  {
   "cell_type": "code",
   "execution_count": 6,
   "metadata": {},
   "outputs": [],
   "source": [
    "# Add noise\n",
    "noise = 10\n",
    "values = org_values + np.random.normal(0, noise, org_values.shape)"
   ]
  },
  {
   "cell_type": "markdown",
   "metadata": {},
   "source": [
    "We can use matplotlib (or any other plotting package) to look at the data we've created:"
   ]
  },
  {
   "cell_type": "code",
   "execution_count": 38,
   "metadata": {},
   "outputs": [
    {
     "data": {
      "image/png": "[encoded data removed]",
      "text/plain": [
       "<matplotlib.figure.Figure at 0x7fdf9638b2d0>"
      ]
     },
     "metadata": {},
     "output_type": "display_data"
    }
   ],
   "source": [
    "import matplotlib.pyplot as pl\n",
    "\n",
    "pl.figure()\n",
    "pl.xlabel('Time')\n",
    "pl.ylabel('Values')\n",
    "pl.plot(times, values, color='blue', label='Noisy data')\n",
    "pl.plot(times, org_values, color='orange', lw=2, label='Noise-free data')\n",
    "pl.legend()\n",
    "pl.show()"
   ]
  },
  {
   "cell_type": "markdown",
   "metadata": {},
   "source": [
    "Now we have enough data (a model, a list of times, and a list of data) to formulate a problem:"
   ]
  },
  {
   "cell_type": "code",
   "execution_count": 9,
   "metadata": {},
   "outputs": [],
   "source": [
    "problem = pints.SingleSeriesProblem(model, times, values)"
   ]
  },
  {
   "cell_type": "markdown",
   "metadata": {},
   "source": [
    "We now have some toy data, and a model that can be used for forward simulations. To make it into a probabilistic problem, we need to add a _noise model_. One way to do this is using the `UnknownNoiseLogLikelihood` function, which assumes independently distributed Gaussian noise over the data, and can calculate log-likelihoods:"
   ]
  },
  {
   "cell_type": "code",
   "execution_count": 10,
   "metadata": {},
   "outputs": [],
   "source": [
    "log_likelihood = pints.UnknownNoiseLogLikelihood(problem)"
   ]
  },
  {
   "cell_type": "markdown",
   "metadata": {},
   "source": [
    "This noise has mean zero, and an unknown standard deviation. How can we find out the standard deviation? By inferring it along with the other parameters. This means we have added one parameter to our problem!"
   ]
  },
  {
   "cell_type": "code",
   "execution_count": 12,
   "metadata": {},
   "outputs": [
    {
     "name": "stdout",
     "output_type": "stream",
     "text": [
      "Original problem dimension: 2\n"
     ]
    }
   ],
   "source": [
    "print('Original problem dimension: ' + str(problem.dimension()))"
   ]
  },
  {
   "cell_type": "code",
   "execution_count": 13,
   "metadata": {},
   "outputs": [
    {
     "name": "stdout",
     "output_type": "stream",
     "text": [
      "New dimension: 3\n"
     ]
    }
   ],
   "source": [
    "print('New dimension: ' + str(log_likelihood.dimension()))"
   ]
  },
  {
   "cell_type": "markdown",
   "metadata": {},
   "source": [
    "(This means we also have to update our vector of true parameters)"
   ]
  },
  {
   "cell_type": "code",
   "execution_count": 17,
   "metadata": {},
   "outputs": [
    {
     "name": "stdout",
     "output_type": "stream",
     "text": [
      "[0.015, 500, 10]\n"
     ]
    }
   ],
   "source": [
    "true_parameters += [noise]\n",
    "print(true_parameters)"
   ]
  },
  {
   "cell_type": "markdown",
   "metadata": {},
   "source": [
    "This `log_likelihood` represents the _conditional probability_ $p(y|\\theta)$, given a set of parameters $\\theta$ and a series of $y=$ `values`, it can calculate the probability of finding those values if the real parameters are $\\theta$.\n",
    "\n",
    "We can use this in a Bayesian inference scheme to find the quantity we're interested in:\n",
    "\n",
    "$p(\\theta|y) = \\frac{p(\\theta)p(y|\\theta)}{p(y)} \\propto p(\\theta)p(y|\\theta)$\n",
    "\n",
    "To solve this, we now define a _prior_, indicating our initial ideas about what the parameters should be. In this example we'll assume we don't know too much except lower and upper bounds for each variable: We assume the first model parameter is somewhere on the interval $[0.01, 0.02]$, the second model parameter on $[400, 600]$, and the standard deviation of the noise is somewhere on $[1, 100]$."
   ]
  },
  {
   "cell_type": "code",
   "execution_count": null,
   "metadata": {},
   "outputs": [],
   "source": [
    "prior = pints.UniformPrior(\n",
    "    [0.01, 400, 1],\n",
    "    [0.02, 600, 100]\n",
    "    )"
   ]
  },
  {
   "cell_type": "markdown",
   "metadata": {},
   "source": [
    "With this prior, we can now define a Bayesian likelihood $p(\\theta)p(y|\\theta)$"
   ]
  },
  {
   "cell_type": "code",
   "execution_count": 15,
   "metadata": {},
   "outputs": [],
   "source": [
    "log_likelihood = pints.BayesianLogLikelihood(prior, log_likelihood)"
   ]
  },
  {
   "cell_type": "markdown",
   "metadata": {},
   "source": [
    "And this, together with a guess at the true parameters, gives us everything we need to run an MCMC routine:"
   ]
  },
  {
   "cell_type": "code",
   "execution_count": 18,
   "metadata": {},
   "outputs": [
    {
     "name": "stdout",
     "output_type": "stream",
     "text": [
      "Iteration 0 of 6000\n",
      "  In burn-in: False\n",
      "  Adapting: False\n",
      "  Acceptance rate: 0.0\n",
      "Iteration 50 of 6000\n",
      "  In burn-in: False\n",
      "  Adapting: False\n",
      "  Acceptance rate: 0.0588235294118\n",
      "Iteration 100 of 6000\n",
      "  In burn-in: False\n",
      "  Adapting: False\n",
      "  Acceptance rate: 0.029702970297\n",
      "Iteration 150 of 6000\n",
      "  In burn-in: False\n",
      "  Adapting: False\n",
      "  Acceptance rate: 0.0264900662252\n",
      "Iteration 200 of 6000\n",
      "  In burn-in: False\n",
      "  Adapting: False\n",
      "  Acceptance rate: 0.0248756218905\n",
      "Iteration 250 of 6000\n",
      "  In burn-in: False\n",
      "  Adapting: False\n",
      "  Acceptance rate: 0.0239043824701\n",
      "Iteration 300 of 6000\n",
      "  In burn-in: False\n",
      "  Adapting: False\n",
      "  Acceptance rate: 0.0199335548173\n",
      "Iteration 350 of 6000\n",
      "  In burn-in: False\n",
      "  Adapting: False\n",
      "  Acceptance rate: 0.017094017094\n",
      "Iteration 400 of 6000\n",
      "  In burn-in: False\n",
      "  Adapting: False\n",
      "  Acceptance rate: 0.0149625935162\n",
      "Iteration 450 of 6000\n",
      "  In burn-in: False\n",
      "  Adapting: False\n",
      "  Acceptance rate: 0.0133037694013\n",
      "Iteration 500 of 6000\n",
      "  In burn-in: False\n",
      "  Adapting: False\n",
      "  Acceptance rate: 0.0119760479042\n",
      "Iteration 550 of 6000\n",
      "  In burn-in: False\n",
      "  Adapting: False\n",
      "  Acceptance rate: 0.0127041742287\n",
      "Iteration 600 of 6000\n",
      "  In burn-in: False\n",
      "  Adapting: False\n",
      "  Acceptance rate: 0.0116472545757\n",
      "Iteration 650 of 6000\n",
      "  In burn-in: False\n",
      "  Adapting: False\n",
      "  Acceptance rate: 0.0122887864823\n",
      "Iteration 700 of 6000\n",
      "  In burn-in: False\n",
      "  Adapting: False\n",
      "  Acceptance rate: 0.0156918687589\n",
      "Iteration 750 of 6000\n",
      "  In burn-in: False\n",
      "  Adapting: False\n",
      "  Acceptance rate: 0.0159786950732\n",
      "Iteration 800 of 6000\n",
      "  In burn-in: False\n",
      "  Adapting: False\n",
      "  Acceptance rate: 0.0149812734082\n",
      "Iteration 850 of 6000\n",
      "  In burn-in: False\n",
      "  Adapting: False\n",
      "  Acceptance rate: 0.0141010575793\n",
      "Iteration 900 of 6000\n",
      "  In burn-in: False\n",
      "  Adapting: False\n",
      "  Acceptance rate: 0.0133185349612\n",
      "Iteration 950 of 6000\n",
      "  In burn-in: False\n",
      "  Adapting: False\n",
      "  Acceptance rate: 0.01261829653\n",
      "Iteration 1000 of 6000\n",
      "  In burn-in: False\n",
      "  Adapting: False\n",
      "  Acceptance rate: 0.011988011988\n",
      "Iteration 1050 of 6000\n",
      "  In burn-in: False\n",
      "  Adapting: False\n",
      "  Acceptance rate: 0.011417697431\n",
      "Iteration 1100 of 6000\n",
      "  In burn-in: False\n",
      "  Adapting: False\n",
      "  Acceptance rate: 0.0118074477748\n",
      "Iteration 1150 of 6000\n",
      "  In burn-in: False\n",
      "  Adapting: False\n",
      "  Acceptance rate: 0.0112945264987\n",
      "Iteration 1200 of 6000\n",
      "  In burn-in: False\n",
      "  Adapting: False\n",
      "  Acceptance rate: 0.0108243130724\n",
      "Iteration 1250 of 6000\n",
      "  In burn-in: False\n",
      "  Adapting: False\n",
      "  Acceptance rate: 0.0103916866507\n",
      "Iteration 1300 of 6000\n",
      "  In burn-in: False\n",
      "  Adapting: False\n",
      "  Acceptance rate: 0.00999231360492\n",
      "Iteration 1350 of 6000\n",
      "  In burn-in: False\n",
      "  Adapting: False\n",
      "  Acceptance rate: 0.0111028867506\n",
      "Iteration 1400 of 6000\n",
      "  In burn-in: False\n",
      "  Adapting: False\n",
      "  Acceptance rate: 0.0107066381156\n",
      "Iteration 1450 of 6000\n",
      "  In burn-in: False\n",
      "  Adapting: False\n",
      "  Acceptance rate: 0.0124052377671\n",
      "Iteration 1500 of 6000\n",
      "  In burn-in: False\n",
      "  Adapting: True\n",
      "  Acceptance rate: 0.0119920053298\n"
     ]
    },
    {
     "name": "stderr",
     "output_type": "stream",
     "text": [
      "/home/michael/dev/pints/pints/_mcmc/_adaptive.py:75: RuntimeWarning: covariance is not positive-semidefinite.\n",
      "  np.exp(loga) * sigma)\n"
     ]
    },
    {
     "name": "stdout",
     "output_type": "stream",
     "text": [
      "Iteration 1550 of 6000\n",
      "  In burn-in: False\n",
      "  Adapting: True\n",
      "  Acceptance rate: 0.0186976144423\n",
      "Iteration 1600 of 6000\n",
      "  In burn-in: False\n",
      "  Adapting: True\n",
      "  Acceptance rate: 0.0306058713304\n",
      "Iteration 1650 of 6000\n",
      "  In burn-in: False\n",
      "  Adapting: True\n",
      "  Acceptance rate: 0.0484554815263\n",
      "Iteration 1700 of 6000\n",
      "  In burn-in: False\n",
      "  Adapting: True\n",
      "  Acceptance rate: 0.0623162845385\n",
      "Iteration 1750 of 6000\n",
      "  In burn-in: False\n",
      "  Adapting: True\n",
      "  Acceptance rate: 0.0736721873215\n",
      "Iteration 1800 of 6000\n",
      "  In burn-in: False\n",
      "  Adapting: True\n",
      "  Acceptance rate: 0.0805108273182\n",
      "Iteration 1850 of 6000\n",
      "  In burn-in: False\n",
      "  Adapting: True\n",
      "  Acceptance rate: 0.0831982712048\n",
      "Iteration 1900 of 6000\n",
      "  In burn-in: False\n",
      "  Adapting: True\n",
      "  Acceptance rate: 0.0883745397159\n",
      "Iteration 1950 of 6000\n",
      "  In burn-in: False\n",
      "  Adapting: True\n",
      "  Acceptance rate: 0.0866222450026\n",
      "Iteration 2000 of 6000\n",
      "  In burn-in: False\n",
      "  Adapting: True\n",
      "  Acceptance rate: 0.0854572713643\n",
      "Iteration 2050 of 6000\n",
      "  In burn-in: False\n",
      "  Adapting: True\n",
      "  Acceptance rate: 0.0838615309605\n",
      "Iteration 2100 of 6000\n",
      "  In burn-in: False\n",
      "  Adapting: True\n",
      "  Acceptance rate: 0.0828177058544\n",
      "Iteration 2150 of 6000\n",
      "  In burn-in: False\n",
      "  Adapting: True\n",
      "  Acceptance rate: 0.0822873082287\n",
      "Iteration 2200 of 6000\n",
      "  In burn-in: False\n",
      "  Adapting: True\n",
      "  Acceptance rate: 0.0804179918219\n",
      "Iteration 2250 of 6000\n",
      "  In burn-in: False\n",
      "  Adapting: True\n",
      "  Acceptance rate: 0.0799644602399\n",
      "Iteration 2300 of 6000\n",
      "  In burn-in: False\n",
      "  Adapting: True\n",
      "  Acceptance rate: 0.0795306388527\n",
      "Iteration 2350 of 6000\n",
      "  In burn-in: False\n",
      "  Adapting: True\n",
      "  Acceptance rate: 0.0795406210123\n",
      "Iteration 2400 of 6000\n",
      "  In burn-in: False\n",
      "  Adapting: True\n",
      "  Acceptance rate: 0.0816326530612\n",
      "Iteration 2450 of 6000\n",
      "  In burn-in: False\n",
      "  Adapting: True\n",
      "  Acceptance rate: 0.0901672786618\n",
      "Iteration 2500 of 6000\n",
      "  In burn-in: False\n",
      "  Adapting: True\n",
      "  Acceptance rate: 0.0955617752899\n",
      "Iteration 2550 of 6000\n",
      "  In burn-in: False\n",
      "  Adapting: True\n",
      "  Acceptance rate: 0.100352802822\n",
      "Iteration 2600 of 6000\n",
      "  In burn-in: False\n",
      "  Adapting: True\n",
      "  Acceptance rate: 0.106881968474\n",
      "Iteration 2650 of 6000\n",
      "  In burn-in: False\n",
      "  Adapting: True\n",
      "  Acceptance rate: 0.111655978876\n",
      "Iteration 2700 of 6000\n",
      "  In burn-in: False\n",
      "  Adapting: True\n",
      "  Acceptance rate: 0.116993706035\n",
      "Iteration 2750 of 6000\n",
      "  In burn-in: False\n",
      "  Adapting: True\n",
      "  Acceptance rate: 0.12213740458\n",
      "Iteration 2800 of 6000\n",
      "  In burn-in: False\n",
      "  Adapting: True\n",
      "  Acceptance rate: 0.123884327026\n",
      "Iteration 2850 of 6000\n",
      "  In burn-in: False\n",
      "  Adapting: True\n",
      "  Acceptance rate: 0.121711680112\n",
      "Iteration 2900 of 6000\n",
      "  In burn-in: False\n",
      "  Adapting: True\n",
      "  Acceptance rate: 0.120648052396\n",
      "Iteration 2950 of 6000\n",
      "  In burn-in: False\n",
      "  Adapting: True\n",
      "  Acceptance rate: 0.121314808539\n",
      "Iteration 3000 of 6000\n",
      "  In burn-in: False\n",
      "  Adapting: True\n",
      "  Acceptance rate: 0.119960013329\n",
      "Iteration 3050 of 6000\n",
      "  In burn-in: False\n",
      "  Adapting: True\n",
      "  Acceptance rate: 0.117994100295\n",
      "Iteration 3100 of 6000\n",
      "  In burn-in: False\n",
      "  Adapting: True\n",
      "  Acceptance rate: 0.116414059981\n",
      "Iteration 3150 of 6000\n",
      "  In burn-in: False\n",
      "  Adapting: True\n",
      "  Acceptance rate: 0.114566804189\n",
      "Iteration 3200 of 6000\n",
      "  In burn-in: False\n",
      "  Adapting: True\n",
      "  Acceptance rate: 0.113089659481\n",
      "Iteration 3250 of 6000\n",
      "  In burn-in: False\n",
      "  Adapting: True\n",
      "  Acceptance rate: 0.111350353737\n",
      "Iteration 3300 of 6000\n",
      "  In burn-in: False\n",
      "  Adapting: True\n",
      "  Acceptance rate: 0.110572553772\n",
      "Iteration 3350 of 6000\n",
      "  In burn-in: False\n",
      "  Adapting: True\n",
      "  Acceptance rate: 0.111011638317\n",
      "Iteration 3400 of 6000\n",
      "  In burn-in: False\n",
      "  Adapting: True\n",
      "  Acceptance rate: 0.11231990591\n",
      "Iteration 3450 of 6000\n",
      "  In burn-in: False\n",
      "  Adapting: True\n",
      "  Acceptance rate: 0.113300492611\n",
      "Iteration 3500 of 6000\n",
      "  In burn-in: False\n",
      "  Adapting: True\n",
      "  Acceptance rate: 0.115395601257\n",
      "Iteration 3550 of 6000\n",
      "  In burn-in: False\n",
      "  Adapting: True\n",
      "  Acceptance rate: 0.118276541819\n",
      "Iteration 3600 of 6000\n",
      "  In burn-in: False\n",
      "  Adapting: True\n",
      "  Acceptance rate: 0.121910580394\n",
      "Iteration 3650 of 6000\n",
      "  In burn-in: False\n",
      "  Adapting: True\n",
      "  Acceptance rate: 0.127636264037\n",
      "Iteration 3700 of 6000\n",
      "  In burn-in: False\n",
      "  Adapting: True\n",
      "  Acceptance rate: 0.130505268846\n",
      "Iteration 3750 of 6000\n",
      "  In burn-in: False\n",
      "  Adapting: True\n",
      "  Acceptance rate: 0.133830978406\n",
      "Iteration 3800 of 6000\n",
      "  In burn-in: False\n",
      "  Adapting: True\n",
      "  Acceptance rate: 0.136543014996\n",
      "Iteration 3850 of 6000\n",
      "  In burn-in: False\n",
      "  Adapting: True\n",
      "  Acceptance rate: 0.140742664243\n",
      "Iteration 3900 of 6000\n",
      "  In burn-in: False\n",
      "  Adapting: True\n",
      "  Acceptance rate: 0.144065624199\n",
      "Iteration 3950 of 6000\n",
      "  In burn-in: False\n",
      "  Adapting: True\n",
      "  Acceptance rate: 0.146545178436\n",
      "Iteration 4000 of 6000\n",
      "  In burn-in: False\n",
      "  Adapting: True\n",
      "  Acceptance rate: 0.150212446888\n",
      "Iteration 4050 of 6000\n",
      "  In burn-in: False\n",
      "  Adapting: True\n",
      "  Acceptance rate: 0.152061219452\n",
      "Iteration 4100 of 6000\n",
      "  In burn-in: False\n",
      "  Adapting: True\n",
      "  Acceptance rate: 0.154596439893\n",
      "Iteration 4150 of 6000\n",
      "  In burn-in: False\n",
      "  Adapting: True\n",
      "  Acceptance rate: 0.157311491207\n",
      "Iteration 4200 of 6000\n",
      "  In burn-in: False\n",
      "  Adapting: True\n",
      "  Acceptance rate: 0.158771721019\n",
      "Iteration 4250 of 6000\n",
      "  In burn-in: False\n",
      "  Adapting: True\n",
      "  Acceptance rate: 0.161373794401\n",
      "Iteration 4300 of 6000\n",
      "  In burn-in: False\n",
      "  Adapting: True\n",
      "  Acceptance rate: 0.165077888863\n",
      "Iteration 4350 of 6000\n",
      "  In burn-in: False\n",
      "  Adapting: True\n",
      "  Acceptance rate: 0.168237186854\n",
      "Iteration 4400 of 6000\n",
      "  In burn-in: False\n",
      "  Adapting: True\n",
      "  Acceptance rate: 0.170415814588\n",
      "Iteration 4450 of 6000\n",
      "  In burn-in: False\n",
      "  Adapting: True\n",
      "  Acceptance rate: 0.171871489553\n",
      "Iteration 4500 of 6000\n",
      "  In burn-in: True\n",
      "  Adapting: True\n",
      "  Acceptance rate: 0.173516996223\n",
      "Iteration 4550 of 6000\n",
      "  In burn-in: True\n",
      "  Adapting: True\n",
      "  Acceptance rate: 0.174027686223\n",
      "Iteration 4600 of 6000\n",
      "  In burn-in: True\n",
      "  Adapting: True\n",
      "  Acceptance rate: 0.177352749402\n",
      "Iteration 4650 of 6000\n",
      "  In burn-in: True\n",
      "  Adapting: True\n",
      "  Acceptance rate: 0.178671253494\n",
      "Iteration 4700 of 6000\n",
      "  In burn-in: True\n",
      "  Adapting: True\n",
      "  Acceptance rate: 0.179961710274\n",
      "Iteration 4750 of 6000\n",
      "  In burn-in: True\n",
      "  Adapting: True\n",
      "  Acceptance rate: 0.180593559251\n",
      "Iteration 4800 of 6000\n",
      "  In burn-in: True\n",
      "  Adapting: True\n",
      "  Acceptance rate: 0.182461987086\n",
      "Iteration 4850 of 6000\n",
      "  In burn-in: True\n",
      "  Adapting: True\n",
      "  Acceptance rate: 0.184498041641\n",
      "Iteration 4900 of 6000\n",
      "  In burn-in: True\n",
      "  Adapting: True\n",
      "  Acceptance rate: 0.185472352581\n",
      "Iteration 4950 of 6000\n",
      "  In burn-in: True\n",
      "  Adapting: True\n",
      "  Acceptance rate: 0.185417087457\n",
      "Iteration 5000 of 6000\n",
      "  In burn-in: True\n",
      "  Adapting: True\n",
      "  Acceptance rate: 0.186962607479\n",
      "Iteration 5050 of 6000\n",
      "  In burn-in: True\n",
      "  Adapting: True\n",
      "  Acceptance rate: 0.187091665017\n",
      "Iteration 5100 of 6000\n",
      "  In burn-in: True\n",
      "  Adapting: True\n",
      "  Acceptance rate: 0.186826112527\n",
      "Iteration 5150 of 6000\n",
      "  In burn-in: True\n",
      "  Adapting: True\n",
      "  Acceptance rate: 0.188312948942\n",
      "Iteration 5200 of 6000\n",
      "  In burn-in: True\n",
      "  Adapting: True\n",
      "  Acceptance rate: 0.189002114978\n",
      "Iteration 5250 of 6000\n",
      "  In burn-in: True\n",
      "  Adapting: True\n",
      "  Acceptance rate: 0.189487716625\n",
      "Iteration 5300 of 6000\n",
      "  In burn-in: True\n",
      "  Adapting: True\n",
      "  Acceptance rate: 0.190152801358\n",
      "Iteration 5350 of 6000\n",
      "  In burn-in: True\n",
      "  Adapting: True\n",
      "  Acceptance rate: 0.190992337881\n",
      "Iteration 5400 of 6000\n",
      "  In burn-in: True\n",
      "  Adapting: True\n",
      "  Acceptance rate: 0.190890575819\n",
      "Iteration 5450 of 6000\n",
      "  In burn-in: True\n",
      "  Adapting: True\n",
      "  Acceptance rate: 0.191707943497\n",
      "Iteration 5500 of 6000\n",
      "  In burn-in: True\n",
      "  Adapting: True\n",
      "  Acceptance rate: 0.191965097255\n",
      "Iteration 5550 of 6000\n",
      "  In burn-in: True\n",
      "  Adapting: True\n",
      "  Acceptance rate: 0.192938209332\n",
      "Iteration 5600 of 6000\n",
      "  In burn-in: True\n",
      "  Adapting: True\n",
      "  Acceptance rate: 0.193001249777\n",
      "Iteration 5650 of 6000\n",
      "  In burn-in: True\n",
      "  Adapting: True\n",
      "  Acceptance rate: 0.193240134489\n",
      "Iteration 5700 of 6000\n",
      "  In burn-in: True\n",
      "  Adapting: True\n",
      "  Acceptance rate: 0.194351868093\n",
      "Iteration 5750 of 6000\n",
      "  In burn-in: True\n",
      "  Adapting: True\n",
      "  Acceptance rate: 0.194574856547\n",
      "Iteration 5800 of 6000\n",
      "  In burn-in: True\n",
      "  Adapting: True\n",
      "  Acceptance rate: 0.194966385106\n",
      "Iteration 5850 of 6000\n",
      "  In burn-in: True\n",
      "  Adapting: True\n",
      "  Acceptance rate: 0.195351222013\n",
      "Iteration 5900 of 6000\n",
      "  In burn-in: True\n",
      "  Adapting: True\n",
      "  Acceptance rate: 0.194712760549\n",
      "Iteration 5950 of 6000\n",
      "  In burn-in: True\n",
      "  Adapting: True\n",
      "  Acceptance rate: 0.194421105697\n"
     ]
    }
   ],
   "source": [
    "x0 = np.array(true_parameters) * 1.1\n",
    "chain = pints.adaptive_covariance_mcmc(log_likelihood, x0)"
   ]
  },
  {
   "cell_type": "markdown",
   "metadata": {},
   "source": [
    "Now we can plot samples from the resulting markov chains to approximate the distributions of the parameters:"
   ]
  },
  {
   "cell_type": "code",
   "execution_count": 47,
   "metadata": {},
   "outputs": [
    {
     "data": {
      "image/png": "[encoded data removed]",
      "text/plain": [
       "<matplotlib.figure.Figure at 0x7fdf97b6d250>"
      ]
     },
     "metadata": {},
     "output_type": "display_data"
    }
   ],
   "source": [
    "pl.figure(figsize=(14, 9))\n",
    "for i, real in enumerate(true_parameters):\n",
    "    \n",
    "    # Add subplot\n",
    "    pl.subplot(len(true_parameters), 1, 1+i)\n",
    "    pl.xlabel('Parameter ' + str(i + 1))\n",
    "    \n",
    "    # Show true value\n",
    "    pl.axvline(real)\n",
    "    \n",
    "    # Show histogram of chain\n",
    "    pl.hist(chain[:,i], label='p' + str(i + 1), bins=40, color='green',\n",
    "        alpha=0.5)\n",
    "    \n",
    "    # Center plot around mean of chain\n",
    "    mu = np.mean(chain[:,i])\n",
    "    sigma = np.std(chain[:,i])\n",
    "    pl.xlim(mu - 3 * sigma, mu + 3 * sigma)\n",
    "\n",
    "# Show where the sample standard deviation of the generated noise is:\n",
    "pl.axvline(noise_sample_std, color='orange')\n",
    "\n",
    "# Finalise plot\n",
    "pl.tight_layout()\n",
    "pl.show()"
   ]
  },
  {
   "cell_type": "markdown",
   "metadata": {},
   "source": [
    "As these plots show, we came pretty close to the original \"true\" values (represented by the blue line).\n",
    "\n",
    "But not exactly... Worse, the method seems to suggest a normal distribution but around the wrong point.\n",
    "\n",
    "To find out what's going on, we can plot the log-likelihood function near the true parameters:"
   ]
  },
  {
   "cell_type": "code",
   "execution_count": 46,
   "metadata": {},
   "outputs": [
    {
     "data": {
      "image/png": "[encoded data removed]",
      "text/plain": [
       "<matplotlib.figure.Figure at 0x7fdf9575cf50>"
      ]
     },
     "metadata": {},
     "output_type": "display_data"
    }
   ],
   "source": [
    "# Get properties of the noise sample\n",
    "noise_sample_mean = np.mean(values - org_values)\n",
    "noise_sample_std = np.std(values - org_values)\n",
    "\n",
    "# Plot log-likelihood function\n",
    "pl.figure(figsize=(14, 9))\n",
    "for i, p in enumerate(true_parameters):\n",
    "    # Add subplot\n",
    "    pl.subplot(len(true_parameters), 1, 1 + i)\n",
    "    pl.xlabel('Parameter ' + str(i + 1))\n",
    "    # Generate some x-values near the true parameter\n",
    "    if i + 1 == len(true_parameters):\n",
    "        # Noise plot: special case\n",
    "        # First, add a line showing the sample standard deviation of the\n",
    "        # generated noise\n",
    "        pl.axvline(noise_sample_std, color='orange', label='Sample std.')\n",
    "        # Next, choose a wide range of parameters so we can see the peak of the\n",
    "        # log-likelihood curve\n",
    "        xmin = min([p*0.95, noise_sample_std*0.95])\n",
    "        xmax = max([p*1.05, noise_sample_std*1.05])\n",
    "    else:\n",
    "        # Choose same limits as histogram (see below)\n",
    "        mu = np.mean(chain[:,i])\n",
    "        sigma = np.std(chain[:,i])\n",
    "        xmin = mu - 3 * sigma\n",
    "        xmax = mu + 3 * sigma\n",
    "    x = np.linspace(xmin, xmax, 100)\n",
    "    # Calculate log-likelihood with other parameters fixed\n",
    "    y = [log_likelihood(list(true_parameters[:i]) + [j]\n",
    "        + list(true_parameters[1+i:])) for j in x]\n",
    "    # Plot\n",
    "    pl.plot(x, y, color='green', label='Log-likelihood')\n",
    "    pl.axvline(p, color='blue', label='True value')\n",
    "    pl.legend()\n",
    "pl.tight_layout()\n",
    "pl.show()"
   ]
  },
  {
   "cell_type": "markdown",
   "metadata": {},
   "source": [
    "As this plot (created entirely without MCMC!) shows, the MCMC method did well, but our estimate of the true parameters has become _biased_ by the stochastic noise! You can test this by increasing the number of sample points, which increases the size of the noise sample, and reduces the bias."
   ]
  }
 ],
 "metadata": {
  "kernelspec": {
   "display_name": "Python 2",
   "language": "python",
   "name": "python2"
  },
  "language_info": {
   "codemirror_mode": {
    "name": "ipython",
    "version": 2
   },
   "file_extension": ".py",
   "mimetype": "text/x-python",
   "name": "python",
   "nbconvert_exporter": "python",
   "pygments_lexer": "ipython2",
   "version": "2.7.14"
  }
 },
 "nbformat": 4,
 "nbformat_minor": 2
}
