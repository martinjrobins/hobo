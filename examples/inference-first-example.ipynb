{
 "cells": [
  {
   "cell_type": "markdown",
   "metadata": {},
   "source": [
    "# Inference: First example\n",
    "\n",
    "This example shows you how to perform Bayesian inference on a time series, using an adaptive MCMC method.\n",
    "\n",
    "It follows on from [Optimisation: First example](https://github.com/martinjrobins/pints/blob/master/examples/optimisation-first-example.ipynb)\n",
    "\n",
    "Like in the optimisation example, we start by importing pints:"
   ]
  },
  {
   "cell_type": "code",
   "execution_count": 1,
   "metadata": {},
   "outputs": [],
   "source": [
    "import pints"
   ]
  },
  {
   "cell_type": "markdown",
   "metadata": {},
   "source": [
    "Next, we create a model class. \n",
    "\n",
    "Instead of using a real model, in this example we use the \"Logistic\" toy model included in pints:"
   ]
  },
  {
   "cell_type": "code",
   "execution_count": 2,
   "metadata": {},
   "outputs": [],
   "source": [
    "import pints.toy as toy\n",
    "model = toy.LogisticModel()"
   ]
  },
  {
   "cell_type": "markdown",
   "metadata": {},
   "source": [
    "In order to generate some test data, we choose an arbitrary set of \"true\" parameters:"
   ]
  },
  {
   "cell_type": "code",
   "execution_count": 3,
   "metadata": {},
   "outputs": [],
   "source": [
    "true_parameters = [0.015, 500]"
   ]
  },
  {
   "cell_type": "markdown",
   "metadata": {},
   "source": [
    "And a number of time points at which to sample:"
   ]
  },
  {
   "cell_type": "code",
   "execution_count": 4,
   "metadata": {},
   "outputs": [],
   "source": [
    "import numpy as np\n",
    "times = np.linspace(0, 1000, 100000)"
   ]
  },
  {
   "cell_type": "markdown",
   "metadata": {},
   "source": [
    "Using these parameters and time points, we can now generate some toy data:"
   ]
  },
  {
   "cell_type": "code",
   "execution_count": 5,
   "metadata": {},
   "outputs": [],
   "source": [
    "org_values = model.simulate(true_parameters, times)"
   ]
  },
  {
   "cell_type": "markdown",
   "metadata": {},
   "source": [
    "And make it more realistic by adding gaussian noise:"
   ]
  },
  {
   "cell_type": "code",
   "execution_count": 6,
   "metadata": {},
   "outputs": [],
   "source": [
    "noise = 10\n",
    "values = org_values + np.random.normal(0, noise, org_values.shape)"
   ]
  },
  {
   "cell_type": "markdown",
   "metadata": {},
   "source": [
    "We can use matplotlib (or any other plotting package) to look at the data we've created:"
   ]
  },
  {
   "cell_type": "code",
   "execution_count": 7,
   "metadata": {},
   "outputs": [
    {
     "data": {
      "image/png": "[encoded data removed]",
      "text/plain": [
       "<matplotlib.figure.Figure at 0x7f7940626e10>"
      ]
     },
     "metadata": {},
     "output_type": "display_data"
    }
   ],
   "source": [
    "import matplotlib.pyplot as pl\n",
    "\n",
    "pl.figure()\n",
    "pl.xlabel('Time')\n",
    "pl.ylabel('Values')\n",
    "pl.plot(times, values, color='blue', label='Noisy data')\n",
    "pl.plot(times, org_values, color='orange', lw=2, label='Noise-free data')\n",
    "pl.legend()\n",
    "pl.show()"
   ]
  },
  {
   "cell_type": "markdown",
   "metadata": {},
   "source": [
    "Now we have enough data (a model, a list of times, and a list of data) to formulate a problem:"
   ]
  },
  {
   "cell_type": "code",
   "execution_count": 8,
   "metadata": {},
   "outputs": [],
   "source": [
    "problem = pints.SingleSeriesProblem(model, times, values)"
   ]
  },
  {
   "cell_type": "markdown",
   "metadata": {},
   "source": [
    "We now have some toy data, and a model that can be used for forward simulations. To make it into a probabilistic problem, we need to add a _noise model_. One way to do this is using the `UnknownNoiseLogLikelihood` function, which assumes independently distributed Gaussian noise over the data, and can calculate log-likelihoods:"
   ]
  },
  {
   "cell_type": "code",
   "execution_count": 9,
   "metadata": {},
   "outputs": [],
   "source": [
    "log_likelihood = pints.UnknownNoiseLogLikelihood(problem)"
   ]
  },
  {
   "cell_type": "markdown",
   "metadata": {},
   "source": [
    "This noise has mean zero, and an unknown standard deviation. How can we find out the standard deviation? By inferring it along with the other parameters. This means we have added one parameter to our problem!"
   ]
  },
  {
   "cell_type": "code",
   "execution_count": 10,
   "metadata": {},
   "outputs": [
    {
     "name": "stdout",
     "output_type": "stream",
     "text": [
      "Original problem dimension: 2\n"
     ]
    }
   ],
   "source": [
    "print('Original problem dimension: ' + str(problem.dimension()))"
   ]
  },
  {
   "cell_type": "code",
   "execution_count": 11,
   "metadata": {},
   "outputs": [
    {
     "name": "stdout",
     "output_type": "stream",
     "text": [
      "New dimension: 3\n"
     ]
    }
   ],
   "source": [
    "print('New dimension: ' + str(log_likelihood.dimension()))"
   ]
  },
  {
   "cell_type": "markdown",
   "metadata": {},
   "source": [
    "(This means we also have to update our vector of true parameters)"
   ]
  },
  {
   "cell_type": "code",
   "execution_count": 12,
   "metadata": {},
   "outputs": [
    {
     "name": "stdout",
     "output_type": "stream",
     "text": [
      "[0.015, 500, 10]\n"
     ]
    }
   ],
   "source": [
    "true_parameters += [noise]\n",
    "print(true_parameters)"
   ]
  },
  {
   "cell_type": "markdown",
   "metadata": {},
   "source": [
    "This `log_likelihood` represents the _conditional probability_ $p(y|\\theta)$, given a set of parameters $\\theta$ and a series of $y=$ `values`, it can calculate the probability of finding those values if the real parameters are $\\theta$.\n",
    "\n",
    "We can use this in a Bayesian inference scheme to find the quantity we're interested in:\n",
    "\n",
    "$p(\\theta|y) = \\frac{p(\\theta)p(y|\\theta)}{p(y)} \\propto p(\\theta)p(y|\\theta)$\n",
    "\n",
    "To solve this, we now define a _prior_, indicating our initial ideas about what the parameters should be. In this example we'll assume we don't know too much except lower and upper bounds for each variable: We assume the first model parameter is somewhere on the interval $[0.01, 0.02]$, the second model parameter on $[400, 600]$, and the standard deviation of the noise is somewhere on $[1, 100]$."
   ]
  },
  {
   "cell_type": "code",
   "execution_count": 13,
   "metadata": {},
   "outputs": [],
   "source": [
    "prior = pints.UniformPrior(\n",
    "    [0.01, 400, 1],\n",
    "    [0.02, 600, 100]\n",
    "    )"
   ]
  },
  {
   "cell_type": "markdown",
   "metadata": {},
   "source": [
    "With this prior, we can now define a Bayesian likelihood $p(\\theta)p(y|\\theta)$"
   ]
  },
  {
   "cell_type": "code",
   "execution_count": 14,
   "metadata": {},
   "outputs": [],
   "source": [
    "log_likelihood = pints.BayesianLogLikelihood(prior, log_likelihood)"
   ]
  },
  {
   "cell_type": "markdown",
   "metadata": {},
   "source": [
    "And this, together with a guess at the true parameters, gives us everything we need to run an MCMC routine:"
   ]
  },
  {
   "cell_type": "code",
   "execution_count": 15,
   "metadata": {},
   "outputs": [
    {
     "name": "stdout",
     "output_type": "stream",
     "text": [
      "Iteration 0 of 6000\n",
      "  In burn-in: False\n",
      "  Adapting: False\n",
      "  Acceptance rate: 0.0\n",
      "Iteration 50 of 6000\n",
      "  In burn-in: False\n",
      "  Adapting: False\n",
      "  Acceptance rate: 0.0588235294118\n",
      "Iteration 100 of 6000\n",
      "  In burn-in: False\n",
      "  Adapting: False\n",
      "  Acceptance rate: 0.049504950495\n",
      "Iteration 150 of 6000\n",
      "  In burn-in: False\n",
      "  Adapting: False\n",
      "  Acceptance rate: 0.0331125827815\n",
      "Iteration 200 of 6000\n",
      "  In burn-in: False\n",
      "  Adapting: False\n",
      "  Acceptance rate: 0.0248756218905\n",
      "Iteration 250 of 6000\n",
      "  In burn-in: False\n",
      "  Adapting: False\n",
      "  Acceptance rate: 0.0199203187251\n",
      "Iteration 300 of 6000\n",
      "  In burn-in: False\n",
      "  Adapting: False\n",
      "  Acceptance rate: 0.0166112956811\n",
      "Iteration 350 of 6000\n",
      "  In burn-in: False\n",
      "  Adapting: False\n",
      "  Acceptance rate: 0.019943019943\n",
      "Iteration 400 of 6000\n",
      "  In burn-in: False\n",
      "  Adapting: False\n",
      "  Acceptance rate: 0.0224438902743\n",
      "Iteration 450 of 6000\n",
      "  In burn-in: False\n",
      "  Adapting: False\n",
      "  Acceptance rate: 0.0221729490022\n",
      "Iteration 500 of 6000\n",
      "  In burn-in: False\n",
      "  Adapting: False\n",
      "  Acceptance rate: 0.0199600798403\n",
      "Iteration 550 of 6000\n",
      "  In burn-in: False\n",
      "  Adapting: False\n",
      "  Acceptance rate: 0.0199637023593\n",
      "Iteration 600 of 6000\n",
      "  In burn-in: False\n",
      "  Adapting: False\n",
      "  Acceptance rate: 0.018302828619\n",
      "Iteration 650 of 6000\n",
      "  In burn-in: False\n",
      "  Adapting: False\n",
      "  Acceptance rate: 0.0184331797235\n",
      "Iteration 700 of 6000\n",
      "  In burn-in: False\n",
      "  Adapting: False\n",
      "  Acceptance rate: 0.018544935806\n",
      "Iteration 750 of 6000\n",
      "  In burn-in: False\n",
      "  Adapting: False\n",
      "  Acceptance rate: 0.017310252996\n",
      "Iteration 800 of 6000\n",
      "  In burn-in: False\n",
      "  Adapting: False\n",
      "  Acceptance rate: 0.0174781523096\n",
      "Iteration 850 of 6000\n",
      "  In burn-in: False\n",
      "  Adapting: False\n",
      "  Acceptance rate: 0.0164512338425\n",
      "Iteration 900 of 6000\n",
      "  In burn-in: False\n",
      "  Adapting: False\n",
      "  Acceptance rate: 0.015538290788\n",
      "Iteration 950 of 6000\n",
      "  In burn-in: False\n",
      "  Adapting: False\n",
      "  Acceptance rate: 0.0157728706625\n",
      "Iteration 1000 of 6000\n",
      "  In burn-in: False\n",
      "  Adapting: False\n",
      "  Acceptance rate: 0.014985014985\n",
      "Iteration 1050 of 6000\n",
      "  In burn-in: False\n",
      "  Adapting: False\n",
      "  Acceptance rate: 0.0142721217888\n",
      "Iteration 1100 of 6000\n",
      "  In burn-in: False\n",
      "  Adapting: False\n",
      "  Acceptance rate: 0.0136239782016\n",
      "Iteration 1150 of 6000\n",
      "  In burn-in: False\n",
      "  Adapting: False\n",
      "  Acceptance rate: 0.01303214596\n",
      "Iteration 1200 of 6000\n",
      "  In burn-in: False\n",
      "  Adapting: False\n",
      "  Acceptance rate: 0.0124895920067\n",
      "Iteration 1250 of 6000\n",
      "  In burn-in: False\n",
      "  Adapting: False\n",
      "  Acceptance rate: 0.0119904076739\n",
      "Iteration 1300 of 6000\n",
      "  In burn-in: False\n",
      "  Adapting: False\n",
      "  Acceptance rate: 0.0122982321291\n",
      "Iteration 1350 of 6000\n",
      "  In burn-in: False\n",
      "  Adapting: False\n",
      "  Acceptance rate: 0.0118430792006\n",
      "Iteration 1400 of 6000\n",
      "  In burn-in: False\n",
      "  Adapting: False\n",
      "  Acceptance rate: 0.01142041399\n",
      "Iteration 1450 of 6000\n",
      "  In burn-in: False\n",
      "  Adapting: False\n",
      "  Acceptance rate: 0.0117160578911\n",
      "Iteration 1500 of 6000\n",
      "  In burn-in: False\n",
      "  Adapting: True\n",
      "  Acceptance rate: 0.0119920053298\n"
     ]
    },
    {
     "name": "stderr",
     "output_type": "stream",
     "text": [
      "/home/michael/dev/pints/pints/_mcmc/_adaptive.py:75: RuntimeWarning: covariance is not positive-semidefinite.\n",
      "  np.exp(loga) * sigma)\n"
     ]
    },
    {
     "name": "stdout",
     "output_type": "stream",
     "text": [
      "Iteration 1550 of 6000\n",
      "  In burn-in: False\n",
      "  Adapting: True\n",
      "  Acceptance rate: 0.0148291424887\n",
      "Iteration 1600 of 6000\n",
      "  In burn-in: False\n",
      "  Adapting: True\n",
      "  Acceptance rate: 0.0281074328545\n",
      "Iteration 1650 of 6000\n",
      "  In burn-in: False\n",
      "  Adapting: True\n",
      "  Acceptance rate: 0.0526953361599\n",
      "Iteration 1700 of 6000\n",
      "  In burn-in: False\n",
      "  Adapting: True\n",
      "  Acceptance rate: 0.0693709582598\n",
      "Iteration 1750 of 6000\n",
      "  In burn-in: False\n",
      "  Adapting: True\n",
      "  Acceptance rate: 0.0793832095945\n",
      "Iteration 1800 of 6000\n",
      "  In burn-in: False\n",
      "  Adapting: True\n",
      "  Acceptance rate: 0.0866185452526\n",
      "Iteration 1850 of 6000\n",
      "  In burn-in: False\n",
      "  Adapting: True\n",
      "  Acceptance rate: 0.0913019989195\n",
      "Iteration 1900 of 6000\n",
      "  In burn-in: False\n",
      "  Adapting: True\n",
      "  Acceptance rate: 0.0946870068385\n",
      "Iteration 1950 of 6000\n",
      "  In burn-in: False\n",
      "  Adapting: True\n",
      "  Acceptance rate: 0.0943106099436\n",
      "Iteration 2000 of 6000\n",
      "  In burn-in: False\n",
      "  Adapting: True\n",
      "  Acceptance rate: 0.0924537731134\n",
      "Iteration 2050 of 6000\n",
      "  In burn-in: False\n",
      "  Adapting: True\n",
      "  Acceptance rate: 0.091662603608\n",
      "Iteration 2100 of 6000\n",
      "  In burn-in: False\n",
      "  Adapting: True\n",
      "  Acceptance rate: 0.0899571632556\n",
      "Iteration 2150 of 6000\n",
      "  In burn-in: False\n",
      "  Adapting: True\n",
      "  Acceptance rate: 0.0887959088796\n",
      "Iteration 2200 of 6000\n",
      "  In burn-in: False\n",
      "  Adapting: True\n",
      "  Acceptance rate: 0.0881417537483\n",
      "Iteration 2250 of 6000\n",
      "  In burn-in: False\n",
      "  Adapting: True\n",
      "  Acceptance rate: 0.0875166592626\n",
      "Iteration 2300 of 6000\n",
      "  In burn-in: False\n",
      "  Adapting: True\n",
      "  Acceptance rate: 0.0899608865711\n",
      "Iteration 2350 of 6000\n",
      "  In burn-in: False\n",
      "  Adapting: True\n",
      "  Acceptance rate: 0.093577201191\n",
      "Iteration 2400 of 6000\n",
      "  In burn-in: False\n",
      "  Adapting: True\n",
      "  Acceptance rate: 0.0991253644315\n",
      "Iteration 2450 of 6000\n",
      "  In burn-in: False\n",
      "  Adapting: True\n",
      "  Acceptance rate: 0.104039167687\n",
      "Iteration 2500 of 6000\n",
      "  In burn-in: False\n",
      "  Adapting: True\n",
      "  Acceptance rate: 0.110755697721\n",
      "Iteration 2550 of 6000\n",
      "  In burn-in: False\n",
      "  Adapting: True\n",
      "  Acceptance rate: 0.117992943944\n",
      "Iteration 2600 of 6000\n",
      "  In burn-in: False\n",
      "  Adapting: True\n",
      "  Acceptance rate: 0.120338331411\n",
      "Iteration 2650 of 6000\n",
      "  In burn-in: False\n",
      "  Adapting: True\n",
      "  Acceptance rate: 0.12599019238\n",
      "Iteration 2700 of 6000\n",
      "  In burn-in: False\n",
      "  Adapting: True\n",
      "  Acceptance rate: 0.130322102925\n",
      "Iteration 2750 of 6000\n",
      "  In burn-in: False\n",
      "  Adapting: True\n",
      "  Acceptance rate: 0.135587059251\n",
      "Iteration 2800 of 6000\n",
      "  In burn-in: False\n",
      "  Adapting: True\n",
      "  Acceptance rate: 0.137450910389\n",
      "Iteration 2850 of 6000\n",
      "  In burn-in: False\n",
      "  Adapting: True\n",
      "  Acceptance rate: 0.135741844967\n",
      "Iteration 2900 of 6000\n",
      "  In burn-in: False\n",
      "  Adapting: True\n",
      "  Acceptance rate: 0.135815236125\n",
      "Iteration 2950 of 6000\n",
      "  In burn-in: False\n",
      "  Adapting: True\n",
      "  Acceptance rate: 0.135208403931\n",
      "Iteration 3000 of 6000\n",
      "  In burn-in: False\n",
      "  Adapting: True\n",
      "  Acceptance rate: 0.133955348217\n",
      "Iteration 3050 of 6000\n",
      "  In burn-in: False\n",
      "  Adapting: True\n",
      "  Acceptance rate: 0.132087840052\n",
      "Iteration 3100 of 6000\n",
      "  In burn-in: False\n",
      "  Adapting: True\n",
      "  Acceptance rate: 0.13060303128\n",
      "Iteration 3150 of 6000\n",
      "  In burn-in: False\n",
      "  Adapting: True\n",
      "  Acceptance rate: 0.129482703904\n",
      "Iteration 3200 of 6000\n",
      "  In burn-in: False\n",
      "  Adapting: True\n",
      "  Acceptance rate: 0.127460168697\n",
      "Iteration 3250 of 6000\n",
      "  In burn-in: False\n",
      "  Adapting: True\n",
      "  Acceptance rate: 0.125499846201\n",
      "Iteration 3300 of 6000\n",
      "  In burn-in: False\n",
      "  Adapting: True\n",
      "  Acceptance rate: 0.124507724932\n",
      "Iteration 3350 of 6000\n",
      "  In burn-in: False\n",
      "  Adapting: True\n",
      "  Acceptance rate: 0.123843628768\n",
      "Iteration 3400 of 6000\n",
      "  In burn-in: False\n",
      "  Adapting: True\n",
      "  Acceptance rate: 0.124081152602\n",
      "Iteration 3450 of 6000\n",
      "  In burn-in: False\n",
      "  Adapting: True\n",
      "  Acceptance rate: 0.126340191249\n",
      "Iteration 3500 of 6000\n",
      "  In burn-in: False\n",
      "  Adapting: True\n",
      "  Acceptance rate: 0.128820337047\n",
      "Iteration 3550 of 6000\n",
      "  In burn-in: False\n",
      "  Adapting: True\n",
      "  Acceptance rate: 0.131793860884\n",
      "Iteration 3600 of 6000\n",
      "  In burn-in: False\n",
      "  Adapting: True\n",
      "  Acceptance rate: 0.135240211052\n",
      "Iteration 3650 of 6000\n",
      "  In burn-in: False\n",
      "  Adapting: True\n",
      "  Acceptance rate: 0.137222678718\n",
      "Iteration 3700 of 6000\n",
      "  In burn-in: False\n",
      "  Adapting: True\n",
      "  Acceptance rate: 0.14023236963\n",
      "Iteration 3750 of 6000\n",
      "  In burn-in: False\n",
      "  Adapting: True\n",
      "  Acceptance rate: 0.145561183684\n",
      "Iteration 3800 of 6000\n",
      "  In burn-in: False\n",
      "  Adapting: True\n",
      "  Acceptance rate: 0.150486714023\n",
      "Iteration 3850 of 6000\n",
      "  In burn-in: False\n",
      "  Adapting: True\n",
      "  Acceptance rate: 0.153726304856\n",
      "Iteration 3900 of 6000\n",
      "  In burn-in: False\n",
      "  Adapting: True\n",
      "  Acceptance rate: 0.157139195078\n",
      "Iteration 3950 of 6000\n",
      "  In burn-in: False\n",
      "  Adapting: True\n",
      "  Acceptance rate: 0.158440901038\n",
      "Iteration 4000 of 6000\n",
      "  In burn-in: False\n",
      "  Adapting: True\n",
      "  Acceptance rate: 0.161959510122\n",
      "Iteration 4050 of 6000\n",
      "  In burn-in: False\n",
      "  Adapting: True\n",
      "  Acceptance rate: 0.163663293014\n",
      "Iteration 4100 of 6000\n",
      "  In burn-in: False\n",
      "  Adapting: True\n",
      "  Acceptance rate: 0.165813216289\n",
      "Iteration 4150 of 6000\n",
      "  In burn-in: False\n",
      "  Adapting: True\n",
      "  Acceptance rate: 0.168152252469\n",
      "Iteration 4200 of 6000\n",
      "  In burn-in: False\n",
      "  Adapting: True\n",
      "  Acceptance rate: 0.170435610569\n",
      "Iteration 4250 of 6000\n",
      "  In burn-in: False\n",
      "  Adapting: True\n",
      "  Acceptance rate: 0.171724300165\n",
      "Iteration 4300 of 6000\n",
      "  In burn-in: False\n",
      "  Adapting: True\n",
      "  Acceptance rate: 0.173215531272\n",
      "Iteration 4350 of 6000\n",
      "  In burn-in: False\n",
      "  Adapting: True\n",
      "  Acceptance rate: 0.175132153528\n",
      "Iteration 4400 of 6000\n",
      "  In burn-in: False\n",
      "  Adapting: True\n",
      "  Acceptance rate: 0.176778004999\n",
      "Iteration 4450 of 6000\n",
      "  In burn-in: False\n",
      "  Adapting: True\n",
      "  Acceptance rate: 0.179060885194\n",
      "Iteration 4500 of 6000\n",
      "  In burn-in: True\n",
      "  Adapting: True\n",
      "  Acceptance rate: 0.180626527438\n",
      "Iteration 4550 of 6000\n",
      "  In burn-in: True\n",
      "  Adapting: True\n",
      "  Acceptance rate: 0.182377499451\n",
      "Iteration 4600 of 6000\n",
      "  In burn-in: True\n",
      "  Adapting: True\n",
      "  Acceptance rate: 0.182786350793\n",
      "Iteration 4650 of 6000\n",
      "  In burn-in: True\n",
      "  Adapting: True\n",
      "  Acceptance rate: 0.182326381423\n",
      "Iteration 4700 of 6000\n",
      "  In burn-in: True\n",
      "  Adapting: True\n",
      "  Acceptance rate: 0.184428844927\n",
      "Iteration 4750 of 6000\n",
      "  In burn-in: True\n",
      "  Adapting: True\n",
      "  Acceptance rate: 0.186066091349\n",
      "Iteration 4800 of 6000\n",
      "  In burn-in: True\n",
      "  Adapting: True\n",
      "  Acceptance rate: 0.187252655697\n",
      "Iteration 4850 of 6000\n",
      "  In burn-in: True\n",
      "  Adapting: True\n",
      "  Acceptance rate: 0.18944547516\n",
      "Iteration 4900 of 6000\n",
      "  In burn-in: True\n",
      "  Adapting: True\n",
      "  Acceptance rate: 0.190369312385\n",
      "Iteration 4950 of 6000\n",
      "  In burn-in: True\n",
      "  Adapting: True\n",
      "  Acceptance rate: 0.192082407594\n",
      "Iteration 5000 of 6000\n",
      "  In burn-in: True\n",
      "  Adapting: True\n",
      "  Acceptance rate: 0.19176164767\n",
      "Iteration 5050 of 6000\n",
      "  In burn-in: True\n",
      "  Adapting: True\n",
      "  Acceptance rate: 0.19243714116\n",
      "Iteration 5100 of 6000\n",
      "  In burn-in: True\n",
      "  Adapting: True\n",
      "  Acceptance rate: 0.192903352284\n",
      "Iteration 5150 of 6000\n",
      "  In burn-in: True\n",
      "  Adapting: True\n",
      "  Acceptance rate: 0.194331197826\n",
      "Iteration 5200 of 6000\n",
      "  In burn-in: True\n",
      "  Adapting: True\n",
      "  Acceptance rate: 0.195539319362\n",
      "Iteration 5250 of 6000\n",
      "  In burn-in: True\n",
      "  Adapting: True\n",
      "  Acceptance rate: 0.196153113693\n",
      "Iteration 5300 of 6000\n",
      "  In burn-in: True\n",
      "  Adapting: True\n",
      "  Acceptance rate: 0.196189398227\n",
      "Iteration 5350 of 6000\n",
      "  In burn-in: True\n",
      "  Adapting: True\n",
      "  Acceptance rate: 0.197720052327\n",
      "Iteration 5400 of 6000\n",
      "  In burn-in: True\n",
      "  Adapting: True\n",
      "  Acceptance rate: 0.198852064433\n",
      "Iteration 5450 of 6000\n",
      "  In burn-in: True\n",
      "  Adapting: True\n",
      "  Acceptance rate: 0.199596404329\n",
      "Iteration 5500 of 6000\n",
      "  In burn-in: True\n",
      "  Adapting: True\n",
      "  Acceptance rate: 0.200508998364\n",
      "Iteration 5550 of 6000\n",
      "  In burn-in: True\n",
      "  Adapting: True\n",
      "  Acceptance rate: 0.200324265898\n",
      "Iteration 5600 of 6000\n",
      "  In burn-in: True\n",
      "  Adapting: True\n",
      "  Acceptance rate: 0.20103552937\n",
      "Iteration 5650 of 6000\n",
      "  In burn-in: True\n",
      "  Adapting: True\n",
      "  Acceptance rate: 0.201911166165\n",
      "Iteration 5700 of 6000\n",
      "  In burn-in: True\n",
      "  Adapting: True\n",
      "  Acceptance rate: 0.201543588844\n",
      "Iteration 5750 of 6000\n",
      "  In burn-in: True\n",
      "  Adapting: True\n",
      "  Acceptance rate: 0.201356285863\n",
      "Iteration 5800 of 6000\n",
      "  In burn-in: True\n",
      "  Adapting: True\n",
      "  Acceptance rate: 0.202206516118\n",
      "Iteration 5850 of 6000\n",
      "  In burn-in: True\n",
      "  Adapting: True\n",
      "  Acceptance rate: 0.202358571184\n",
      "Iteration 5900 of 6000\n",
      "  In burn-in: True\n",
      "  Adapting: True\n",
      "  Acceptance rate: 0.202508049483\n",
      "Iteration 5950 of 6000\n",
      "  In burn-in: True\n",
      "  Adapting: True\n",
      "  Acceptance rate: 0.203327171904\n"
     ]
    }
   ],
   "source": [
    "x0 = np.array(true_parameters) * 1.1\n",
    "chain = pints.adaptive_covariance_mcmc(log_likelihood, x0)\n"
   ]
  },
  {
   "cell_type": "markdown",
   "metadata": {},
   "source": [
    "Now we can plot samples from the resulting markov chains to approximate the distributions of the parameters:"
   ]
  },
  {
   "cell_type": "code",
   "execution_count": 16,
   "metadata": {},
   "outputs": [
    {
     "data": {
      "image/png": "[encoded data removed]",
      "text/plain": [
       "<matplotlib.figure.Figure at 0x7f793c972d50>"
      ]
     },
     "metadata": {},
     "output_type": "display_data"
    }
   ],
   "source": [
    "pl.figure(figsize=(14, 9))\n",
    "for i, real in enumerate(true_parameters):\n",
    "    \n",
    "    # Add subplot\n",
    "    pl.subplot(len(true_parameters), 1, 1+i)\n",
    "    pl.xlabel('Parameter ' + str(i + 1))\n",
    "    \n",
    "    # Show true value\n",
    "    pl.axvline(real)\n",
    "    \n",
    "    # Show histogram of chain\n",
    "    pl.hist(chain[:,i], label='p' + str(i + 1), bins=40, color='green', alpha=0.5)\n",
    "    \n",
    "    # Center plot around mean of chain\n",
    "    mu = np.mean(chain[:,i])\n",
    "    sigma = np.std(chain[:,i])\n",
    "    pl.xlim(mu - 3 * sigma, mu + 3 * sigma)\n",
    "\n",
    "# Show where the sample standard deviation of the generated noise is:\n",
    "noise_sample_mean = np.mean(values - org_values)\n",
    "noise_sample_std = np.std(values - org_values)\n",
    "pl.axvline(noise_sample_std, color='orange')\n",
    "\n",
    "# Finalise plot\n",
    "pl.tight_layout()\n",
    "pl.show()"
   ]
  },
  {
   "cell_type": "markdown",
   "metadata": {},
   "source": [
    "As these plots show, we came pretty close to the original \"true\" values (represented by the blue line).\n",
    "\n",
    "But not exactly... Worse, the method seems to suggest a normal distribution but around the wrong point.\n",
    "\n",
    "To find out what's going on, we can plot the log-likelihood function near the true parameters:"
   ]
  },
  {
   "cell_type": "code",
   "execution_count": 17,
   "metadata": {},
   "outputs": [
    {
     "data": {
      "image/png": "[encoded data removed]",
      "text/plain": [
       "<matplotlib.figure.Figure at 0x7f793c9e3fd0>"
      ]
     },
     "metadata": {},
     "output_type": "display_data"
    }
   ],
   "source": [
    "# Plot log-likelihood function\n",
    "pl.figure(figsize=(14, 9))\n",
    "for i, p in enumerate(true_parameters):\n",
    "    \n",
    "    # Add subplot\n",
    "    pl.subplot(len(true_parameters), 1, 1 + i)\n",
    "    pl.xlabel('Parameter ' + str(i + 1))\n",
    "    \n",
    "    # Generate some x-values near the true parameter\n",
    "    if i + 1 == len(true_parameters):\n",
    "        # Noise plot: special case\n",
    "        # First, add a line showing the sample standard deviation of the\n",
    "        # generated noise\n",
    "        pl.axvline(noise_sample_std, color='orange', label='Sample std.')\n",
    "    \n",
    "        # Next, choose a wide range of parameters so we can see the peak of the\n",
    "        # log-likelihood curve\n",
    "        xmin = min([p*0.95, noise_sample_std*0.95])\n",
    "        xmax = max([p*1.05, noise_sample_std*1.05])\n",
    "    else:\n",
    "        # Choose same limits as histogram (see below)\n",
    "        mu = np.mean(chain[:,i])\n",
    "        sigma = np.std(chain[:,i])\n",
    "        xmin = mu - 3 * sigma\n",
    "        xmax = mu + 3 * sigma\n",
    "    \n",
    "    x = np.linspace(xmin, xmax, 100)\n",
    "    \n",
    "    # Calculate log-likelihood with other parameters fixed\n",
    "    y = [log_likelihood(list(true_parameters[:i]) + [j]\n",
    "        + list(true_parameters[1+i:])) for j in x]\n",
    "    \n",
    "    # Plot\n",
    "    pl.plot(x, y, color='green', label='Log-likelihood')\n",
    "    pl.axvline(p, color='blue', label='True value')\n",
    "    pl.legend()\n",
    "\n",
    "pl.tight_layout()\n",
    "pl.show()"
   ]
  },
  {
   "cell_type": "markdown",
   "metadata": {},
   "source": [
    "As this plot (created entirely without MCMC!) shows, the MCMC method did well, but our estimate of the true parameters has become _biased_ by the stochastic noise! You can test this by increasing the number of sample points, which increases the size of the noise sample, and reduces the bias."
   ]
  }
 ],
 "metadata": {
  "kernelspec": {
   "display_name": "Python 2",
   "language": "python",
   "name": "python2"
  },
  "language_info": {
   "codemirror_mode": {
    "name": "ipython",
    "version": 2
   },
   "file_extension": ".py",
   "mimetype": "text/x-python",
   "name": "python",
   "nbconvert_exporter": "python",
   "pygments_lexer": "ipython2",
   "version": "2.7.14"
  }
 },
 "nbformat": 4,
 "nbformat_minor": 2
}
