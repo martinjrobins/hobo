{
 "cells": [
  {
   "cell_type": "markdown",
   "metadata": {},
   "source": [
    "# Optimisation: CMA-ES\n",
    "\n",
    "This example shows you how to run a global optimisation with CMA-ES.\n",
    "\n",
    "For CMA-ES, see:\n",
    "* https://www.lri.fr/~hansen/cmaesintro.html\n",
    "* https://doi.org/10.1162/106365603321828970\n",
    "\n",
    "For a more elaborate example of an optimisation, see: https://github.com/martinjrobins/pints/blob/master/examples/optimisation-first-example.ipynb\n"
   ]
  },
  {
   "cell_type": "code",
   "execution_count": 2,
   "metadata": {},
   "outputs": [
    {
     "name": "stdout",
     "output_type": "stream",
     "text": [
      "Run 1: population size 8\n",
      "(4_w,8)-aCMA-ES (mu_w=2.6,w_1=52%) in dimension 2 (seed=248458, Mon Nov 20 19:56:02 2017)\n",
      "Iterat #Fevals   function value  axis ratio  sigma  min&max std  t[m:s]\n",
      "    1      8 1.623156074793169e+01 1.0e+00 1.25e-04  1e-04  2e-04 0:00.0\n",
      "    2     16 4.355276108708401e+02 1.8e+00 1.04e-04  6e-05  1e-04 0:00.0\n",
      "    3     24 3.148022394060700e+01 2.4e+00 1.33e-04  6e-05  2e-04 0:00.0\n",
      "   73    584 4.286284523429562e-16 3.6e+04 1.51e-08  3e-14  9e-10 0:00.3\n",
      "termination on tolfun=1e-11\n",
      "final/bestever f-value = 4.286285e-16 2.928248e-16\n",
      "incumbent solution: [0.015000000000017652, 499.99999999987654]\n",
      "std deviation: [3.2867928987601376e-14, 8.5970805684132528e-10]\n",
      "Score at true solution: \n",
      "0.0\n",
      "Found solution:          True parameters:\n",
      " 1.50000000000286501e-02     1.49999999999999994e-02\n",
      " 4.99999999999879208e+02     5.00000000000000000e+02\n"
     ]
    }
   ],
   "source": [
    "from __future__ import print_function\n",
    "import pints\n",
    "import pints.toy as toy\n",
    "import numpy as np\n",
    "import matplotlib.pyplot as pl\n",
    "\n",
    "# Load a forward model\n",
    "model = toy.LogisticModel()\n",
    "\n",
    "# Create some toy data\n",
    "real_parameters = [0.015, 500]\n",
    "times = np.linspace(0, 1000, 1000)\n",
    "values = model.simulate(real_parameters, times)\n",
    "\n",
    "# Create an object with links to the model and time series\n",
    "problem = pints.SingleSeriesProblem(model, times, values)\n",
    "\n",
    "# Select a score function\n",
    "score = pints.SumOfSquaresError(problem)\n",
    "\n",
    "# Select some boundaries\n",
    "boundaries = pints.Boundaries([0, 400], [0.03, 600])\n",
    "\n",
    "# Perform an optimization with boundaries and hints\n",
    "x0 = 0.015, 500\n",
    "sigma0 = [0.0001, 0.01]\n",
    "found_parameters, found_value = pints.cmaes(\n",
    "    score,\n",
    "    boundaries,\n",
    "    x0,\n",
    "    sigma0,\n",
    "    )\n",
    "\n",
    "print('Score at true solution: ')\n",
    "print(score(real_parameters))\n",
    "\n",
    "print('Found solution:          True parameters:' )\n",
    "for k, x in enumerate(found_parameters):\n",
    "    print(pints.strfloat(x) + '    ' + pints.strfloat(real_parameters[k]))"
   ]
  }
 ],
 "metadata": {
  "kernelspec": {
   "display_name": "Python 2",
   "language": "python",
   "name": "python2"
  },
  "language_info": {
   "codemirror_mode": {
    "name": "ipython",
    "version": 2
   },
   "file_extension": ".py",
   "mimetype": "text/x-python",
   "name": "python",
   "nbconvert_exporter": "python",
   "pygments_lexer": "ipython2",
   "version": "2.7.14"
  }
 },
 "nbformat": 4,
 "nbformat_minor": 2
}
