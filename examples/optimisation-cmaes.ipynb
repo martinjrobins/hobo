{
 "cells": [
  {
   "cell_type": "markdown",
   "metadata": {},
   "source": [
    "# Optimisation: CMA-ES\n",
    "\n",
    "This example shows you how to run a global optimisation with [CMA-ES](http://pints.readthedocs.io/en/latest/optimisers/cmaes.html).\n",
    "\n",
    "For a more elaborate example of an optimisation, see: https://github.com/martinjrobins/pints/blob/master/examples/optimisation-first-example.ipynb"
   ]
  },
  {
   "cell_type": "code",
   "execution_count": 1,
   "metadata": {},
   "outputs": [
    {
     "name": "stdout",
     "output_type": "stream",
     "text": [
      "Run 1: population size 8\n",
      "(4_w,8)-aCMA-ES (mu_w=2.6,w_1=52%) in dimension 2 (seed=310125, Mon Nov 20 20:25:28 2017)\n",
      "Iterat #Fevals   function value  axis ratio  sigma  min&max std  t[m:s]\n",
      "    1      8 3.474050426364623e+06 1.0e+00 8.64e-03  7e-03  8e-03 0:00.0\n",
      "    2     16 1.141223424307766e+06 1.2e+00 7.87e-03  6e-03  7e-03 0:00.0\n",
      "    3     24 1.301631144479025e+06 1.1e+00 5.86e-03  4e-03  5e-03 0:00.0\n",
      "  100    800 6.727282594079140e-10 2.6e+04 2.10e-04  1e-10  2e-06 0:00.4\n",
      "  127   1016 2.886226535029523e-16 3.7e+04 5.32e-06  9e-14  3e-09 0:00.5\n",
      "termination on tolfun=1e-11\n",
      "final/bestever f-value = 2.886227e-16 2.886227e-16\n",
      "incumbent solution: [0.014999999999972223, 499.9999999998571]\n",
      "std deviation: [8.8729490117461712e-14, 3.1727853172695438e-09]\n",
      "Score at true solution: \n",
      "0.0\n",
      "Found solution:          True parameters:\n",
      " 1.49999999999708075e-02     1.49999999999999994e-02\n",
      " 5.00000000000299508e+02     5.00000000000000000e+02\n"
     ]
    }
   ],
   "source": [
    "from __future__ import print_function\n",
    "import pints\n",
    "import pints.toy as toy\n",
    "import numpy as np\n",
    "import matplotlib.pyplot as pl\n",
    "\n",
    "# Load a forward model\n",
    "model = toy.LogisticModel()\n",
    "\n",
    "# Create some toy data\n",
    "real_parameters = [0.015, 500]\n",
    "times = np.linspace(0, 1000, 1000)\n",
    "values = model.simulate(real_parameters, times)\n",
    "\n",
    "# Create an object with links to the model and time series\n",
    "problem = pints.SingleSeriesProblem(model, times, values)\n",
    "\n",
    "# Select a score function\n",
    "score = pints.SumOfSquaresError(problem)\n",
    "\n",
    "# Select some boundaries\n",
    "boundaries = pints.Boundaries([0, 400], [0.03, 600])\n",
    "\n",
    "# Perform an optimization with boundaries and hints\n",
    "x0 = 0.01, 450\n",
    "sigma0 = [0.01, 100]\n",
    "found_parameters, found_value = pints.cmaes(\n",
    "    score,\n",
    "    boundaries,\n",
    "    x0,\n",
    "    sigma0,\n",
    "    )\n",
    "\n",
    "print('Score at true solution: ')\n",
    "print(score(real_parameters))\n",
    "\n",
    "print('Found solution:          True parameters:' )\n",
    "for k, x in enumerate(found_parameters):\n",
    "    print(pints.strfloat(x) + '    ' + pints.strfloat(real_parameters[k]))"
   ]
  }
 ],
 "metadata": {
  "kernelspec": {
   "display_name": "Python 2",
   "language": "python",
   "name": "python2"
  },
  "language_info": {
   "codemirror_mode": {
    "name": "ipython",
    "version": 2
   },
   "file_extension": ".py",
   "mimetype": "text/x-python",
   "name": "python",
   "nbconvert_exporter": "python",
   "pygments_lexer": "ipython2",
   "version": "2.7.14"
  }
 },
 "nbformat": 4,
 "nbformat_minor": 2
}
