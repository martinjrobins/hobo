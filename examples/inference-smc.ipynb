{
 "cells": [
  {
   "cell_type": "markdown",
   "metadata": {},
   "source": [
    "# Inference: SMC\n",
    "\n",
    "This example shows you how to perform Bayesian inference on a time series, using SMC implemented in PyMC3 and Theano.\n",
    "\n",
    "SMC:\n",
    "* https://doi.org/10.1061/(ASCE)0733-9399(2007)133:7(816)\n",
    "\n",
    "PyMC3:\n",
    "* http://doi.org/10.18637/jss.v035.i04\n",
    "\n",
    "Theano:\n",
    "* http://citeseerx.ist.psu.edu/viewdoc/summary?doi=10.1.1.691.4524"
   ]
  },
  {
   "cell_type": "code",
   "execution_count": 1,
   "metadata": {
    "scrolled": true
   },
   "outputs": [
    {
     "name": "stderr",
     "output_type": "stream",
     "text": [
      "/home/scratch/anaconda3/envs/py2/lib/python2.7/site-packages/pymc3/step_methods/smc.py:480: UserWarning: Warning: SMC is an experimental step method, and not yet recommended for use in PyMC3!\n",
      "  warnings.warn(EXPERIMENTAL_WARNING)\n",
      "Argument `step` is None. Auto-initialising step object using given/default parameters.\n",
      "/home/scratch/anaconda3/envs/py2/lib/python2.7/site-packages/pymc3/step_methods/smc.py:120: UserWarning: Warning: SMC is an experimental step method, and not yet recommended for use in PyMC3!\n",
      "  warnings.warn(EXPERIMENTAL_WARNING)\n",
      "Adding model likelihood to RVs!\n",
      "Init new trace!\n",
      "Sample initial stage: ...\n",
      "Beta: 0.000000 Stage: 0\n",
      "Initialising chain traces ...\n",
      "Sampling ...\n",
      "Beta: 0.000001 Stage: 1\n",
      "Initialising chain traces ...\n",
      "Sampling ...\n",
      "Beta: 0.000004 Stage: 2\n",
      "Initialising chain traces ...\n",
      "Sampling ...\n",
      "Beta: 0.000016 Stage: 3\n",
      "Initialising chain traces ...\n",
      "Sampling ...\n",
      "Beta: 0.000034 Stage: 4\n",
      "Initialising chain traces ...\n",
      "Sampling ...\n",
      "Beta: 0.000070 Stage: 5\n",
      "Initialising chain traces ...\n",
      "Sampling ...\n",
      "Beta: 0.000145 Stage: 6\n",
      "Initialising chain traces ...\n",
      "Sampling ...\n",
      "Beta: 0.000348 Stage: 7\n",
      "Initialising chain traces ...\n",
      "Sampling ...\n",
      "Beta: 0.000879 Stage: 8\n",
      "Initialising chain traces ...\n",
      "Sampling ...\n",
      "Beta: 0.002152 Stage: 9\n",
      "Initialising chain traces ...\n",
      "Sampling ...\n",
      "Beta: 0.005508 Stage: 10\n",
      "Initialising chain traces ...\n",
      "Sampling ...\n",
      "Beta: 0.014403 Stage: 11\n",
      "Initialising chain traces ...\n",
      "Sampling ...\n",
      "Beta: 0.037108 Stage: 12\n",
      "Initialising chain traces ...\n",
      "Sampling ...\n",
      "Beta: 0.090133 Stage: 13\n",
      "Initialising chain traces ...\n",
      "Sampling ...\n",
      "Beta: 0.224042 Stage: 14\n",
      "Initialising chain traces ...\n",
      "Sampling ...\n",
      "Beta: 0.671284 Stage: 15\n",
      "Initialising chain traces ...\n",
      "Sampling ...\n",
      "Beta > 1.: 1.725244\n",
      "Sample final stage\n",
      "Initialising chain traces ...\n",
      "Sampling ...\n"
     ]
    }
   ],
   "source": [
    "from __future__ import print_function\n",
    "import pints\n",
    "reload(pints)\n",
    "import pints.toy as toy\n",
    "import numpy as np\n",
    "import matplotlib.pyplot as pl\n",
    "\n",
    "# Load a forward model\n",
    "model = toy.LogisticModel()\n",
    "\n",
    "# Create some toy data\n",
    "real_parameters = [0.015, 500]\n",
    "times = np.linspace(0, 1000, 100000)\n",
    "org_values = model.simulate(real_parameters, times)\n",
    "\n",
    "# Add noise\n",
    "noise = 10\n",
    "values = org_values + np.random.normal(0, noise, org_values.shape)\n",
    "real_parameters = np.array(real_parameters + [noise])\n",
    "\n",
    "# Get properties of the noise sample\n",
    "noise_sample_mean = np.mean(values - org_values)\n",
    "noise_sample_std = np.std(values - org_values)\n",
    "\n",
    "# Create an object with links to the model and time series\n",
    "problem = pints.SingleSeriesProblem(model, times, values)\n",
    "\n",
    "# Create a log-likelihood function (adds an extra parameter!)\n",
    "log_likelihood = pints.UnknownNoiseLogLikelihood(problem)\n",
    "\n",
    "# Create a uniform prior over both the parameters and the new noise variable\n",
    "prior = pints.UniformPrior(\n",
    "    [0.01, 400, noise*0.1],\n",
    "    [0.02, 600, noise*100]\n",
    "    )\n",
    "\n",
    "# Create a Bayesian log-likelihood (prior * likelihood)\n",
    "log_likelihood = pints.BayesianLogLikelihood(prior, log_likelihood)\n",
    "\n",
    "# Run a simple adaptive mcmc routine\n",
    "x0 = real_parameters * 1.1\n",
    "smc = pints.SMC(log_likelihood, x0)\n",
    "chain = smc.run()\n"
   ]
  },
  {
   "cell_type": "code",
   "execution_count": 2,
   "metadata": {},
   "outputs": [
    {
     "name": "stdout",
     "output_type": "stream",
     "text": [
      "4.00946540692e-10\n"
     ]
    }
   ],
   "source": [
    "# Get marginal likelihood\n",
    "print(smc.marginal_likelihood())"
   ]
  },
  {
   "cell_type": "code",
   "execution_count": 3,
   "metadata": {},
   "outputs": [
    {
     "data": {
      "image/png": "[encoded data removed]",
      "text/plain": [
       "<matplotlib.figure.Figure at 0x7f1675770e50>"
      ]
     },
     "metadata": {},
     "output_type": "display_data"
    }
   ],
   "source": [
    "# Plot output\n",
    "pl.figure(figsize=(14, 9))\n",
    "for i, real in enumerate(real_parameters):\n",
    "    \n",
    "    # Add subplot\n",
    "    pl.subplot(len(real_parameters), 1, 1+i)\n",
    "    pl.xlabel('Parameter ' + str(i + 1))\n",
    "    \n",
    "    # Show true value\n",
    "    pl.axvline(real)\n",
    "    \n",
    "    # Show histogram of chain\n",
    "    pl.hist(chain[:,i], label='p' + str(i + 1), bins=40, color='green',\n",
    "        alpha=0.5)\n",
    "    \n",
    "    # Center plot around mean of chain\n",
    "    mu = np.mean(chain[:,i])\n",
    "    sigma = np.std(chain[:,i])\n",
    "    pl.xlim(mu - 3 * sigma, mu + 3 * sigma)\n",
    "\n",
    "pl.show()"
   ]
  }
 ],
 "metadata": {
  "kernelspec": {
   "display_name": "Python 2",
   "language": "python",
   "name": "python2"
  },
  "language_info": {
   "codemirror_mode": {
    "name": "ipython",
    "version": 2
   },
   "file_extension": ".py",
   "mimetype": "text/x-python",
   "name": "python",
   "nbconvert_exporter": "python",
   "pygments_lexer": "ipython2",
   "version": "2.7.14"
  }
 },
 "nbformat": 4,
 "nbformat_minor": 2
}
