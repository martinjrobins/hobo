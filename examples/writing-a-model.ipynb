{
 "cells": [
  {
   "cell_type": "markdown",
   "metadata": {},
   "source": [
    "# Writing a model\n",
    "\n",
    "This example shows you how to write models (or model wrappers) that can be used with Pints.\n",
    "\n",
    "Pints is intended to work with a wide range of models, and assumes as little as possible about the model's form.\n",
    "Specifically, a \"model\" in Pints is anything that implements the [ForwardModel interface](http://pints.readthedocs.io/en/latest/core_classes_and_methods.html#forward-model).\n",
    "In other words, it's anything that can take a parameter vector $(\\boldsymbol{\\theta})$ and a sequence of times $(\\mathbf{t})$ as an input, and then return a vector of simulated values $(\\mathbf{y})$:\n",
    "\n",
    "$$f(\\boldsymbol{\\theta}, \\mathbf{t}) \\rightarrow \\mathbf{y}$$\n",
    "\n",
    "This might not match well with other ideas of a \"model\".\n",
    "For example, if you're modelling something using ODEs, Pints will regard the combination of the ODEs _and an ODE solver_ as a \"forward model\".\n",
    "\n",
    "In the example below, we define a system of ODEs (modelling a simple chemical reaction) and use [SciPy](https://docs.scipy.org/doc/scipy/reference/generated/scipy.integrate.odeint.html) to solve it.\n",
    "We then wrap everything in a `pints.ForwardModel` class, and use a Pints optimisation to find the best matching parameters."
   ]
  },
  {
   "cell_type": "markdown",
   "metadata": {},
   "source": [
    "## A system of ODEs\n",
    "\n",
    "First, we define a function $r(y, t) \\rightarrow \\dot{y}(t)$, define an initial condition and use SciPy to solve this ODE.\n",
    "\n",
    "Here is an example of an ODE,\n",
    "\n",
    "$$\\dot{y}(t) = k_1 (1 - y) - k_2 y,$$\n",
    "\n",
    "where $k_1$ represents the rate of a forward reaction equation and $k_2$ is the rate of a backward reaction equation.\n",
    "\n",
    "which we will show how to wrap it in the `pints.ForwardModel` class."
   ]
  },
  {
   "cell_type": "code",
   "execution_count": 1,
   "metadata": {},
   "outputs": [
    {
     "data": {
      "image/png": "[encoded data removed]",
      "text/plain": [
       "<matplotlib.figure.Figure at 0x10e38d990>"
      ]
     },
     "metadata": {},
     "output_type": "display_data"
    }
   ],
   "source": [
    "from __future__ import print_function\n",
    "import numpy as np\n",
    "import matplotlib.pyplot as pl\n",
    "from scipy.integrate import odeint\n",
    "\n",
    "# Define the right-hand side of a system of ODEs\n",
    "def r(y, t, p):\n",
    "    k1 = p[0] # Forward reaction rate\n",
    "    k2 = p[1] # Backward reaction rate\n",
    "    dydt = k1 * (1 - y) - k2 * y\n",
    "    return dydt\n",
    "\n",
    "# Run an example simulation\n",
    "p = [5, 3]    # parameters\n",
    "y0 = 0.1      # initial conditions\n",
    "\n",
    "# Call odeint, with the parameters wrapped in a tuple\n",
    "times = np.linspace(0, 1, 1000)\n",
    "values = odeint(r, y0, times, (p,))\n",
    "\n",
    "# Reshape odeint's (1000x1) output to (1000,)\n",
    "values = values.reshape((1000,))\n",
    "\n",
    "# Plot the results\n",
    "pl.figure()\n",
    "pl.xlabel('Time')\n",
    "pl.ylabel('Values')\n",
    "pl.plot(times, values)\n",
    "pl.show()"
   ]
  },
  {
   "cell_type": "markdown",
   "metadata": {},
   "source": [
    "## A system of ODEs with a Pints wrapper\n",
    "\n",
    "Now we'll wrap the model of interest in something that extends the `pints.ForwardModel` class.\n",
    "\n",
    "It should have two methods: \n",
    "* one that runs simulations, and \n",
    "* one that tells Pints what the dimension of the model's parameter vector is."
   ]
  },
  {
   "cell_type": "code",
   "execution_count": 3,
   "metadata": {
    "collapsed": true
   },
   "outputs": [],
   "source": [
    "import pints\n",
    "\n",
    "class ExampleModel(pints.ForwardModel):\n",
    "    \n",
    "    def simulate(self, parameters, times):\n",
    "        # Run a simulation with the given parameters for the\n",
    "        # given times and return the simulated values\n",
    "        y0 = 0.1\n",
    "        def r(y, t, p):\n",
    "            dydt = (1 - y) * p[0] - y * p[1]\n",
    "            return dydt\n",
    "        return odeint(r, y0, times, (parameters,)).reshape(times.shape)\n",
    "    \n",
    "    def dimension(self):\n",
    "        # Return the dimension of the parameter vector\n",
    "        return 2\n",
    "\n",
    "\n",
    "# Then create an instance of our new model class\n",
    "model = ExampleModel()\n"
   ]
  },
  {
   "cell_type": "markdown",
   "metadata": {},
   "source": [
    "That's it! We can now do everything with Pints.\n",
    "\n",
    "## A quick check of the model\n",
    "\n",
    "After creating the model using the Pints wrapper, the first thing to do is to make sure it is doing the right sort of things.\n"
   ]
  },
  {
   "cell_type": "code",
   "execution_count": 4,
   "metadata": {},
   "outputs": [
    {
     "data": {
      "image/png": "[encoded data removed]",
      "text/plain": [
       "<matplotlib.figure.Figure at 0x10c60f710>"
      ]
     },
     "metadata": {},
     "output_type": "display_data"
    }
   ],
   "source": [
    "# Run again the simulation using our new model wrapper\n",
    "values = model.simulate([5, 3], times)\n",
    "\n",
    "# Plot the results to make sure they match\n",
    "pl.figure()\n",
    "pl.xlabel('Time')\n",
    "pl.ylabel('Values')\n",
    "pl.plot(times, values)\n",
    "pl.show()"
   ]
  },
  {
   "cell_type": "markdown",
   "metadata": {},
   "source": [
    "## An optimisation problem\n",
    "\n",
    "Using this model, we can now set up an optimisation problem, and then solve it with Pints."
   ]
  },
  {
   "cell_type": "code",
   "execution_count": 7,
   "metadata": {},
   "outputs": [
    {
     "name": "stdout",
     "output_type": "stream",
     "text": [
      "Running in parallel mode with population size 24\n",
      "1: 0.617456381538\n",
      "2: 0.617456381538\n",
      "3: 0.617456381538\n",
      "20: 0.387559734496\n",
      "40: 0.387154561304\n",
      "60: 0.387154246946\n",
      "80: 0.38715424664\n",
      "100: 0.387154246636\n",
      "120: 0.387154246636\n",
      "140: 0.387154246635\n",
      "160: 0.387154246635\n",
      "Halting: No significant change for 100 iterations.\n",
      "172: 0.387154246635\n",
      "optimisation took 1.63544487953seconds on 2 x 2.93 GHz 6-Core Intel Xeon processor\n",
      "Score at true solution:\n",
      "0.388021694796\n",
      "Found solution:          True parameters:\n",
      " 4.95982112856206658e+00     5.00000000000000000e+00\n",
      " 2.98062048661011669e+00     3.00000000000000000e+00\n"
     ]
    },
    {
     "data": {
      "image/png": "[encoded data removed]",
      "text/plain": [
       "<matplotlib.figure.Figure at 0x10c60f710>"
      ]
     },
     "metadata": {},
     "output_type": "display_data"
    }
   ],
   "source": [
    "# Define the 'true' parameters\n",
    "true_parameters = [5, 3]\n",
    "\n",
    "# Run a simulation to get test data\n",
    "values = model.simulate(true_parameters, times)\n",
    "\n",
    "# Add some noise\n",
    "values += np.random.normal(0, 0.02, values.shape)\n",
    "\n",
    "# Create an object with links to the model and time series\n",
    "problem = pints.SingleSeriesProblem(model, times, values)\n",
    "\n",
    "# Select a score function\n",
    "score = pints.SumOfSquaresError(problem)\n",
    "\n",
    "# Select some boundaries\n",
    "boundaries = pints.Boundaries([0.1, 0.1], [10, 10])\n",
    "\n",
    "# Perform an optimization using SNES. \n",
    "# SNES stands for Seperable Natural Evolution Strategy, and is designed for non-linear derivative-free \n",
    "# optimization problems in high dimensions and with many local minima[1]. [1] doi: 10.1145/2001576.2001692.\n",
    "import time\n",
    "\n",
    "t0 = time.time()\n",
    "found_parameters, found_value = pints.snes(score, boundaries)\n",
    "t1 = time.time()\n",
    "print('optimisation took ' + str(t1 - t0) + 'seconds on 2 x 2.93 GHz 6-Core Intel Xeon processor')\n",
    "\n",
    "print('Score at true solution:')\n",
    "print(score(true_parameters))\n",
    "\n",
    "print('Found solution:          True parameters:' )\n",
    "for k, x in enumerate(found_parameters):\n",
    "    print(pints.strfloat(x) + '    ' + pints.strfloat(true_parameters[k]))\n",
    "\n",
    "# Plot the results\n",
    "pl.figure()\n",
    "pl.xlabel('Time')\n",
    "pl.ylabel('Values')\n",
    "pl.plot(times, values, alpha=0.5, label='noisy signal')\n",
    "pl.plot(times, problem.evaluate(found_parameters), label='recovered signal')\n",
    "pl.legend()\n",
    "pl.show()"
   ]
  },
  {
   "cell_type": "markdown",
   "metadata": {},
   "source": [
    "## ... more applications than this!\n",
    "\n",
    "With the model, Pints comes with a number of applications, see more [detailed examples](https://github.com/pints-team/pints/blob/master/examples/EXAMPLES.md)."
   ]
  }
 ],
 "metadata": {
  "kernelspec": {
   "display_name": "Python 2",
   "language": "python",
   "name": "python2"
  },
  "language_info": {
   "codemirror_mode": {
    "name": "ipython",
    "version": 2
   },
   "file_extension": ".py",
   "mimetype": "text/x-python",
   "name": "python",
   "nbconvert_exporter": "python",
   "pygments_lexer": "ipython2",
   "version": "2.7.14"
  }
 },
 "nbformat": 4,
 "nbformat_minor": 2
}
