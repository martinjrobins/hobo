{
 "cells": [
  {
   "cell_type": "markdown",
   "metadata": {},
   "source": [
    "# Writing a model\n",
    "\n",
    "This example shows you how to write models (or model wrappers) that can be used with Pints.\n",
    "\n",
    "Pints is intended to work with a wide range of models, and assumes as little as possible about the model's form.\n",
    "Specifically, a \"model\" in Pints is anything that implements the [ForwardModel interface](http://pints.readthedocs.io/en/latest/core_classes_and_methods.html#forward-model).\n",
    "In other words, it's anything that can take a parameter vector $(\\boldsymbol{\\theta})$ and a sequence of times $(\\mathbf{t})$ as an input, and then return a vector of simulated values $(\\mathbf{y})$:\n",
    "\n",
    "$$f(\\boldsymbol{\\theta}, \\mathbf{t}) \\rightarrow \\mathbf{y}$$\n",
    "\n",
    "This might not match well with other ideas of a \"model\".\n",
    "For example, if you're modelling something using ODEs, Pints will regard the combination of the ODEs _and an ODE solver_ as a \"forward model\".\n",
    "\n",
    "In the example below, we define a system of ODEs (modelling a simple chemical reaction) and use [SciPy](https://docs.scipy.org/doc/scipy/reference/generated/scipy.integrate.odeint.html) to solve it.\n",
    "We then wrap everything in a `pints.ForwardModel` class, and use a Pints optimisation to find the best matching parameters."
   ]
  },
  {
   "cell_type": "markdown",
   "metadata": {},
   "source": [
    "## Solving a system of ODEs\n",
    "\n",
    "First, we define an ODE. In this example we'll use a model of a reversible chemical reaction:\n",
    "\n",
    "$$\\dot{y}(t) = k_1 (1 - y) - k_2 y,$$\n",
    "\n",
    "where $k_1$ represents a forward reaction rate, $k_2$ is the backward reaction rate, and $y$ represents the concentration of a chemical solute.\n",
    "\n",
    "Next, we write a Python function `r` that represents the right-hand side of this ODE, choose a set of parameters and initial conditions, and solve using SciPy."
   ]
  },
  {
   "cell_type": "code",
   "execution_count": 3,
   "metadata": {},
   "outputs": [
    {
     "data": {
      "image/png": "[encoded data removed]",
      "text/plain": [
       "<matplotlib.figure.Figure at 0x7f43ce07a470>"
      ]
     },
     "metadata": {},
     "output_type": "display_data"
    }
   ],
   "source": [
    "from __future__ import print_function\n",
    "import numpy as np\n",
    "import matplotlib.pyplot as plt\n",
    "from scipy.integrate import odeint\n",
    "\n",
    "# Define the right-hand side of a system of ODEs\n",
    "def r(y, t, p):\n",
    "    k1 = p[0] # Forward reaction rate\n",
    "    k2 = p[1] # Backward reaction rate\n",
    "    dydt = k1 * (1 - y) - k2 * y\n",
    "    return dydt\n",
    "\n",
    "# Run an example simulation\n",
    "p = [5, 3]    # parameters\n",
    "y0 = 0.1      # initial conditions\n",
    "\n",
    "# Call odeint, with the parameters wrapped in a tuple\n",
    "times = np.linspace(0, 1, 1000)\n",
    "values = odeint(r, y0, times, (p,))\n",
    "\n",
    "# Reshape odeint's (1000x1) output to (1000,)\n",
    "values = values.reshape((1000,))\n",
    "\n",
    "# Plot the results\n",
    "plt.figure()\n",
    "plt.xlabel('Time')\n",
    "plt.ylabel('Concentration')\n",
    "plt.plot(times, values)\n",
    "plt.show()"
   ]
  },
  {
   "cell_type": "markdown",
   "metadata": {},
   "source": [
    "## Writing a wrapper class for Pints\n",
    "\n",
    "Now we'll wrap the model in a class that extends `pints.ForwardModel`.\n",
    "\n",
    "It should have two methods: one that runs simulations, and one that tells Pints what the dimension of the model's parameter vector is."
   ]
  },
  {
   "cell_type": "code",
   "execution_count": 4,
   "metadata": {},
   "outputs": [],
   "source": [
    "import pints\n",
    "\n",
    "class ExampleModel(pints.ForwardModel):\n",
    "    \n",
    "    def simulate(self, parameters, times):\n",
    "        # Run a simulation with the given parameters for the\n",
    "        # given times and return the simulated values\n",
    "        y0 = 0.1\n",
    "        def r(y, t, p):\n",
    "            dydt = (1 - y) * p[0] - y * p[1]\n",
    "            return dydt\n",
    "        return odeint(r, y0, times, (parameters,)).reshape(times.shape)\n",
    "    \n",
    "    def dimension(self):\n",
    "        # Return the dimension of the parameter vector\n",
    "        return 2\n",
    "\n",
    "\n",
    "# Then create an instance of our new model class\n",
    "model = ExampleModel()"
   ]
  },
  {
   "cell_type": "markdown",
   "metadata": {},
   "source": [
    "We can now use this model class to run simulations:"
   ]
  },
  {
   "cell_type": "code",
   "execution_count": 5,
   "metadata": {},
   "outputs": [
    {
     "data": {
      "image/png": "[encoded data removed]",
      "text/plain": [
       "<matplotlib.figure.Figure at 0x7f43f40fda20>"
      ]
     },
     "metadata": {},
     "output_type": "display_data"
    }
   ],
   "source": [
    "# Run the same simulation using our new model wrapper\n",
    "values = model.simulate([5, 3], times)\n",
    "\n",
    "# Plot the results\n",
    "plt.figure()\n",
    "plt.xlabel('Time')\n",
    "plt.ylabel('Concentration')\n",
    "plt.plot(times, values)\n",
    "plt.show()"
   ]
  },
  {
   "cell_type": "markdown",
   "metadata": {},
   "source": [
    "## Running an optimisation problem\n",
    "\n",
    "Now that our model implements the `pints.ForwardModel` interface, we can use it with Pints tools such as [optimisers](http://pints.readthedocs.io/en/latest/optimisers/index.html) or [MCMC](http://pints.readthedocs.io/en/latest/mcmc/index.html).\n",
    "\n",
    "In the example below, we use the model to generate test data, add some noise, and then define a score function that characterises the mismatch between model predictions and data. We then use the [SNES](http://pints.readthedocs.io/en/latest/mcmc/index.html) optimiser to estimate the model parameters from the data."
   ]
  },
  {
   "cell_type": "code",
   "execution_count": 6,
   "metadata": {},
   "outputs": [
    {
     "name": "stdout",
     "output_type": "stream",
     "text": [
      "Using Seperable Natural Evolution Strategy (SNES)\n",
      "Running in sequential mode.\n",
      "0: 23.8548494003\n",
      "1: 13.3506559589\n",
      "2: 6.57658696924\n",
      "3: 6.57658696924\n",
      "20: 0.390506439638\n",
      "40: 0.390506439638\n",
      "60: 0.390506439638\n",
      "80: 0.383616340709\n",
      "100: 0.364302629782\n",
      "120: 0.361448589527\n",
      "140: 0.361295737313\n",
      "160: 0.361270036467\n",
      "180: 0.361261346254\n",
      "200: 0.361248865294\n",
      "220: 0.361243941176\n",
      "240: 0.361243056086\n",
      "260: 0.361242817286\n",
      "280: 0.361242789749\n",
      "300: 0.361242784983\n",
      "320: 0.361242784342\n",
      "340: 0.361242784117\n",
      "360: 0.361242783996\n",
      "380: 0.361242783859\n",
      "400: 0.361242783748\n",
      "420: 0.361242783721\n",
      "440: 0.361242783709\n",
      "460: 0.361242783709\n",
      "480: 0.361242783707\n",
      "500: 0.361242783707\n",
      "520: 0.361242783707\n",
      "540: 0.361242783707\n",
      "560: 0.361242783707\n",
      "580: 0.361242783707\n",
      "600: 0.361242783707\n",
      "Halting: No significant change for 200 iterations.\n",
      "601: 0.361242783707\n",
      "Score at true solution:\n",
      "0.361520342055\n",
      "Found solution:          True parameters:\n",
      " 4.99205861617775604e+00     5.00000000000000000e+00\n",
      " 3.00210927933175364e+00     3.00000000000000000e+00\n"
     ]
    },
    {
     "data": {
      "image/png": "[encoded data removed]",
      "text/plain": [
       "<matplotlib.figure.Figure at 0x7f43cc70b048>"
      ]
     },
     "metadata": {},
     "output_type": "display_data"
    }
   ],
   "source": [
    "# Define the 'true' parameters\n",
    "true_parameters = [5, 3]\n",
    "\n",
    "# Run a simulation to get test data\n",
    "values = model.simulate(true_parameters, times)\n",
    "\n",
    "# Add some noise\n",
    "values += np.random.normal(0, 0.02, values.shape)\n",
    "\n",
    "# Create an object with links to the model and time series\n",
    "problem = pints.SingleSeriesProblem(model, times, values)\n",
    "\n",
    "# Select a score function\n",
    "score = pints.SumOfSquaresError(problem)\n",
    "\n",
    "# Select some boundaries\n",
    "boundaries = pints.Boundaries([0.1, 0.1], [10, 10])\n",
    "\n",
    "# Select a starting point\n",
    "x0 = [1, 1]\n",
    "\n",
    "# Perform an optimization using SNES (see docs linked above). \n",
    "found_parameters, found_value = pints.optimise(score, x0, boundaries=boundaries, method=pints.SNES)\n",
    "print('Score at true solution:')\n",
    "print(score(true_parameters))\n",
    "\n",
    "print('Found solution:          True parameters:' )\n",
    "for k, x in enumerate(found_parameters):\n",
    "    print(pints.strfloat(x) + '    ' + pints.strfloat(true_parameters[k]))\n",
    "\n",
    "# Plot the results\n",
    "plt.figure()\n",
    "plt.xlabel('Time')\n",
    "plt.ylabel('Concentration')\n",
    "plt.plot(times, values, alpha=0.5, label='noisy signal')\n",
    "plt.plot(times, problem.evaluate(found_parameters), label='recovered signal')\n",
    "plt.legend()\n",
    "plt.show()"
   ]
  }
 ],
 "metadata": {
  "kernelspec": {
   "display_name": "Python 2",
   "language": "python",
   "name": "python2"
  },
  "language_info": {
   "codemirror_mode": {
    "name": "ipython",
    "version": 3
   },
   "file_extension": ".py",
   "mimetype": "text/x-python",
   "name": "python",
   "nbconvert_exporter": "python",
   "pygments_lexer": "ipython3",
   "version": "3.6.4"
  }
 },
 "nbformat": 4,
 "nbformat_minor": 2
}
