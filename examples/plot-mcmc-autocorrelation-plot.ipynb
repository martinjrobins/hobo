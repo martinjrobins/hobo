{
 "cells": [
  {
   "cell_type": "markdown",
   "metadata": {},
   "source": [
    "# Inference plots - Autocorrelation plot\n",
    "\n",
    "This example extends from the inference-adaptive-covariance-mcmc: https://github.com/pints-team/pints/blob/master/examples/inference-adaptive-covariance-mcmc.ipynb, and shows you different way to plot the results of an MCMC routine.\n",
    "\n",
    "Inference plots\n",
<<<<<<< HEAD
    "* [Trace plots](https://github.com/pints-team/pints/blob/master/examples/plot-mcmc-trace-plots.ipynb)\n",
    "* [Pairwise scatterplots](https://github.com/pints-team/pints/blob/master/examples/plot-mcmc-pairwise-scatterplots.ipynb)\n",
    "* __Autocorrelation plot__\n",
    "* [Predicted time series](https://github.com/pints-team/pints/blob/master/examples/plot-mcmc-predicted-time-series.ipynb)\n"
=======
    "* Trace plots\n",
    "* Pairwise scatterplots\n",
    "* __Autocorrelation plot__\n",
    "* Posterior model-predicted time series\n"
>>>>>>> 4bf6671545a3e266c44bf9cfb38d8a7046e850a0
   ]
  },
  {
   "cell_type": "markdown",
   "metadata": {},
   "source": [
    "## Basic MCMC setup\n",
    "\n",
    "The same setup used in the inference-adaptive-covariance-mcmc example."
   ]
  },
  {
   "cell_type": "code",
   "execution_count": 1,
   "metadata": {
    "collapsed": true
   },
   "outputs": [],
   "source": [
    "from __future__ import print_function\n",
    "import pints\n",
    "import pints.toy as toy\n",
    "import numpy as np\n",
    "import matplotlib.pyplot as pl\n",
    "\n",
    "# Load a forward model\n",
    "model = toy.LogisticModel()\n",
    "\n",
    "# Create some toy data\n",
    "real_parameters = [0.015, 500]\n",
    "times = np.linspace(0, 1000, 100)\n",
    "org_values = model.simulate(real_parameters, times)\n",
    "\n",
    "# Add noise\n",
    "noise = 50\n",
    "values = org_values + np.random.normal(0, noise, org_values.shape)\n",
    "real_parameters = np.array(real_parameters + [noise])\n",
    "\n",
    "# Get properties of the noise sample\n",
    "noise_sample_mean = np.mean(values - org_values)\n",
    "noise_sample_std = np.std(values - org_values)\n",
    "\n",
    "# Create an object with links to the model and time series\n",
    "problem = pints.SingleSeriesProblem(model, times, values)\n",
    "\n",
    "# Create a log-likelihood function (adds an extra parameter!)\n",
    "log_likelihood = pints.UnknownNoiseLogLikelihood(problem)\n",
    "\n",
    "# Create a uniform prior over both the parameters and the new noise variable\n",
    "prior = pints.UniformPrior(\n",
    "    [0.01, 400, noise*0.1],\n",
    "    [0.02, 600, noise*100]\n",
    "    )\n",
    "\n",
    "# Create a Bayesian log-likelihood (prior * likelihood)\n",
    "log_likelihood = pints.BayesianLogLikelihood(prior, log_likelihood)\n",
    "\n",
    "# Run an adaptive mcmc routine\n",
    "x0 = real_parameters * 1.2\n",
    "mcmc = pints.AdaptiveCovarianceMCMC(log_likelihood, x0)\n",
    "mcmc.set_verbose(False)\n"
   ]
  },
  {
   "cell_type": "markdown",
   "metadata": {},
   "source": [
    "## Autocorrelation plot\n",
    "\n",
<<<<<<< HEAD
    "Autocorrelation is a number between negative 1 and positive 1 which measures how linearly dependent the current value of the chain is to past $\\tau$ values called lags. See, e.g., https://en.wikipedia.org/wiki/Autocorrelation.\n",
=======
    "Autocorrelation is a number between negative 1 and positive 1 which measures how linearly dependent the current value of the chain is to past $\\tau$ values called lags. \n",
>>>>>>> 4bf6671545a3e266c44bf9cfb38d8a7046e850a0
    "\n",
    "This allows us to diagnose the need for thinning and the number of iterations needed.\n"
   ]
  },
  {
   "cell_type": "code",
   "execution_count": 2,
   "metadata": {},
   "outputs": [
    {
     "name": "stdout",
     "output_type": "stream",
     "text": [
      "Running\n",
      "Done!\n",
      "Number of samples in the chain: 750\n"
     ]
    },
    {
     "data": {
<<<<<<< HEAD
      "image/png": "iVBORw0KGgoAAAANSUhEUgAAAYUAAAEKCAYAAAD9xUlFAAAABHNCSVQICAgIfAhkiAAAAAlwSFlz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\n",
      "text/plain": [
       "<matplotlib.figure.Figure at 0x7f166660f5d0>"
=======
      "image/png": "iVBORw0KGgoAAAANSUhEUgAAAYUAAAEOCAYAAABmVAtTAAAABHNCSVQICAgIfAhkiAAAAAlwSFlz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\nSJJahoIkqWUoSJJa/x9fl4cpc1kw5wAAAABJRU5ErkJggg==\n",
      "text/plain": [
       "<matplotlib.figure.Figure at 0x7f6657c79550>"
>>>>>>> 4bf6671545a3e266c44bf9cfb38d8a7046e850a0
      ]
     },
     "metadata": {},
     "output_type": "display_data"
    }
   ],
   "source": [
    "print('Running')\n",
    "chain = mcmc.run()\n",
    "print('Done!')\n",
    "\n",
    "# Show autocorrelation plot\n",
    "pl.figure()\n",
    "print('Number of samples in the chain: ' + str(len(chain[:,0])))\n",
    "pl.acorr(chain[:,0], maxlags=50, usevlines=True)\n",
    "pl.xlim(0,None)\n",
<<<<<<< HEAD
    "pl.xlabel('Lag')\n",
    "pl.ylabel('Autocorrelation')\n",
=======
    "pl.xlabel(r'$\\tau$ lags')\n",
    "pl.ylabel('autocorrelation')\n",
>>>>>>> 4bf6671545a3e266c44bf9cfb38d8a7046e850a0
    "pl.show()"
   ]
  }
 ],
 "metadata": {
  "kernelspec": {
   "display_name": "Python 2",
   "language": "python",
   "name": "python2"
  },
  "language_info": {
   "codemirror_mode": {
    "name": "ipython",
    "version": 2
   },
   "file_extension": ".py",
   "mimetype": "text/x-python",
   "name": "python",
   "nbconvert_exporter": "python",
   "pygments_lexer": "ipython2",
   "version": "2.7.14"
  }
 },
 "nbformat": 4,
 "nbformat_minor": 2
}
