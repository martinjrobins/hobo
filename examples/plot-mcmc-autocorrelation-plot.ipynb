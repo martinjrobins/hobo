{
 "cells": [
  {
   "cell_type": "markdown",
   "metadata": {},
   "source": [
    "# Inference plots - Autocorrelation plot\n",
    "\n",
    "This example extends from the inference-adaptive-covariance-mcmc: https://github.com/pints-team/pints/blob/master/examples/inference-adaptive-covariance-mcmc.ipynb, and shows you different way to plot the results of an MCMC routine.\n",
    "\n",
    "Inference plots\n",
    "* [Trace plots](https://github.com/pints-team/pints/blob/master/examples/plot-mcmc-trace-plots.ipynb)\n",
    "* [Pairwise scatterplots](https://github.com/pints-team/pints/blob/master/examples/plot-mcmc-pairwise-scatterplots.ipynb)\n",
    "* __Autocorrelation plot__\n",
    "* [Predicted time series](https://github.com/pints-team/pints/blob/master/examples/plot-mcmc-predicted-time-series.ipynb)\n"
   ]
  },
  {
   "cell_type": "markdown",
   "metadata": {},
   "source": [
    "## Basic MCMC setup\n",
    "\n",
    "The same setup used in the inference-adaptive-covariance-mcmc example."
   ]
  },
  {
   "cell_type": "code",
   "execution_count": 1,
   "metadata": {
    "collapsed": true
   },
   "outputs": [],
   "source": [
    "from __future__ import print_function\n",
    "import pints\n",
    "import pints.toy as toy\n",
    "import numpy as np\n",
    "import matplotlib.pyplot as pl\n",
    "\n",
    "# Load a forward model\n",
    "model = toy.LogisticModel()\n",
    "\n",
    "# Create some toy data\n",
    "real_parameters = [0.015, 500]\n",
    "times = np.linspace(0, 1000, 100)\n",
    "org_values = model.simulate(real_parameters, times)\n",
    "\n",
    "# Add noise\n",
    "noise = 50\n",
    "values = org_values + np.random.normal(0, noise, org_values.shape)\n",
    "real_parameters = np.array(real_parameters + [noise])\n",
    "\n",
    "# Get properties of the noise sample\n",
    "noise_sample_mean = np.mean(values - org_values)\n",
    "noise_sample_std = np.std(values - org_values)\n",
    "\n",
    "# Create an object with links to the model and time series\n",
    "problem = pints.SingleSeriesProblem(model, times, values)\n",
    "\n",
    "# Create a log-likelihood function (adds an extra parameter!)\n",
    "log_likelihood = pints.UnknownNoiseLogLikelihood(problem)\n",
    "\n",
    "# Create a uniform prior over both the parameters and the new noise variable\n",
    "prior = pints.UniformPrior(\n",
    "    [0.01, 400, noise*0.1],\n",
    "    [0.02, 600, noise*100]\n",
    "    )\n",
    "\n",
    "# Create a Bayesian log-likelihood (prior * likelihood)\n",
    "log_likelihood = pints.BayesianLogLikelihood(prior, log_likelihood)\n",
    "\n",
    "# Run an adaptive mcmc routine\n",
    "x0 = real_parameters * 1.2\n",
    "mcmc = pints.AdaptiveCovarianceMCMC(log_likelihood, x0)\n",
    "mcmc.set_verbose(False)\n"
   ]
  },
  {
   "cell_type": "markdown",
   "metadata": {},
   "source": [
    "## Autocorrelation plot\n",
    "\n",
    "Autocorrelation is a number between negative 1 and positive 1 which measures how linearly dependent the current value of the chain is to past $\\tau$ values called lags. See, e.g., https://en.wikipedia.org/wiki/Autocorrelation.\n",
    "\n",
    "This allows us to diagnose the need for thinning and the number of iterations needed.\n"
   ]
  },
  {
   "cell_type": "code",
   "execution_count": 3,
   "metadata": {},
   "outputs": [
    {
     "name": "stdout",
     "output_type": "stream",
     "text": [
      "Running\n",
      "Done!\n",
      "Number of samples in the chain: 750\n"
     ]
    },
    {
     "data": {
      "image/png": "[encoded data removed]",
      "text/plain": [
       "<matplotlib.figure.Figure at 0x7f90a60aae10>"
      ]
     },
     "metadata": {},
     "output_type": "display_data"
    }
   ],
   "source": [
    "print('Running')\n",
    "chain = mcmc.run()\n",
    "print('Done!')\n",
    "\n",
    "# Show autocorrelation plot\n",
    "pl.figure()\n",
    "print('Number of samples in the chain: ' + str(len(chain[:,0])))\n",
    "pl.acorr(chain[:,0], maxlags=50, usevlines=True)\n",
    "pl.xlim(0,None)\n",
    "pl.xlabel('Lag')\n",
    "pl.ylabel('Autocorrelation')\n",
    "pl.show()"
   ]
  },
  {
   "cell_type": "code",
   "execution_count": 7,
   "metadata": {},
   "outputs": [
    {
     "data": {
      "image/png": "[encoded data removed]",
      "text/plain": [
       "<matplotlib.figure.Figure at 0x7f909cbc6f50>"
      ]
     },
     "metadata": {},
     "output_type": "display_data"
    }
   ],
   "source": [
    "# Try another autocorrelation plot\n",
    "\n",
    "def autocorrelation(x) :\n",
    "    xp = x-np.mean(x)\n",
    "    f = np.fft.fft(xp)\n",
    "    p = np.array([np.real(v)**2+np.imag(v)**2 for v in f])\n",
    "    pi = np.fft.ifft(p)\n",
    "    return np.real(pi)[:x.size/2]/np.sum(xp**2)\n",
    "\n",
    "pl.figure()\n",
    "ax = pl.subplot(111)\n",
    "ax.stem(autocorrelation(chain[:,0]))\n",
    "ax.set_xlabel('Lag')\n",
    "ax.set_ylabel('Autocorrelation')\n",
    "pl.show()"
   ]
  }
 ],
 "metadata": {
  "kernelspec": {
   "display_name": "Python 2",
   "language": "python",
   "name": "python2"
  },
  "language_info": {
   "codemirror_mode": {
    "name": "ipython",
    "version": 2
   },
   "file_extension": ".py",
   "mimetype": "text/x-python",
   "name": "python",
   "nbconvert_exporter": "python",
   "pygments_lexer": "ipython2",
   "version": "2.7.14"
  }
 },
 "nbformat": 4,
 "nbformat_minor": 2
}
